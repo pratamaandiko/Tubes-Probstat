{
 "cells": [
  {
   "cell_type": "markdown",
   "metadata": {},
   "source": [
    "# Tugas Besar - IF2220 - Probabilitas dan Statistika"
   ]
  },
  {
   "cell_type": "markdown",
   "metadata": {},
   "source": [
    "## Soal"
   ]
  },
  {
   "cell_type": "markdown",
   "metadata": {},
   "source": [
    "Diberikan sebuah data Gandum.csv yang dapat diakses pada utas berikut: Dataset Tugas Besar IF2220. Gandum.csv merupakan data klasifikasi biji gandum yang mengandung 12 kolom sebagai berikut:\n",
    "1. id\n",
    "2. Daerah\n",
    "3. SumbuUtama\n",
    "4. SumbuKecil\n",
    "5. Keunikan\n",
    "6. AreaBulatan\n",
    "7. Diameter\n",
    "8. KadarAir\n",
    "9. Keliling\n",
    "10. Bulatan\n",
    "11. Ransum\n",
    "12. Kelas\n",
    "\n",
    "Kolom 2-11 adalah kolom atribut (non-target), sedangkan kolom 12 adalah kolom target.\n",
    "Anda diminta untuk melakukan analisis statistika sebagai berikut:"
   ]
  },
  {
   "cell_type": "markdown",
   "metadata": {},
   "source": [
    "### 1.Menulis deskripsi statistika (Descriptive Statistics) \n",
    "dari semua kolom pada data yang bersifat numerik, terdiri dari mean, median, modus, standar deviasi, variansi, range, nilai minimum, maksimum, kuartil, IQR, skewness dan kurtosis. Boleh juga ditambahkan deskripsi lain."
   ]
  },
  {
   "cell_type": "code",
   "execution_count": 46,
   "metadata": {
    "scrolled": true
   },
   "outputs": [
    {
     "data": {
      "text/html": [
       "<div>\n",
       "<style scoped>\n",
       "    .dataframe tbody tr th:only-of-type {\n",
       "        vertical-align: middle;\n",
       "    }\n",
       "\n",
       "    .dataframe tbody tr th {\n",
       "        vertical-align: top;\n",
       "    }\n",
       "\n",
       "    .dataframe thead th {\n",
       "        text-align: right;\n",
       "    }\n",
       "</style>\n",
       "<table border=\"1\" class=\"dataframe\">\n",
       "  <thead>\n",
       "    <tr style=\"text-align: right;\">\n",
       "      <th></th>\n",
       "      <th>id</th>\n",
       "      <th>Daerah</th>\n",
       "      <th>SumbuUtama</th>\n",
       "      <th>SumbuKecil</th>\n",
       "      <th>Keunikan</th>\n",
       "      <th>AreaBulatan</th>\n",
       "      <th>Diameter</th>\n",
       "      <th>KadarAir</th>\n",
       "      <th>Keliling</th>\n",
       "      <th>Bulatan</th>\n",
       "      <th>Ransum</th>\n",
       "      <th>Kelas</th>\n",
       "    </tr>\n",
       "  </thead>\n",
       "  <tbody>\n",
       "    <tr>\n",
       "      <th>0</th>\n",
       "      <td>1</td>\n",
       "      <td>5781</td>\n",
       "      <td>128.288875</td>\n",
       "      <td>58.470846</td>\n",
       "      <td>0.890095</td>\n",
       "      <td>5954</td>\n",
       "      <td>85.793926</td>\n",
       "      <td>0.674090</td>\n",
       "      <td>316.756</td>\n",
       "      <td>0.724041</td>\n",
       "      <td>2.194066</td>\n",
       "      <td>1</td>\n",
       "    </tr>\n",
       "    <tr>\n",
       "      <th>1</th>\n",
       "      <td>2</td>\n",
       "      <td>4176</td>\n",
       "      <td>109.348294</td>\n",
       "      <td>49.837688</td>\n",
       "      <td>0.890098</td>\n",
       "      <td>4277</td>\n",
       "      <td>72.918093</td>\n",
       "      <td>0.596231</td>\n",
       "      <td>260.346</td>\n",
       "      <td>0.774227</td>\n",
       "      <td>2.194088</td>\n",
       "      <td>1</td>\n",
       "    </tr>\n",
       "    <tr>\n",
       "      <th>2</th>\n",
       "      <td>3</td>\n",
       "      <td>4555</td>\n",
       "      <td>114.427991</td>\n",
       "      <td>52.151207</td>\n",
       "      <td>0.890105</td>\n",
       "      <td>4706</td>\n",
       "      <td>76.155145</td>\n",
       "      <td>0.776641</td>\n",
       "      <td>279.606</td>\n",
       "      <td>0.732159</td>\n",
       "      <td>2.194158</td>\n",
       "      <td>1</td>\n",
       "    </tr>\n",
       "    <tr>\n",
       "      <th>3</th>\n",
       "      <td>4</td>\n",
       "      <td>4141</td>\n",
       "      <td>108.701191</td>\n",
       "      <td>49.457349</td>\n",
       "      <td>0.890499</td>\n",
       "      <td>4236</td>\n",
       "      <td>72.611879</td>\n",
       "      <td>0.633180</td>\n",
       "      <td>260.478</td>\n",
       "      <td>0.766960</td>\n",
       "      <td>2.197877</td>\n",
       "      <td>1</td>\n",
       "    </tr>\n",
       "    <tr>\n",
       "      <th>4</th>\n",
       "      <td>5</td>\n",
       "      <td>5273</td>\n",
       "      <td>122.747869</td>\n",
       "      <td>55.757848</td>\n",
       "      <td>0.890876</td>\n",
       "      <td>5431</td>\n",
       "      <td>81.937733</td>\n",
       "      <td>0.669842</td>\n",
       "      <td>302.730</td>\n",
       "      <td>0.723031</td>\n",
       "      <td>2.201446</td>\n",
       "      <td>1</td>\n",
       "    </tr>\n",
       "  </tbody>\n",
       "</table>\n",
       "</div>"
      ],
      "text/plain": [
       "   id  Daerah  SumbuUtama  SumbuKecil  Keunikan  AreaBulatan   Diameter  \\\n",
       "0   1    5781  128.288875   58.470846  0.890095         5954  85.793926   \n",
       "1   2    4176  109.348294   49.837688  0.890098         4277  72.918093   \n",
       "2   3    4555  114.427991   52.151207  0.890105         4706  76.155145   \n",
       "3   4    4141  108.701191   49.457349  0.890499         4236  72.611879   \n",
       "4   5    5273  122.747869   55.757848  0.890876         5431  81.937733   \n",
       "\n",
       "   KadarAir  Keliling   Bulatan    Ransum  Kelas  \n",
       "0  0.674090   316.756  0.724041  2.194066      1  \n",
       "1  0.596231   260.346  0.774227  2.194088      1  \n",
       "2  0.776641   279.606  0.732159  2.194158      1  \n",
       "3  0.633180   260.478  0.766960  2.197877      1  \n",
       "4  0.669842   302.730  0.723031  2.201446      1  "
      ]
     },
     "execution_count": 46,
     "metadata": {},
     "output_type": "execute_result"
    }
   ],
   "source": [
    "# Import data\n",
    "from IPython.display import Markdown, display\n",
    "import pandas as pd\n",
    "import matplotlib.pyplot as plt\n",
    "import matplotlib.mlab as mlab\n",
    "import numpy as np\n",
    "import seaborn as sns\n",
    "import scipy\n",
    "\n",
    "def printMd(string):\n",
    "    display(Markdown(string))\n",
    "namaKolom = ['id','Daerah','SumbuUtama','SumbuKecil','Keunikan','AreaBulatan','Diameter','KadarAir','Keliling','Bulatan','Ransum','Kelas']\n",
    "gandum = pd.read_csv(\"Gandum.csv\", names = namaKolom)\n",
    "gandum.head()"
   ]
  },
  {
   "cell_type": "code",
   "execution_count": 47,
   "metadata": {},
   "outputs": [
    {
     "name": "stdout",
     "output_type": "stream",
     "text": [
      "------------- Mean -------------\n",
      "id              250.500000\n",
      "Daerah         4801.246000\n",
      "SumbuUtama      116.045171\n",
      "SumbuKecil       53.715246\n",
      "Keunikan          0.878764\n",
      "AreaBulatan    4937.048000\n",
      "Diameter         77.771158\n",
      "KadarAir          0.648372\n",
      "Keliling        281.479722\n",
      "Bulatan           0.761737\n",
      "Ransum            2.150915\n",
      "Kelas             1.502000\n",
      "dtype: float64\n",
      "\n",
      "\n",
      "\n",
      "------------- Median -------------\n",
      "id              250.500000\n",
      "Daerah         4735.000000\n",
      "SumbuUtama      115.405140\n",
      "SumbuKecil       53.731199\n",
      "Keunikan          0.890045\n",
      "AreaBulatan    4857.000000\n",
      "Diameter         77.645277\n",
      "KadarAir          0.626117\n",
      "Keliling        280.045500\n",
      "Bulatan           0.761288\n",
      "Ransum            2.193599\n",
      "Kelas             2.000000\n",
      "dtype: float64\n",
      "\n",
      "\n",
      "\n",
      "------------- Mode -------------\n",
      "      id  Daerah  SumbuUtama  SumbuKecil  Keunikan  AreaBulatan   Diameter  \\\n",
      "0      1  3992.0   74.133114   39.906517  0.719916       3802.0  71.293564   \n",
      "1      2  4881.0   74.364021   41.436419  0.725553       4913.0  78.833256   \n",
      "2      3  5642.0   74.691881   42.871879  0.731211          NaN  84.756224   \n",
      "3      4  6083.0   76.293164   43.284979  0.738639          NaN  88.006342   \n",
      "4      5     NaN   76.789043   44.119355  0.749282          NaN        NaN   \n",
      "..   ...     ...         ...         ...       ...          ...        ...   \n",
      "495  496     NaN  152.068440   63.322854  0.913724          NaN        NaN   \n",
      "496  497     NaN  152.113491   63.762307  0.913760          NaN        NaN   \n",
      "497  498     NaN  153.583387   64.012769  0.913891          NaN        NaN   \n",
      "498  499     NaN  227.105462   65.738475  0.913909          NaN        NaN   \n",
      "499  500     NaN  227.928583   68.977700  0.914001          NaN        NaN   \n",
      "\n",
      "     KadarAir  Keliling   Bulatan    Ransum  Kelas  \n",
      "0    0.735849   197.015  0.174590  1.440796    2.0  \n",
      "1    0.824405   200.587  0.261297  1.453137    NaN  \n",
      "2         NaN   202.456  0.299298  1.465950    NaN  \n",
      "3         NaN   207.325  0.589146  1.483456    NaN  \n",
      "4         NaN   207.697  0.603807  1.510000    NaN  \n",
      "..        ...       ...       ...       ...    ...  \n",
      "495       NaN   375.651  0.872417  2.461017    NaN  \n",
      "496       NaN   390.125  0.874243  2.461510    NaN  \n",
      "497       NaN   434.235  0.874743  2.463297    NaN  \n",
      "498       NaN   448.305  0.891706  2.463546    NaN  \n",
      "499       NaN   488.837  0.904748  2.464809    NaN  \n",
      "\n",
      "[500 rows x 12 columns]\n",
      "\n",
      "\n",
      "\n",
      "------------- Std. Deviasi -------------\n",
      "id              144.481833\n",
      "Daerah          986.395491\n",
      "SumbuUtama       18.282626\n",
      "SumbuKecil        4.071075\n",
      "Keunikan          0.036586\n",
      "AreaBulatan    1011.696255\n",
      "Diameter          8.056867\n",
      "KadarAir          0.094367\n",
      "Keliling         37.335402\n",
      "Bulatan           0.061702\n",
      "Ransum            0.249767\n",
      "Kelas             0.500497\n",
      "dtype: float64\n",
      "\n",
      "\n",
      "\n",
      "------------- Varians -------------\n",
      "id             2.087500e+04\n",
      "Daerah         9.729761e+05\n",
      "SumbuUtama     3.342544e+02\n",
      "SumbuKecil     1.657365e+01\n",
      "Keunikan       1.338528e-03\n",
      "AreaBulatan    1.023529e+06\n",
      "Diameter       6.491311e+01\n",
      "KadarAir       8.905149e-03\n",
      "Keliling       1.393932e+03\n",
      "Bulatan        3.807194e-03\n",
      "Ransum         6.238350e-02\n",
      "Kelas          2.504970e-01\n",
      "dtype: float64\n",
      "\n",
      "\n",
      "\n",
      "------------- Range -------------\n",
      "id            499.0\n",
      "Daerah        4931.0\n",
      "SumbuUtama    153.79546865999998\n",
      "SumbuKecil    29.071182429999993\n",
      "Keunikan      0.19408517999999997\n",
      "AreaBulatan   5141.0\n",
      "Diameter      40.747172240000005\n",
      "KadarAir      0.46897193099999995\n",
      "Keliling      291.822\n",
      "Bulatan       0.7301581349999999\n",
      "Ransum        1.0240129659999997\n",
      "Kelas         1.0\n",
      "\n",
      "\n",
      "\n",
      "------------- Minimum -------------\n",
      "id                1.000000\n",
      "Daerah         2522.000000\n",
      "SumbuUtama       74.133114\n",
      "SumbuKecil       39.906517\n",
      "Keunikan          0.719916\n",
      "AreaBulatan    2579.000000\n",
      "Diameter         56.666658\n",
      "KadarAir          0.409927\n",
      "Keliling        197.015000\n",
      "Bulatan           0.174590\n",
      "Ransum            1.440796\n",
      "Kelas             1.000000\n",
      "dtype: float64\n",
      "\n",
      "\n",
      "\n",
      "------------- Maksimum -------------\n",
      "id              500.000000\n",
      "Daerah         7453.000000\n",
      "SumbuUtama      227.928583\n",
      "SumbuKecil       68.977700\n",
      "Keunikan          0.914001\n",
      "AreaBulatan    7720.000000\n",
      "Diameter         97.413830\n",
      "KadarAir          0.878899\n",
      "Keliling        488.837000\n",
      "Bulatan           0.904748\n",
      "Ransum            2.464809\n",
      "Kelas             2.000000\n",
      "dtype: float64\n",
      "\n",
      "\n",
      "\n",
      "------------- IQR -------------\n",
      "id            249.5\n",
      "Daerah        1452.75\n",
      "SumbuUtama    24.93069385000001\n",
      "SumbuKecil    5.131581650000001\n",
      "Keunikan      0.04390216424999993\n",
      "AreaBulatan   1484.0\n",
      "Diameter      11.903290020000014\n",
      "KadarAir      0.15400088725000005\n",
      "Keliling      50.17950000000002\n",
      "Bulatan       0.06437024175000006\n",
      "Ransum        0.3976734275\n",
      "Kelas         1.0\n",
      "\n",
      "\n",
      "\n",
      "------------- Skewness -------------\n",
      "id             0.000000\n",
      "Daerah         0.238144\n",
      "SumbuUtama     0.761529\n",
      "SumbuKecil    -0.010828\n",
      "Keunikan      -1.623472\n",
      "AreaBulatan    0.257560\n",
      "Diameter       0.002725\n",
      "KadarAir       0.493661\n",
      "Keliling       0.733627\n",
      "Bulatan       -3.599237\n",
      "Ransum        -0.658188\n",
      "Kelas         -0.008024\n",
      "dtype: float64\n",
      "\n",
      "\n",
      "\n",
      "------------- Kurtosis -------------\n",
      "id             -1.200000\n",
      "Daerah         -0.434631\n",
      "SumbuUtama      4.330534\n",
      "SumbuKecil      0.475568\n",
      "Keunikan        2.917256\n",
      "AreaBulatan    -0.409685\n",
      "Diameter       -0.466455\n",
      "KadarAir       -0.740326\n",
      "Keliling        2.272685\n",
      "Bulatan        29.975096\n",
      "Ransum         -0.428656\n",
      "Kelas          -2.007984\n",
      "dtype: float64\n",
      "\n",
      "\n",
      "\n"
     ]
    }
   ],
   "source": [
    "print(\"------------- Mean -------------\")\n",
    "print(gandum.mean(numeric_only=True))\n",
    "print(\"\\n\\n\")\n",
    "print(\"------------- Median -------------\")\n",
    "print(gandum.median(numeric_only=True))\n",
    "#asumsi NaN tidak bisa menjadi mode\n",
    "print(\"\\n\\n\")\n",
    "print(\"------------- Mode -------------\")\n",
    "print(gandum.mode(numeric_only=True, dropna=True))\n",
    "print(\"\\n\\n\")\n",
    "print(\"------------- Std. Deviasi -------------\")\n",
    "print(gandum.std(numeric_only=True))\n",
    "print(\"\\n\\n\")\n",
    "print(\"------------- Varians -------------\")\n",
    "print(gandum.var(numeric_only=True))\n",
    "print(\"\\n\\n\")\n",
    "print(\"------------- Range -------------\")\n",
    "gandum_Describe = gandum.describe()\n",
    "for column in gandum_Describe:\n",
    "    print(f\"{column:12} \", gandum_Describe[column][\"max\"] - gandum_Describe[column][\"min\"])\n",
    "print(\"\\n\\n\")\n",
    "print(\"------------- Minimum -------------\")\n",
    "print(gandum.min(numeric_only=True))\n",
    "print(\"\\n\\n\")\n",
    "print(\"------------- Maksimum -------------\")\n",
    "print(gandum.max(numeric_only=True))\n",
    "print(\"\\n\\n\")\n",
    "print(\"------------- IQR -------------\")\n",
    "gandum_Describe = gandum.describe()\n",
    "for column in gandum_Describe:\n",
    "    print(f\"{column:12} \", gandum_Describe[column][\"75%\"] - gandum_Describe[column][\"25%\"])\n",
    "print(\"\\n\\n\")\n",
    "print(\"------------- Skewness -------------\")\n",
    "print(gandum.skew(numeric_only=True))\n",
    "print(\"\\n\\n\")\n",
    "print(\"------------- Kurtosis -------------\")\n",
    "print(gandum.kurtosis(numeric_only=True))\n",
    "print(\"\\n\\n\")"
   ]
  },
  {
   "cell_type": "code",
   "execution_count": 48,
   "metadata": {},
   "outputs": [
    {
     "name": "stdout",
     "output_type": "stream",
     "text": [
      "------------- Kuartil -------------\n"
     ]
    },
    {
     "data": {
      "text/html": [
       "<div>\n",
       "<style scoped>\n",
       "    .dataframe tbody tr th:only-of-type {\n",
       "        vertical-align: middle;\n",
       "    }\n",
       "\n",
       "    .dataframe tbody tr th {\n",
       "        vertical-align: top;\n",
       "    }\n",
       "\n",
       "    .dataframe thead th {\n",
       "        text-align: right;\n",
       "    }\n",
       "</style>\n",
       "<table border=\"1\" class=\"dataframe\">\n",
       "  <thead>\n",
       "    <tr style=\"text-align: right;\">\n",
       "      <th></th>\n",
       "      <th>id</th>\n",
       "      <th>Daerah</th>\n",
       "      <th>SumbuUtama</th>\n",
       "      <th>SumbuKecil</th>\n",
       "      <th>Keunikan</th>\n",
       "      <th>AreaBulatan</th>\n",
       "      <th>Diameter</th>\n",
       "      <th>KadarAir</th>\n",
       "      <th>Keliling</th>\n",
       "      <th>Bulatan</th>\n",
       "      <th>Ransum</th>\n",
       "      <th>Kelas</th>\n",
       "    </tr>\n",
       "  </thead>\n",
       "  <tbody>\n",
       "    <tr>\n",
       "      <th>25%</th>\n",
       "      <td>125.75</td>\n",
       "      <td>4042.75</td>\n",
       "      <td>104.116098</td>\n",
       "      <td>51.193576</td>\n",
       "      <td>0.863676</td>\n",
       "      <td>4170.25</td>\n",
       "      <td>71.745308</td>\n",
       "      <td>0.572632</td>\n",
       "      <td>255.8830</td>\n",
       "      <td>0.731991</td>\n",
       "      <td>1.983939</td>\n",
       "      <td>1.0</td>\n",
       "    </tr>\n",
       "    <tr>\n",
       "      <th>50%</th>\n",
       "      <td>250.50</td>\n",
       "      <td>4735.00</td>\n",
       "      <td>115.405140</td>\n",
       "      <td>53.731199</td>\n",
       "      <td>0.890045</td>\n",
       "      <td>4857.00</td>\n",
       "      <td>77.645277</td>\n",
       "      <td>0.626117</td>\n",
       "      <td>280.0455</td>\n",
       "      <td>0.761288</td>\n",
       "      <td>2.193599</td>\n",
       "      <td>2.0</td>\n",
       "    </tr>\n",
       "    <tr>\n",
       "      <th>75%</th>\n",
       "      <td>375.25</td>\n",
       "      <td>5495.50</td>\n",
       "      <td>129.046792</td>\n",
       "      <td>56.325158</td>\n",
       "      <td>0.907578</td>\n",
       "      <td>5654.25</td>\n",
       "      <td>83.648598</td>\n",
       "      <td>0.726633</td>\n",
       "      <td>306.0625</td>\n",
       "      <td>0.796361</td>\n",
       "      <td>2.381612</td>\n",
       "      <td>2.0</td>\n",
       "    </tr>\n",
       "  </tbody>\n",
       "</table>\n",
       "</div>"
      ],
      "text/plain": [
       "         id   Daerah  SumbuUtama  SumbuKecil  Keunikan  AreaBulatan  \\\n",
       "25%  125.75  4042.75  104.116098   51.193576  0.863676      4170.25   \n",
       "50%  250.50  4735.00  115.405140   53.731199  0.890045      4857.00   \n",
       "75%  375.25  5495.50  129.046792   56.325158  0.907578      5654.25   \n",
       "\n",
       "      Diameter  KadarAir  Keliling   Bulatan    Ransum  Kelas  \n",
       "25%  71.745308  0.572632  255.8830  0.731991  1.983939    1.0  \n",
       "50%  77.645277  0.626117  280.0455  0.761288  2.193599    2.0  \n",
       "75%  83.648598  0.726633  306.0625  0.796361  2.381612    2.0  "
      ]
     },
     "execution_count": 48,
     "metadata": {},
     "output_type": "execute_result"
    }
   ],
   "source": [
    "print(\"------------- Kuartil -------------\")\n",
    "gandum.describe().loc[['25%','50%','75%']]"
   ]
  },
  {
   "cell_type": "markdown",
   "metadata": {},
   "source": [
    "### 2. Membuat Visualisasi plot distribusi\n",
    "dalam bentuk histogram dan boxplot untuk setiap kolom numerik. Berikan uraian penjelasan kondisi setiap kolom berdasarkan kedua plot tersebut."
   ]
  },
  {
   "cell_type": "markdown",
   "metadata": {},
   "source": [
    "<b>Daerah</b>\n",
    "\n",
    "Histogram menunjukkan diagram yang hampir normal meskipun sedikit skew positif. Karena itu, boxplot juga terlihat hampir simetris"
   ]
  },
  {
   "cell_type": "code",
   "execution_count": 49,
   "metadata": {},
   "outputs": [
    {
     "data": {
      "text/plain": [
       "<seaborn.axisgrid.FacetGrid at 0x7fe9e0822df0>"
      ]
     },
     "execution_count": 49,
     "metadata": {},
     "output_type": "execute_result"
    },
    {
     "data": {
      "image/png": "[encoded data removed]",
      "text/plain": [
       "<Figure size 360x360 with 1 Axes>"
      ]
     },
     "metadata": {
      "needs_background": "light"
     },
     "output_type": "display_data"
    }
   ],
   "source": [
    "sns.displot(gandum[\"Daerah\"], stat=\"density\", kde=True, bins=50)\n",
    "# gandum.hist(\"Daerah\")"
   ]
  },
  {
   "cell_type": "code",
   "execution_count": 50,
   "metadata": {},
   "outputs": [
    {
     "data": {
      "text/plain": [
       "<matplotlib.axes._subplots.AxesSubplot at 0x7fe9db4804c0>"
      ]
     },
     "execution_count": 50,
     "metadata": {},
     "output_type": "execute_result"
    },
    {
     "data": {
      "image/png": "[encoded data removed]",
      "text/plain": [
       "<Figure size 432x288 with 1 Axes>"
      ]
     },
     "metadata": {
      "needs_background": "light"
     },
     "output_type": "display_data"
    }
   ],
   "source": [
    "gandum.boxplot(\"Daerah\")"
   ]
  },
  {
   "cell_type": "markdown",
   "metadata": {},
   "source": [
    "<b>SumbuUtama</b>"
   ]
  },
  {
   "cell_type": "code",
   "execution_count": 51,
   "metadata": {},
   "outputs": [
    {
     "data": {
      "text/plain": [
       "<seaborn.axisgrid.FacetGrid at 0x7fe9db5bb610>"
      ]
     },
     "execution_count": 51,
     "metadata": {},
     "output_type": "execute_result"
    },
    {
     "data": {
      "image/png": "[encoded data removed]",
      "text/plain": [
       "<Figure size 360x360 with 1 Axes>"
      ]
     },
     "metadata": {
      "needs_background": "light"
     },
     "output_type": "display_data"
    }
   ],
   "source": [
    "sns.displot(gandum[\"SumbuUtama\"], stat=\"density\", kde=True, bins=50)\n",
    "# gandum[\"SumbuUtama\"].hist(bins=15)"
   ]
  },
  {
   "cell_type": "code",
   "execution_count": 52,
   "metadata": {},
   "outputs": [
    {
     "data": {
      "text/plain": [
       "<matplotlib.axes._subplots.AxesSubplot at 0x7fe9db400fa0>"
      ]
     },
     "execution_count": 52,
     "metadata": {},
     "output_type": "execute_result"
    },
    {
     "data": {
      "image/png": "[encoded data removed]",
      "text/plain": [
       "<Figure size 432x288 with 1 Axes>"
      ]
     },
     "metadata": {
      "needs_background": "light"
     },
     "output_type": "display_data"
    }
   ],
   "source": [
    "gandum.boxplot(\"SumbuUtama\")"
   ]
  },
  {
   "cell_type": "markdown",
   "metadata": {},
   "source": [
    "<b>SumbuKecil</b>"
   ]
  },
  {
   "cell_type": "code",
   "execution_count": 53,
   "metadata": {},
   "outputs": [
    {
     "data": {
      "text/plain": [
       "<seaborn.axisgrid.FacetGrid at 0x7fe9db2fe550>"
      ]
     },
     "execution_count": 53,
     "metadata": {},
     "output_type": "execute_result"
    },
    {
     "data": {
      "image/png": "[encoded data removed]",
      "text/plain": [
       "<Figure size 360x360 with 1 Axes>"
      ]
     },
     "metadata": {
      "needs_background": "light"
     },
     "output_type": "display_data"
    }
   ],
   "source": [
    "sns.displot(gandum[\"SumbuKecil\"], stat=\"density\", kde=True, bins=50)\n",
    "# gandum[\"SumbuKecil\"].hist(bins=15)"
   ]
  },
  {
   "cell_type": "code",
   "execution_count": 54,
   "metadata": {},
   "outputs": [
    {
     "data": {
      "text/plain": [
       "<matplotlib.axes._subplots.AxesSubplot at 0x7fe9db5ab0a0>"
      ]
     },
     "execution_count": 54,
     "metadata": {},
     "output_type": "execute_result"
    },
    {
     "data": {
      "image/png": "[encoded data removed]",
      "text/plain": [
       "<Figure size 432x288 with 1 Axes>"
      ]
     },
     "metadata": {
      "needs_background": "light"
     },
     "output_type": "display_data"
    }
   ],
   "source": [
    "gandum.boxplot(\"SumbuKecil\")"
   ]
  },
  {
   "cell_type": "markdown",
   "metadata": {},
   "source": [
    "<b>Keunikan</b>"
   ]
  },
  {
   "cell_type": "code",
   "execution_count": 55,
   "metadata": {},
   "outputs": [
    {
     "data": {
      "text/plain": [
       "<seaborn.axisgrid.FacetGrid at 0x7fe9db6259d0>"
      ]
     },
     "execution_count": 55,
     "metadata": {},
     "output_type": "execute_result"
    },
    {
     "data": {
      "image/png": "[encoded data removed]",
      "text/plain": [
       "<Figure size 360x360 with 1 Axes>"
      ]
     },
     "metadata": {
      "needs_background": "light"
     },
     "output_type": "display_data"
    }
   ],
   "source": [
    "sns.displot(gandum[\"Keunikan\"], stat=\"density\", kde=True, bins=50)\n",
    "# gandum[\"Keunikan\"].hist(bins=15)"
   ]
  },
  {
   "cell_type": "code",
   "execution_count": 56,
   "metadata": {},
   "outputs": [
    {
     "data": {
      "text/plain": [
       "<matplotlib.axes._subplots.AxesSubplot at 0x7fe9db75c9d0>"
      ]
     },
     "execution_count": 56,
     "metadata": {},
     "output_type": "execute_result"
    },
    {
     "data": {
      "image/png": "[encoded data removed]",
      "text/plain": [
       "<Figure size 432x288 with 1 Axes>"
      ]
     },
     "metadata": {
      "needs_background": "light"
     },
     "output_type": "display_data"
    }
   ],
   "source": [
    "gandum.boxplot(\"Keunikan\")"
   ]
  },
  {
   "cell_type": "markdown",
   "metadata": {},
   "source": [
    "<b>AreaBulatan</b>"
   ]
  },
  {
   "cell_type": "code",
   "execution_count": 57,
   "metadata": {},
   "outputs": [
    {
     "data": {
      "text/plain": [
       "<seaborn.axisgrid.FacetGrid at 0x7fe9db7e5f70>"
      ]
     },
     "execution_count": 57,
     "metadata": {},
     "output_type": "execute_result"
    },
    {
     "data": {
      "image/png": "[encoded data removed]",
      "text/plain": [
       "<Figure size 360x360 with 1 Axes>"
      ]
     },
     "metadata": {
      "needs_background": "light"
     },
     "output_type": "display_data"
    }
   ],
   "source": [
    "sns.displot(gandum[\"AreaBulatan\"], stat=\"density\", kde=True, bins=50)\n",
    "# gandum[\"AreaBulatan\"].hist(bins=15)"
   ]
  },
  {
   "cell_type": "code",
   "execution_count": 58,
   "metadata": {},
   "outputs": [
    {
     "data": {
      "text/plain": [
       "<matplotlib.axes._subplots.AxesSubplot at 0x7fe9db654760>"
      ]
     },
     "execution_count": 58,
     "metadata": {},
     "output_type": "execute_result"
    },
    {
     "data": {
      "image/png": "[encoded data removed]",
      "text/plain": [
       "<Figure size 432x288 with 1 Axes>"
      ]
     },
     "metadata": {
      "needs_background": "light"
     },
     "output_type": "display_data"
    }
   ],
   "source": [
    "gandum.boxplot(\"AreaBulatan\")"
   ]
  },
  {
   "cell_type": "markdown",
   "metadata": {},
   "source": [
    "<b>Diameter</b>"
   ]
  },
  {
   "cell_type": "code",
   "execution_count": 59,
   "metadata": {},
   "outputs": [
    {
     "data": {
      "text/plain": [
       "<seaborn.axisgrid.FacetGrid at 0x7fe9db2c60a0>"
      ]
     },
     "execution_count": 59,
     "metadata": {},
     "output_type": "execute_result"
    },
    {
     "data": {
      "image/png": "[encoded data removed]",
      "text/plain": [
       "<Figure size 360x360 with 1 Axes>"
      ]
     },
     "metadata": {
      "needs_background": "light"
     },
     "output_type": "display_data"
    }
   ],
   "source": [
    "sns.displot(gandum[\"Diameter\"], stat=\"density\", kde=True, bins=50)\n",
    "# gandum[\"Diameter\"].hist(bins=20)"
   ]
  },
  {
   "cell_type": "code",
   "execution_count": 60,
   "metadata": {},
   "outputs": [
    {
     "data": {
      "text/plain": [
       "<matplotlib.axes._subplots.AxesSubplot at 0x7fe9db1a6910>"
      ]
     },
     "execution_count": 60,
     "metadata": {},
     "output_type": "execute_result"
    },
    {
     "data": {
      "image/png": "[encoded data removed]",
      "text/plain": [
       "<Figure size 432x288 with 1 Axes>"
      ]
     },
     "metadata": {
      "needs_background": "light"
     },
     "output_type": "display_data"
    }
   ],
   "source": [
    "gandum.boxplot(\"Diameter\")"
   ]
  },
  {
   "cell_type": "markdown",
   "metadata": {},
   "source": [
    "<b>KadarAir</b>"
   ]
  },
  {
   "cell_type": "code",
   "execution_count": 61,
   "metadata": {},
   "outputs": [
    {
     "data": {
      "text/plain": [
       "<seaborn.axisgrid.FacetGrid at 0x7fe9db190e80>"
      ]
     },
     "execution_count": 61,
     "metadata": {},
     "output_type": "execute_result"
    },
    {
     "data": {
      "image/png": "[encoded data removed]",
      "text/plain": [
       "<Figure size 360x360 with 1 Axes>"
      ]
     },
     "metadata": {
      "needs_background": "light"
     },
     "output_type": "display_data"
    }
   ],
   "source": [
    "sns.displot(gandum[\"KadarAir\"], stat=\"density\", kde=True, bins=50)\n",
    "# gandum[\"KadarAir\"].hist(bins=20)"
   ]
  },
  {
   "cell_type": "code",
   "execution_count": 62,
   "metadata": {},
   "outputs": [
    {
     "data": {
      "text/plain": [
       "<matplotlib.axes._subplots.AxesSubplot at 0x7fe9db06ba00>"
      ]
     },
     "execution_count": 62,
     "metadata": {},
     "output_type": "execute_result"
    },
    {
     "data": {
      "image/png": "[encoded data removed]",
      "text/plain": [
       "<Figure size 432x288 with 1 Axes>"
      ]
     },
     "metadata": {
      "needs_background": "light"
     },
     "output_type": "display_data"
    }
   ],
   "source": [
    "gandum.boxplot(\"KadarAir\")"
   ]
  },
  {
   "cell_type": "markdown",
   "metadata": {},
   "source": [
    "<b>Keliling</b>"
   ]
  },
  {
   "cell_type": "code",
   "execution_count": 63,
   "metadata": {},
   "outputs": [
    {
     "data": {
      "text/plain": [
       "<seaborn.axisgrid.FacetGrid at 0x7fe9db044e80>"
      ]
     },
     "execution_count": 63,
     "metadata": {},
     "output_type": "execute_result"
    },
    {
     "data": {
      "image/png": "[encoded data removed]",
      "text/plain": [
       "<Figure size 360x360 with 1 Axes>"
      ]
     },
     "metadata": {
      "needs_background": "light"
     },
     "output_type": "display_data"
    }
   ],
   "source": [
    "sns.displot(gandum[\"Keliling\"], stat=\"density\", kde=True, bins=50)\n",
    "# gandum[\"Keliling\"].hist()"
   ]
  },
  {
   "cell_type": "code",
   "execution_count": 64,
   "metadata": {},
   "outputs": [
    {
     "data": {
      "text/plain": [
       "<matplotlib.axes._subplots.AxesSubplot at 0x7fe9db009670>"
      ]
     },
     "execution_count": 64,
     "metadata": {},
     "output_type": "execute_result"
    },
    {
     "data": {
      "image/png": "[encoded data removed]",
      "text/plain": [
       "<Figure size 432x288 with 1 Axes>"
      ]
     },
     "metadata": {
      "needs_background": "light"
     },
     "output_type": "display_data"
    }
   ],
   "source": [
    "gandum.boxplot(\"Keliling\")"
   ]
  },
  {
   "cell_type": "markdown",
   "metadata": {},
   "source": [
    "<b>Bulatan</b>"
   ]
  },
  {
   "cell_type": "code",
   "execution_count": 65,
   "metadata": {},
   "outputs": [
    {
     "data": {
      "text/plain": [
       "<seaborn.axisgrid.FacetGrid at 0x7fe9daef2910>"
      ]
     },
     "execution_count": 65,
     "metadata": {},
     "output_type": "execute_result"
    },
    {
     "data": {
      "image/png": "[encoded data removed]",
      "text/plain": [
       "<Figure size 360x360 with 1 Axes>"
      ]
     },
     "metadata": {
      "needs_background": "light"
     },
     "output_type": "display_data"
    }
   ],
   "source": [
    "sns.displot(gandum[\"Bulatan\"], stat=\"density\", kde=True, bins=50)\n",
    "# gandum[\"Bulatan\"].hist()"
   ]
  },
  {
   "cell_type": "code",
   "execution_count": 66,
   "metadata": {},
   "outputs": [
    {
     "data": {
      "text/plain": [
       "<matplotlib.axes._subplots.AxesSubplot at 0x7fe9dae48460>"
      ]
     },
     "execution_count": 66,
     "metadata": {},
     "output_type": "execute_result"
    },
    {
     "data": {
      "image/png": "[encoded data removed]",
      "text/plain": [
       "<Figure size 432x288 with 1 Axes>"
      ]
     },
     "metadata": {
      "needs_background": "light"
     },
     "output_type": "display_data"
    }
   ],
   "source": [
    "gandum.boxplot(\"Bulatan\")"
   ]
  },
  {
   "cell_type": "markdown",
   "metadata": {},
   "source": [
    "<b>Ransum</b>"
   ]
  },
  {
   "cell_type": "code",
   "execution_count": 67,
   "metadata": {},
   "outputs": [
    {
     "data": {
      "text/plain": [
       "<seaborn.axisgrid.FacetGrid at 0x7fe9dad9e2b0>"
      ]
     },
     "execution_count": 67,
     "metadata": {},
     "output_type": "execute_result"
    },
    {
     "data": {
      "image/png": "[encoded data removed]",
      "text/plain": [
       "<Figure size 360x360 with 1 Axes>"
      ]
     },
     "metadata": {
      "needs_background": "light"
     },
     "output_type": "display_data"
    }
   ],
   "source": [
    "sns.displot(gandum[\"Ransum\"], stat=\"density\", kde=True, bins=50)\n",
    "# gandum[\"Ransum\"].hist()"
   ]
  },
  {
   "cell_type": "code",
   "execution_count": 68,
   "metadata": {},
   "outputs": [
    {
     "data": {
      "text/plain": [
       "<matplotlib.axes._subplots.AxesSubplot at 0x7fe9db656250>"
      ]
     },
     "execution_count": 68,
     "metadata": {},
     "output_type": "execute_result"
    },
    {
     "data": {
      "image/png": "[encoded data removed]",
      "text/plain": [
       "<Figure size 432x288 with 1 Axes>"
      ]
     },
     "metadata": {
      "needs_background": "light"
     },
     "output_type": "display_data"
    }
   ],
   "source": [
    "gandum.boxplot(\"Ransum\")"
   ]
  },
  {
   "cell_type": "markdown",
   "metadata": {},
   "source": [
    "### 3. Menentukan setiap kolom numerik berdistribusi normal atau tidak\n",
    "Berdasarkan penggambaran histogram yang sudah dilakukan:\n",
    "\n",
    "**Daerah** tidak berdistribusi normal\n",
    "\n",
    "**SumbuUtama** tidak berdistribusi normal\n",
    "\n",
    "**SumbuKecil** berdistribusi normal\n",
    "\n",
    "**Keunikan** tidak berdistribusi normal\n",
    "\n",
    "**AreaBulatan** tidak berdistribusi normal\n",
    "\n",
    "**Diameter** berdistribusi normal\n",
    "\n",
    "**KadarAir** tidak berdistribusi normal\n",
    "\n",
    "**Keliling** tidak berdistribusi normal\n",
    "\n",
    "**Bulatan** berdistribusi normal\n",
    "\n",
    "**Ransum** tidak berdistribusi normal\n"
   ]
  },
  {
   "cell_type": "markdown",
   "metadata": {},
   "source": [
    "### 4. Melakukan test hipotesis 1 sampel, dengan menuliskan 6 langkah testing\n",
    "   menampilkan juga boxplotnya untuk kolom/bagian yang bersesuaian.<br>\n",
    "   Diambil sampel sebesar 218 dari 500<br>"
   ]
  },
  {
   "cell_type": "code",
   "execution_count": 69,
   "metadata": {},
   "outputs": [],
   "source": [
    "#diambil sampel gandum sebesar 218\n",
    "splSize = 218\n",
    "sampleGandum = gandum.sample(splSize)\n",
    "\n",
    "#fungsi untuk menghitung z score\n",
    "def zScore(spMean, popMean, popStd, nSample):\n",
    "    return ((spMean-popMean)*(nSample)**(1/2))/popStd"
   ]
  },
  {
   "cell_type": "code",
   "execution_count": 70,
   "metadata": {},
   "outputs": [
    {
     "name": "stdout",
     "output_type": "stream",
     "text": [
      "Mean sampel =  4811.90366972477\n",
      "Z score yang didapat :  1.6750257858491513\n",
      "P value nya adalah :  0.0469645862508748\n"
     ]
    },
    {
     "data": {
      "text/plain": [
       "<matplotlib.axes._subplots.AxesSubplot at 0x7fe9dacd3250>"
      ]
     },
     "execution_count": 70,
     "metadata": {},
     "output_type": "execute_result"
    },
    {
     "data": {
      "image/png": "[encoded data removed]",
      "text/plain": [
       "<Figure size 432x288 with 1 Axes>"
      ]
     },
     "metadata": {
      "needs_background": "light"
     },
     "output_type": "display_data"
    }
   ],
   "source": [
    "# 4a. Nilai rata-rata Daerah di atas 4700?\n",
    "# 1) null hypothesis : mean = 4700\n",
    "# 2) alternative hypothesis : mean > 4700\n",
    "# 3) alpha : 0.05\n",
    "# 4) karena digunakan alpha = 0.05, daerah kritis: Z > 1.645\n",
    "# 5) uji nilai tes statistik one tailed : \n",
    "splMean = sampleGandum[\"Daerah\"].mean()\n",
    "print(\"Mean sampel = \", splMean)\n",
    "zscr = zScore(splMean, 4700, gandum[\"Daerah\"].std(),218)\n",
    "print(\"Z score yang didapat : \", zscr)\n",
    "print(\"P value nya adalah : \", scipy.stats.norm.sf(abs(zscr))) #onesided\n",
    "# 6)nilai Z berada pada daerah kritis dan p-value lebih kecil dari alpha, maka tolak null hypothesis\n",
    "\n",
    "#boxplot\n",
    "sampleGandum.boxplot(\"Daerah\")"
   ]
  },
  {
   "cell_type": "code",
   "execution_count": 71,
   "metadata": {},
   "outputs": [
    {
     "name": "stdout",
     "output_type": "stream",
     "text": [
      "Mean sampel =  116.520780316422\n",
      "Z score yang didapat :  0.42057575553275434\n",
      "P value nya adalah :  0.67406490056096\n"
     ]
    },
    {
     "data": {
      "text/plain": [
       "<matplotlib.axes._subplots.AxesSubplot at 0x7fe9dac203a0>"
      ]
     },
     "execution_count": 71,
     "metadata": {},
     "output_type": "execute_result"
    },
    {
     "data": {
      "image/png": "[encoded data removed]",
      "text/plain": [
       "<Figure size 432x288 with 1 Axes>"
      ]
     },
     "metadata": {
      "needs_background": "light"
     },
     "output_type": "display_data"
    }
   ],
   "source": [
    "# 4b. Nilai Rata-rata Sumbu Utama tidak sama dengan 116?\n",
    "# 1) null hypothesis : mean = 116\n",
    "# 2) alternative hypothesis : mean ≠ 116\n",
    "# 3) alpha : 0.05\n",
    "# 4) digunakan alpha = 0.05 dan statistik two tailed\n",
    "# \tmaka daerah kritis: Z < -1.96 dan 1.96 < Z\n",
    "# 5) uji nilai statistik two tailed :\n",
    "splMean = sampleGandum[\"SumbuUtama\"].mean()\n",
    "print(\"Mean sampel = \", splMean)\n",
    "zscr = zScore(splMean, 116, gandum[\"SumbuUtama\"].std(),218)\n",
    "print(\"Z score yang didapat : \", zscr)\n",
    "print(\"P value nya adalah : \", scipy.stats.norm.sf(abs(zscr))*2)\n",
    "# 6) nilai Z tidak berada pada daerah kritis dan p-value lebih besar dari alpha, maka gagal untuk menolak null hypothesis.\n",
    "\n",
    "#BOXPLOT BELUM\n",
    "sampleGandum.boxplot(\"SumbuUtama\")"
   ]
  },
  {
   "cell_type": "code",
   "execution_count": 72,
   "metadata": {},
   "outputs": [
    {
     "name": "stdout",
     "output_type": "stream",
     "text": [
      "Mean 20 pertama :  54.8872762605\n",
      "Z score yang didapat :  5.368745408889905\n",
      "P value nya adalah :  7.928624964898141e-08 (mendekati 0)"
     ]
    },
    {
     "data": {
      "text/plain": [
       "<matplotlib.axes._subplots.AxesSubplot at 0x7fe9dac0e970>"
      ]
     },
     "execution_count": 72,
     "metadata": {},
     "output_type": "execute_result"
    },
    {
     "data": {
      "image/png": "[encoded data removed]",
      "text/plain": [
       "<Figure size 432x288 with 1 Axes>"
      ]
     },
     "metadata": {
      "needs_background": "light"
     },
     "output_type": "display_data"
    }
   ],
   "source": [
    "# 4c. Nilai Rata-rata 20 baris pertama kolom Sumbu Kecil bukan 50?\n",
    "# diketahui dari data 20 pertama:\n",
    "# mean = 54.887\n",
    "# std = 3.373\n",
    "\n",
    "# 1) null hypothesis : mean = 50\n",
    "# 2) alternative hypothesis : mean ≠ 50\n",
    "# 3) alpha = 0.05\n",
    "# 4) digunakan alpha = 0.05 dan statistik two tailed\n",
    "# \tmaka daerah kritis: Z < -1.96 dan 1.96 < Z\n",
    "# 5) uji nilai statistik two tailed:\n",
    "meanFirstTwnty = gandum[\"SumbuKecil\"].loc[:19].mean()\n",
    "print(\"Mean 20 pertama : \",meanFirstTwnty)\n",
    "zscr = zScore(meanFirstTwnty, 50, gandum[\"SumbuKecil\"].std(),20)\n",
    "print(\"Z score yang didapat : \", zscr)\n",
    "print(\"P value nya adalah : \", scipy.stats.norm.sf(abs(zscr))*2, end=' (mendekati 0)')\n",
    "# 6) nilai Z berada pada daerah kritis, maka null hypothesis ditolak\n",
    "\n",
    "sampleGandum.boxplot(\"SumbuKecil\")"
   ]
  },
  {
   "cell_type": "code",
   "execution_count": 73,
   "metadata": {},
   "outputs": [
    {
     "name": "stdout",
     "output_type": "stream",
     "text": [
      "Jumlah diameter gandum yang lebih dari 85 :  56\n",
      "Z score yang didapat :  4.419494337961525\n",
      "P value nya adalah :  9.893211329629655e-06\n"
     ]
    },
    {
     "data": {
      "text/plain": [
       "<matplotlib.axes._subplots.AxesSubplot at 0x7fe9dab5c4f0>"
      ]
     },
     "execution_count": 73,
     "metadata": {},
     "output_type": "execute_result"
    },
    {
     "data": {
      "image/png": "[encoded data removed]",
      "text/plain": [
       "<Figure size 432x288 with 1 Axes>"
      ]
     },
     "metadata": {
      "needs_background": "light"
     },
     "output_type": "display_data"
    }
   ],
   "source": [
    "# 4d. Proporsi nilai Diameter yang lebih dari 85, adalah tidak sama dengan 15% ?\n",
    "# 1) null hypothesis : P = 0.15\n",
    "# 2) alternative hypothesis : P ≠ 0.15\n",
    "# 3) alpha = 0.05\n",
    "# 4) digunakan alpha = 0.05 dan statistik two tailed\n",
    "# \tmaka daerah kritis: Z < -1.96 dan 1.96 < Z\n",
    "# 5) uji nilai statistik two tailed:\n",
    "#   P(Diameter > 85) = 97/500 = 0.194\n",
    "# \tZ = 0.194-0.15/(√0.15*0.85/500) = 2.755\n",
    "# \tp = 2(P<-2.755) = 0.00587\n",
    "amtConstraint = len(sampleGandum[\"Diameter\"].loc[sampleGandum[\"Diameter\"] > 85])\n",
    "print(\"Jumlah diameter gandum yang lebih dari 85 : \", amtConstraint)\n",
    "zscr = ((amtConstraint/splSize)-0.15)/(0.15*0.85/splSize)**(1/2)\n",
    "print(\"Z score yang didapat : \", zscr)\n",
    "print(\"P value nya adalah : \", scipy.stats.norm.sf(abs(zscr))*2) \n",
    "# 6) nilai Z tak berada pada daerah kritis, maka null hypothesis gagal ditolak\n",
    "\n",
    "sampleGandum.boxplot(\"Diameter\")"
   ]
  },
  {
   "cell_type": "code",
   "execution_count": 74,
   "metadata": {},
   "outputs": [
    {
     "name": "stdout",
     "output_type": "stream",
     "text": [
      "Jumlah keliling gandum yang kurang dari 100 :  0\n",
      "Z score yang didapat :  -6.202466302632697\n",
      "P value nya adalah :  2.779254463865401e-10\n"
     ]
    },
    {
     "data": {
      "text/plain": [
       "<matplotlib.axes._subplots.AxesSubplot at 0x7fe9dab463d0>"
      ]
     },
     "execution_count": 74,
     "metadata": {},
     "output_type": "execute_result"
    },
    {
     "data": {
      "image/png": "[encoded data removed]",
      "text/plain": [
       "<Figure size 432x288 with 1 Axes>"
      ]
     },
     "metadata": {
      "needs_background": "light"
     },
     "output_type": "display_data"
    }
   ],
   "source": [
    "# 4e. Proporsi nilai Keliling yang kurang dari 100, adalah kurang dari 5% ?\n",
    "# 1) null hypothesis : P = 0.05\n",
    "# 2) alternative hypothesis : P < 0.05\n",
    "# 3) alpha = 0.05\n",
    "# 4) digunakan alpha = 0.05 dan statistik one tailed\n",
    "# \tmaka daerah kritis: Z < -1.645\n",
    "# 5) uji nilai statistik one tailed:\n",
    "#   P(Keliling < 100) = 0/500 = 0\n",
    "# \tZ = 0-0.05/(√0.05*0.95/500) = -5.130\n",
    "# \tp = 0 (mendekati)\n",
    "amtConstraint = len(sampleGandum[\"Keliling\"].loc[sampleGandum[\"Keliling\"] < 100])\n",
    "print(\"Jumlah keliling gandum yang kurang dari 100 : \", amtConstraint)\n",
    "zscr = ((amtConstraint/splSize)-0.15)/(0.15*0.85/splSize)**(1/2)\n",
    "print(\"Z score yang didapat : \", zscr)\n",
    "print(\"P value nya adalah : \", scipy.stats.norm.sf(abs(zscr)))\n",
    "# 6) nilai Z berada pada daerah kritis, maka null hypothesis ditolak\n",
    "\n",
    "sampleGandum.boxplot(\"Keliling\")"
   ]
  },
  {
   "cell_type": "markdown",
   "metadata": {},
   "source": [
    "### 5. Melakukan test hipotesis 2 sampel, dengan menuliskan 6 langkah testing \n",
    "menampilkan juga boxplotnya untuk kolom/bagian yang bersesuaian.\n",
    "<ul>\n",
    "    <li>Data kolom AreaBulatan dibagi 2 sama rata: bagian awal dan bagian akhir kolom. Benarkah rata-rata kedua bagian tersebut sama?</li>\n",
    "    <li>Data kolom Kadar Air dibagi 2 sama rata: bagian awal dan bagian akhir kolom. Benarkah rata-rata bagian awal lebih besar dari pada bagian akhir sebesar 0.2?</li>\n",
    "    <li>Rata-rata 20 baris pertama kolom Bulatan sama dengan 20 baris terakhirnya?</li>\n",
    "    <li>Proporsi nilai bagian awal Ransum yang lebih dari 2, adalah lebih besar daripada, proporsi nilai yang sama di bagian akhir Ransum?</li>\n",
    "    <li>Bagian awal kolom Diameter memiliki variansi yang sama dengan bagian akhirnya?</li>\n",
    "</ul>"
   ]
  },
  {
   "cell_type": "code",
   "execution_count": 75,
   "metadata": {},
   "outputs": [
    {
     "data": {
      "text/html": [
       "<div>\n",
       "<style scoped>\n",
       "    .dataframe tbody tr th:only-of-type {\n",
       "        vertical-align: middle;\n",
       "    }\n",
       "\n",
       "    .dataframe tbody tr th {\n",
       "        vertical-align: top;\n",
       "    }\n",
       "\n",
       "    .dataframe thead th {\n",
       "        text-align: right;\n",
       "    }\n",
       "</style>\n",
       "<table border=\"1\" class=\"dataframe\">\n",
       "  <thead>\n",
       "    <tr style=\"text-align: right;\">\n",
       "      <th></th>\n",
       "      <th>Name</th>\n",
       "      <th>Age</th>\n",
       "    </tr>\n",
       "  </thead>\n",
       "  <tbody>\n",
       "    <tr>\n",
       "      <th>0</th>\n",
       "      <td>Tom</td>\n",
       "      <td>20</td>\n",
       "    </tr>\n",
       "    <tr>\n",
       "      <th>1</th>\n",
       "      <td>nick</td>\n",
       "      <td>20</td>\n",
       "    </tr>\n",
       "    <tr>\n",
       "      <th>2</th>\n",
       "      <td>krish</td>\n",
       "      <td>22</td>\n",
       "    </tr>\n",
       "    <tr>\n",
       "      <th>3</th>\n",
       "      <td>jack</td>\n",
       "      <td>18</td>\n",
       "    </tr>\n",
       "  </tbody>\n",
       "</table>\n",
       "</div>"
      ],
      "text/plain": [
       "    Name  Age\n",
       "0    Tom   20\n",
       "1   nick   20\n",
       "2  krish   22\n",
       "3   jack   18"
      ]
     },
     "metadata": {},
     "output_type": "display_data"
    },
    {
     "data": {
      "text/html": [
       "<div>\n",
       "<style scoped>\n",
       "    .dataframe tbody tr th:only-of-type {\n",
       "        vertical-align: middle;\n",
       "    }\n",
       "\n",
       "    .dataframe tbody tr th {\n",
       "        vertical-align: top;\n",
       "    }\n",
       "\n",
       "    .dataframe thead th {\n",
       "        text-align: right;\n",
       "    }\n",
       "</style>\n",
       "<table border=\"1\" class=\"dataframe\">\n",
       "  <thead>\n",
       "    <tr style=\"text-align: right;\">\n",
       "      <th></th>\n",
       "      <th>Name</th>\n",
       "      <th>Age</th>\n",
       "    </tr>\n",
       "  </thead>\n",
       "  <tbody>\n",
       "    <tr>\n",
       "      <th>0</th>\n",
       "      <td>Tom</td>\n",
       "      <td>20</td>\n",
       "    </tr>\n",
       "    <tr>\n",
       "      <th>1</th>\n",
       "      <td>nick</td>\n",
       "      <td>20</td>\n",
       "    </tr>\n",
       "  </tbody>\n",
       "</table>\n",
       "</div>"
      ],
      "text/plain": [
       "   Name  Age\n",
       "0   Tom   20\n",
       "1  nick   20"
      ]
     },
     "metadata": {},
     "output_type": "display_data"
    },
    {
     "data": {
      "text/html": [
       "<div>\n",
       "<style scoped>\n",
       "    .dataframe tbody tr th:only-of-type {\n",
       "        vertical-align: middle;\n",
       "    }\n",
       "\n",
       "    .dataframe tbody tr th {\n",
       "        vertical-align: top;\n",
       "    }\n",
       "\n",
       "    .dataframe thead th {\n",
       "        text-align: right;\n",
       "    }\n",
       "</style>\n",
       "<table border=\"1\" class=\"dataframe\">\n",
       "  <thead>\n",
       "    <tr style=\"text-align: right;\">\n",
       "      <th></th>\n",
       "      <th>Name</th>\n",
       "      <th>Age</th>\n",
       "    </tr>\n",
       "  </thead>\n",
       "  <tbody>\n",
       "    <tr>\n",
       "      <th>1</th>\n",
       "      <td>nick</td>\n",
       "      <td>20</td>\n",
       "    </tr>\n",
       "    <tr>\n",
       "      <th>2</th>\n",
       "      <td>krish</td>\n",
       "      <td>22</td>\n",
       "    </tr>\n",
       "    <tr>\n",
       "      <th>3</th>\n",
       "      <td>jack</td>\n",
       "      <td>18</td>\n",
       "    </tr>\n",
       "  </tbody>\n",
       "</table>\n",
       "</div>"
      ],
      "text/plain": [
       "    Name  Age\n",
       "1   nick   20\n",
       "2  krish   22\n",
       "3   jack   18"
      ]
     },
     "metadata": {},
     "output_type": "display_data"
    }
   ],
   "source": [
    "# testing\n",
    "data = {'Name':['Tom', 'nick', 'krish', 'jack'],\n",
    "        'Age':[20, 20, 22, 18]}\n",
    "df = pd.DataFrame(data)\n",
    "df_1 = df.iloc[:df['Age'].count()//2,:]\n",
    "df_2 = df.iloc[-3:,:]\n",
    "display(df)\n",
    "display(df_1)\n",
    "display(df_2)\n",
    "# print(df_1['Age'].mean())\n",
    "# print(df_2['Age'].mean())"
   ]
  },
  {
   "cell_type": "code",
   "execution_count": 76,
   "metadata": {},
   "outputs": [
    {
     "name": "stdout",
     "output_type": "stream",
     "text": [
      "Rata-rata\n",
      "AreaBulatan bagian awal = 5549.804\n",
      "AreaBulatan bagian akhir = 4324.292\n"
     ]
    }
   ],
   "source": [
    "# Membagi dataframe menjadi 2 bagian sama panjang\n",
    "AreaBulatan1 = gandum.iloc[:gandum['AreaBulatan'].count()//2,:]\n",
    "AreaBulatan2 = gandum.iloc[gandum['AreaBulatan'].count()//2:,:]\n",
    "print(\"Rata-rata\")\n",
    "print(\"AreaBulatan bagian awal = \" + str(AreaBulatan1['AreaBulatan'].mean()))\n",
    "print(\"AreaBulatan bagian akhir = \" + str(AreaBulatan2['AreaBulatan'].mean()))"
   ]
  },
  {
   "cell_type": "code",
   "execution_count": 77,
   "metadata": {},
   "outputs": [
    {
     "name": "stdout",
     "output_type": "stream",
     "text": [
      "Rata-rata\n",
      "KadarAir bagian awal = 0.63574344072\n",
      "KadarAir bagian akhir = 0.660999903076\n"
     ]
    }
   ],
   "source": [
    "# Membagi dataframe menjadi 2 bagian sama panjang\n",
    "KadarAir1 = gandum.iloc[:gandum['KadarAir'].count()//2,:]\n",
    "KadarAir2 = gandum.iloc[gandum['KadarAir'].count()//2:,:]\n",
    "print(\"Rata-rata\")\n",
    "print(\"KadarAir bagian awal = \" + str(KadarAir1['KadarAir'].mean()))\n",
    "print(\"KadarAir bagian akhir = \" + str(KadarAir2['KadarAir'].mean()))"
   ]
  },
  {
   "cell_type": "code",
   "execution_count": 78,
   "metadata": {},
   "outputs": [
    {
     "name": "stdout",
     "output_type": "stream",
     "text": [
      "Rata-rata 20 baris pertama kolom Bulatan sama dengan 20 baris terakhirnya?\n",
      "Rata-rata\n",
      "Bulatan bagian awal = 0.7375353552500001\n",
      "Bulatan bagian akhir = 0.7673224369999999\n"
     ]
    }
   ],
   "source": [
    "print(\"Rata-rata 20 baris pertama kolom Bulatan sama dengan 20 baris terakhirnya?\")\n",
    "Bulatan1 = gandum.iloc[:20,:]\n",
    "Bulatan2 = gandum.iloc[-20:,:]\n",
    "print(\"Rata-rata\")\n",
    "print(\"Bulatan bagian awal = \" + str(Bulatan1['Bulatan'].mean()))\n",
    "print(\"Bulatan bagian akhir = \" + str(Bulatan2['Bulatan'].mean()))"
   ]
  },
  {
   "cell_type": "code",
   "execution_count": 79,
   "metadata": {},
   "outputs": [
    {
     "name": "stdout",
     "output_type": "stream",
     "text": [
      "Proporsi nilai bagian awal Ransum yang lebih dari 2, adalah lebih besar daripada, proporsi nilai yang sama di bagian akhir Ransum?\n"
     ]
    }
   ],
   "source": [
    "print(\"Proporsi nilai bagian awal Ransum yang lebih dari 2, adalah lebih besar daripada, proporsi nilai yang sama di bagian akhir Ransum?\")"
   ]
  },
  {
   "cell_type": "code",
   "execution_count": 80,
   "metadata": {},
   "outputs": [
    {
     "name": "stdout",
     "output_type": "stream",
     "text": [
      "Bagian awal kolom Diameter memiliki variansi yang sama dengan bagian akhirnya?\n",
      "Variansi\n",
      "Diameter bagian awal = 43.168980426322435\n",
      "Diameter bagian akhir = 39.8282643880772\n"
     ]
    }
   ],
   "source": [
    "print(\"Bagian awal kolom Diameter memiliki variansi yang sama dengan bagian akhirnya?\")\n",
    "Diameter1 = gandum.iloc[:gandum['Diameter'].count()//2,:]\n",
    "Diameter2 = gandum.iloc[gandum['Diameter'].count()//2:,:]\n",
    "print(\"Variansi\")\n",
    "print(\"Diameter bagian awal = \" + str(Diameter1['Diameter'].var()))\n",
    "print(\"Diameter bagian akhir = \" + str(Diameter2['Diameter'].var()))"
   ]
  },
  {
   "cell_type": "markdown",
   "metadata": {},
   "source": [
    "### 6. Test korelasi\n",
    "tentukan apakah setiap kolom non-target berkorelasi dengan kolom target, dengan menggambarkan juga scatter plot nya. Gunakan correlation test."
   ]
  },
  {
   "cell_type": "markdown",
   "metadata": {},
   "source": [
    "#### KEKUATAN DAN ARAH HUBUNGAN\n",
    "Kekuatan hubungan dapat dilihat dari koefisien korelasi. Koefisien korelasi berada pada rentang antara -1 dan 1:\n",
    "- -1 menunjukkan korelasi $X$ dan $Y$ negatif yang kuat. setiap kali $X$ meningkat, $Y$ berkurang.\n",
    "- 0 berarti tidak ada hubungan antara $X$ dan $Y$.\n",
    "- 1 menunjukkan korelasi $X$ dan $Y$ positif yang kuat. setiap kali $X$ meningkat, $Y$ meningkat.\n",
    "<br>\n",
    "\n",
    "\n",
    "Untuk memudahkan melakukan interpretasi mengenai kekuatan hubungan antara dua variabel, Sarwono (2006) memberikan kriteria sebagai berikut:\n",
    "- 0 : **Tidak ada korelasi** antara dua variabel\n",
    "- 0 – 0,25: **Korelasi sangat lemah**\n",
    "- 0,25 – 0,5: **Korelasi cukup**\n",
    "- 0,5 – 0,75: **Korelasi  kuat**\n",
    "- 0,75 – 0,99: **Korelasi  sangat kuat**\n",
    "- 1: **Korelasi sempurna**"
   ]
  },
  {
   "cell_type": "code",
   "execution_count": 81,
   "metadata": {},
   "outputs": [
    {
     "data": {
      "text/markdown": [
       "#### Daerah"
      ],
      "text/plain": [
       "<IPython.core.display.Markdown object>"
      ]
     },
     "metadata": {},
     "output_type": "display_data"
    },
    {
     "data": {
      "text/markdown": [
       "Hasil korelasi kolom Daerah(non-target) dengan kolom Kelas(target)"
      ],
      "text/plain": [
       "<IPython.core.display.Markdown object>"
      ]
     },
     "metadata": {},
     "output_type": "display_data"
    },
    {
     "data": {
      "text/markdown": [
       "$\\rho_{Daerah,Kelas} = $-0.6027466517416693"
      ],
      "text/plain": [
       "<IPython.core.display.Markdown object>"
      ]
     },
     "metadata": {},
     "output_type": "display_data"
    },
    {
     "data": {
      "image/png": "[encoded data removed]",
      "text/plain": [
       "<Figure size 432x288 with 1 Axes>"
      ]
     },
     "metadata": {
      "needs_background": "light"
     },
     "output_type": "display_data"
    },
    {
     "data": {
      "text/markdown": [
       "Dari hasil $\\rho$ yang didapatkan, dapat disimpulkan bahwa bahwa kolom Daerah dan Kelas berkorelasi **negatif** dan termasuk **Korelasi kuat**."
      ],
      "text/plain": [
       "<IPython.core.display.Markdown object>"
      ]
     },
     "metadata": {},
     "output_type": "display_data"
    }
   ],
   "source": [
    "printMd(\"#### Daerah\")\n",
    "printMd(\"Hasil korelasi kolom Daerah(non-target) dengan kolom Kelas(target)\")\n",
    "printMd(\"$\\\\rho_{Daerah,Kelas} = $\"+str(gandum['Daerah'].corr(gandum['Kelas'])))\n",
    "plt.title(\"Scatter Plot antara kolom Daerah dengan Kelas\")\n",
    "plt.scatter(x=gandum['Daerah'],y=gandum['Kelas'])\n",
    "plt.xlabel(\"Daerah\")\n",
    "plt.ylabel(\"Kelas\")\n",
    "plt.show()\n",
    "printMd(\"Dari hasil $\\\\rho$ yang didapatkan, dapat disimpulkan bahwa bahwa kolom Daerah dan Kelas berkorelasi **negatif** dan termasuk **Korelasi kuat**.\")"
   ]
  },
  {
   "cell_type": "code",
   "execution_count": 82,
   "metadata": {},
   "outputs": [
    {
     "data": {
      "text/markdown": [
       "#### SumbuUtama"
      ],
      "text/plain": [
       "<IPython.core.display.Markdown object>"
      ]
     },
     "metadata": {},
     "output_type": "display_data"
    },
    {
     "data": {
      "text/markdown": [
       "Hasil korelasi kolom SumbuUtama(non-target) dengan kolom Kelas(target"
      ],
      "text/plain": [
       "<IPython.core.display.Markdown object>"
      ]
     },
     "metadata": {},
     "output_type": "display_data"
    },
    {
     "data": {
      "text/markdown": [
       "$\\rho_{SumbuUtama,Kelas} = $-0.7130906104204634"
      ],
      "text/plain": [
       "<IPython.core.display.Markdown object>"
      ]
     },
     "metadata": {},
     "output_type": "display_data"
    },
    {
     "data": {
      "image/png": "[encoded data removed]",
      "text/plain": [
       "<Figure size 432x288 with 1 Axes>"
      ]
     },
     "metadata": {
      "needs_background": "light"
     },
     "output_type": "display_data"
    },
    {
     "data": {
      "text/markdown": [
       "Dari hasil $\\rho$ yang didapatkan, dapat disimpulkan bahwa bahwa kolom SumbuUtama dan Kelas berkorelasi **negatif** dan termasuk **Korelasi kuat**."
      ],
      "text/plain": [
       "<IPython.core.display.Markdown object>"
      ]
     },
     "metadata": {},
     "output_type": "display_data"
    }
   ],
   "source": [
    "printMd(\"#### SumbuUtama\")\n",
    "printMd(\"Hasil korelasi kolom SumbuUtama(non-target) dengan kolom Kelas(target\")\n",
    "printMd(\"$\\\\rho_{SumbuUtama,Kelas} = $\"+str(gandum['SumbuUtama'].corr(gandum['Kelas'])))\n",
    "plt.title(\"Scatter Plot antara kolom SumbuUtama dengan Kelas\")\n",
    "plt.scatter(x=gandum['SumbuUtama'],y=gandum['Kelas'])\n",
    "plt.xlabel(\"SumbuUtama\")\n",
    "plt.ylabel(\"Kelas\")\n",
    "plt.show()\n",
    "printMd(\"Dari hasil $\\\\rho$ yang didapatkan, dapat disimpulkan bahwa bahwa kolom SumbuUtama dan Kelas berkorelasi **negatif** dan termasuk **Korelasi kuat**.\")"
   ]
  },
  {
   "cell_type": "code",
   "execution_count": 83,
   "metadata": {},
   "outputs": [
    {
     "data": {
      "text/markdown": [
       "#### SumbuKecil"
      ],
      "text/plain": [
       "<IPython.core.display.Markdown object>"
      ]
     },
     "metadata": {},
     "output_type": "display_data"
    },
    {
     "data": {
      "text/markdown": [
       "Hasil korelasi kolom SumbuKecil(non-target) dengan kolom Kelas(target"
      ],
      "text/plain": [
       "<IPython.core.display.Markdown object>"
      ]
     },
     "metadata": {},
     "output_type": "display_data"
    },
    {
     "data": {
      "text/markdown": [
       "$\\rho_{SumbuKecil,Kelas} = $-0.15297517335535132"
      ],
      "text/plain": [
       "<IPython.core.display.Markdown object>"
      ]
     },
     "metadata": {},
     "output_type": "display_data"
    },
    {
     "data": {
      "image/png": "[encoded data removed]",
      "text/plain": [
       "<Figure size 432x288 with 1 Axes>"
      ]
     },
     "metadata": {
      "needs_background": "light"
     },
     "output_type": "display_data"
    },
    {
     "data": {
      "text/markdown": [
       "Dari hasil $\\rho$ yang didapatkan, dapat disimpulkan bahwa bahwa kolom SumbuKecil dan Kelas berkorelasi **negatif** dan termasuk **Korelasi sangat lemah**."
      ],
      "text/plain": [
       "<IPython.core.display.Markdown object>"
      ]
     },
     "metadata": {},
     "output_type": "display_data"
    }
   ],
   "source": [
    "printMd(\"#### SumbuKecil\")\n",
    "printMd(\"Hasil korelasi kolom SumbuKecil(non-target) dengan kolom Kelas(target\")\n",
    "printMd(\"$\\\\rho_{SumbuKecil,Kelas} = $\"+str(gandum['SumbuKecil'].corr(gandum['Kelas'])))\n",
    "plt.title(\"Scatter Plot antara kolom SumbuKecil dengan Kelas\")\n",
    "plt.scatter(x=gandum['SumbuKecil'],y=gandum['Kelas'])\n",
    "plt.xlabel(\"SumbuKecil\")\n",
    "plt.ylabel(\"Kelas\")\n",
    "plt.show()\n",
    "printMd(\"Dari hasil $\\\\rho$ yang didapatkan, dapat disimpulkan bahwa bahwa kolom SumbuKecil dan Kelas berkorelasi **negatif** dan termasuk **Korelasi sangat lemah**.\")"
   ]
  },
  {
   "cell_type": "code",
   "execution_count": 84,
   "metadata": {},
   "outputs": [
    {
     "data": {
      "text/markdown": [
       "#### Keunikan"
      ],
      "text/plain": [
       "<IPython.core.display.Markdown object>"
      ]
     },
     "metadata": {},
     "output_type": "display_data"
    },
    {
     "data": {
      "text/markdown": [
       "Hasil korelasi kolom Keunikan(non-target) dengan kolom Kelas(target"
      ],
      "text/plain": [
       "<IPython.core.display.Markdown object>"
      ]
     },
     "metadata": {},
     "output_type": "display_data"
    },
    {
     "data": {
      "text/markdown": [
       "$\\rho_{Keunikan,Kelas} = $-0.7304563686511966"
      ],
      "text/plain": [
       "<IPython.core.display.Markdown object>"
      ]
     },
     "metadata": {},
     "output_type": "display_data"
    },
    {
     "data": {
      "image/png": "[encoded data removed]",
      "text/plain": [
       "<Figure size 432x288 with 1 Axes>"
      ]
     },
     "metadata": {
      "needs_background": "light"
     },
     "output_type": "display_data"
    },
    {
     "data": {
      "text/markdown": [
       "Dari hasil $\\rho$ yang didapatkan, dapat disimpulkan bahwa bahwa kolom Keunikan dan Kelas berkorelasi **negatif** dan termasuk **Korelasi kuat**."
      ],
      "text/plain": [
       "<IPython.core.display.Markdown object>"
      ]
     },
     "metadata": {},
     "output_type": "display_data"
    }
   ],
   "source": [
    "printMd(\"#### Keunikan\")\n",
    "printMd(\"Hasil korelasi kolom Keunikan(non-target) dengan kolom Kelas(target\")\n",
    "printMd(\"$\\\\rho_{Keunikan,Kelas} = $\"+str(gandum['Keunikan'].corr(gandum['Kelas'])))\n",
    "plt.title(\"Scatter Plot antara kolom Keunikan dengan Kelas\")\n",
    "plt.scatter(x=gandum['Keunikan'],y=gandum['Kelas'])\n",
    "plt.xlabel(\"Keunikan\")\n",
    "plt.ylabel(\"Kelas\")\n",
    "plt.show()\n",
    "printMd(\"Dari hasil $\\\\rho$ yang didapatkan, dapat disimpulkan bahwa bahwa kolom Keunikan dan Kelas berkorelasi **negatif** dan termasuk **Korelasi kuat**.\")"
   ]
  },
  {
   "cell_type": "code",
   "execution_count": 85,
   "metadata": {},
   "outputs": [
    {
     "data": {
      "text/markdown": [
       "#### AreaBulatan"
      ],
      "text/plain": [
       "<IPython.core.display.Markdown object>"
      ]
     },
     "metadata": {},
     "output_type": "display_data"
    },
    {
     "data": {
      "text/markdown": [
       "Hasil korelasi kolom AreaBulatan(non-target) dengan kolom Kelas(target"
      ],
      "text/plain": [
       "<IPython.core.display.Markdown object>"
      ]
     },
     "metadata": {},
     "output_type": "display_data"
    },
    {
     "data": {
      "text/markdown": [
       "$\\rho_{AreaBulatan,Kelas} = $-0.6073125434153784"
      ],
      "text/plain": [
       "<IPython.core.display.Markdown object>"
      ]
     },
     "metadata": {},
     "output_type": "display_data"
    },
    {
     "data": {
      "image/png": "[encoded data removed]",
      "text/plain": [
       "<Figure size 432x288 with 1 Axes>"
      ]
     },
     "metadata": {
      "needs_background": "light"
     },
     "output_type": "display_data"
    },
    {
     "data": {
      "text/markdown": [
       "Dari hasil $\\rho$ yang didapatkan, dapat disimpulkan bahwa bahwa kolom AreaBulatan dan Kelas berkorelasi **negatif** dan termasuk **Korelasi kuat**."
      ],
      "text/plain": [
       "<IPython.core.display.Markdown object>"
      ]
     },
     "metadata": {},
     "output_type": "display_data"
    }
   ],
   "source": [
    "printMd(\"#### AreaBulatan\")\n",
    "printMd(\"Hasil korelasi kolom AreaBulatan(non-target) dengan kolom Kelas(target\")\n",
    "printMd(\"$\\\\rho_{AreaBulatan,Kelas} = $\"+str(gandum['AreaBulatan'].corr(gandum['Kelas'])))\n",
    "plt.title(\"Scatter Plot antara kolom AreaBulatan dengan Kelas\")\n",
    "plt.scatter(x=gandum['AreaBulatan'],y=gandum['Kelas'])\n",
    "plt.xlabel(\"AreaBulatan\")\n",
    "plt.ylabel(\"Kelas\")\n",
    "plt.show()\n",
    "printMd(\"Dari hasil $\\\\rho$ yang didapatkan, dapat disimpulkan bahwa bahwa kolom AreaBulatan dan Kelas berkorelasi **negatif** dan termasuk **Korelasi kuat**.\")"
   ]
  },
  {
   "cell_type": "code",
   "execution_count": 86,
   "metadata": {},
   "outputs": [
    {
     "data": {
      "text/markdown": [
       "#### Diameter"
      ],
      "text/plain": [
       "<IPython.core.display.Markdown object>"
      ]
     },
     "metadata": {},
     "output_type": "display_data"
    },
    {
     "data": {
      "text/markdown": [
       "Hasil korelasi kolom Diameter(non-target) dengan kolom Kelas(target"
      ],
      "text/plain": [
       "<IPython.core.display.Markdown object>"
      ]
     },
     "metadata": {},
     "output_type": "display_data"
    },
    {
     "data": {
      "text/markdown": [
       "$\\rho_{Diameter,Kelas} = $-0.6025356896618852"
      ],
      "text/plain": [
       "<IPython.core.display.Markdown object>"
      ]
     },
     "metadata": {},
     "output_type": "display_data"
    },
    {
     "data": {
      "image/png": "[encoded data removed]",
      "text/plain": [
       "<Figure size 432x288 with 1 Axes>"
      ]
     },
     "metadata": {
      "needs_background": "light"
     },
     "output_type": "display_data"
    },
    {
     "data": {
      "text/markdown": [
       "Dari hasil $\\rho$ yang didapatkan, dapat disimpulkan bahwa bahwa kolom Diameter dan Kelas berkorelasi **negatif** dan termasuk **Korelasi kuat**."
      ],
      "text/plain": [
       "<IPython.core.display.Markdown object>"
      ]
     },
     "metadata": {},
     "output_type": "display_data"
    }
   ],
   "source": [
    "printMd(\"#### Diameter\")\n",
    "printMd(\"Hasil korelasi kolom Diameter(non-target) dengan kolom Kelas(target\")\n",
    "printMd(\"$\\\\rho_{Diameter,Kelas} = $\"+str(gandum['Diameter'].corr(gandum['Kelas'])))\n",
    "plt.title(\"Scatter Plot antara kolom Diameter dengan Kelas\")\n",
    "plt.scatter(x=gandum['Diameter'],y=gandum['Kelas'])\n",
    "plt.xlabel(\"Diameter\")\n",
    "plt.ylabel(\"Kelas\")\n",
    "plt.show()\n",
    "printMd(\"Dari hasil $\\\\rho$ yang didapatkan, dapat disimpulkan bahwa bahwa kolom Diameter dan Kelas berkorelasi **negatif** dan termasuk **Korelasi kuat**.\")"
   ]
  },
  {
   "cell_type": "code",
   "execution_count": 87,
   "metadata": {},
   "outputs": [
    {
     "data": {
      "text/markdown": [
       "#### KadarAir"
      ],
      "text/plain": [
       "<IPython.core.display.Markdown object>"
      ]
     },
     "metadata": {},
     "output_type": "display_data"
    },
    {
     "data": {
      "text/markdown": [
       "Hasil korelasi kolom KadarAir(non-target) dengan kolom Kelas(target"
      ],
      "text/plain": [
       "<IPython.core.display.Markdown object>"
      ]
     },
     "metadata": {},
     "output_type": "display_data"
    },
    {
     "data": {
      "text/markdown": [
       "$\\rho_{KadarAir,Kelas} = $0.13434422605727736"
      ],
      "text/plain": [
       "<IPython.core.display.Markdown object>"
      ]
     },
     "metadata": {},
     "output_type": "display_data"
    },
    {
     "data": {
      "image/png": "[encoded data removed]",
      "text/plain": [
       "<Figure size 432x288 with 1 Axes>"
      ]
     },
     "metadata": {
      "needs_background": "light"
     },
     "output_type": "display_data"
    },
    {
     "data": {
      "text/markdown": [
       "Dari hasil $\\rho$ yang didapatkan, dapat disimpulkan bahwa bahwa kolom KadarAir dan Kelas berkorelasi **positif** dan termasuk **Korelasi sangat lemah**."
      ],
      "text/plain": [
       "<IPython.core.display.Markdown object>"
      ]
     },
     "metadata": {},
     "output_type": "display_data"
    }
   ],
   "source": [
    "printMd(\"#### KadarAir\")\n",
    "printMd(\"Hasil korelasi kolom KadarAir(non-target) dengan kolom Kelas(target\")\n",
    "printMd(\"$\\\\rho_{KadarAir,Kelas} = $\"+str(gandum['KadarAir'].corr(gandum['Kelas'])))\n",
    "plt.title(\"Scatter Plot antara kolom KadarAir dengan Kelas\")\n",
    "plt.scatter(x=gandum['KadarAir'],y=gandum['Kelas'])\n",
    "plt.xlabel(\"KadarAir\")\n",
    "plt.ylabel(\"Kelas\")\n",
    "plt.show()\n",
    "printMd(\"Dari hasil $\\\\rho$ yang didapatkan, dapat disimpulkan bahwa bahwa kolom KadarAir dan Kelas berkorelasi **positif** dan termasuk **Korelasi sangat lemah**.\")"
   ]
  },
  {
   "cell_type": "code",
   "execution_count": 88,
   "metadata": {},
   "outputs": [
    {
     "data": {
      "text/markdown": [
       "#### Keliling"
      ],
      "text/plain": [
       "<IPython.core.display.Markdown object>"
      ]
     },
     "metadata": {},
     "output_type": "display_data"
    },
    {
     "data": {
      "text/markdown": [
       "Hasil korelasi kolom Keliling(non-target) dengan kolom Kelas(target"
      ],
      "text/plain": [
       "<IPython.core.display.Markdown object>"
      ]
     },
     "metadata": {},
     "output_type": "display_data"
    },
    {
     "data": {
      "text/markdown": [
       "$\\rho_{Keliling,Kelas} = $-0.6348607454756899"
      ],
      "text/plain": [
       "<IPython.core.display.Markdown object>"
      ]
     },
     "metadata": {},
     "output_type": "display_data"
    },
    {
     "data": {
      "image/png": "[encoded data removed]",
      "text/plain": [
       "<Figure size 432x288 with 1 Axes>"
      ]
     },
     "metadata": {
      "needs_background": "light"
     },
     "output_type": "display_data"
    },
    {
     "data": {
      "text/markdown": [
       "Dari hasil $\\rho$ yang didapatkan, dapat disimpulkan bahwa bahwa kolom Keliling dan Kelas berkorelasi **negatif** dan termasuk **Korelasi kuat**."
      ],
      "text/plain": [
       "<IPython.core.display.Markdown object>"
      ]
     },
     "metadata": {},
     "output_type": "display_data"
    }
   ],
   "source": [
    "printMd(\"#### Keliling\")\n",
    "printMd(\"Hasil korelasi kolom Keliling(non-target) dengan kolom Kelas(target\")\n",
    "printMd(\"$\\\\rho_{Keliling,Kelas} = $\"+str(gandum['Keliling'].corr(gandum['Kelas'])))\n",
    "plt.title(\"Scatter Plot antara kolom Keliling dengan Kelas\")\n",
    "plt.scatter(x=gandum['Keliling'],y=gandum['Kelas'])\n",
    "plt.xlabel(\"Keliling\")\n",
    "plt.ylabel(\"Kelas\")\n",
    "plt.show()\n",
    "printMd(\"Dari hasil $\\\\rho$ yang didapatkan, dapat disimpulkan bahwa bahwa kolom Keliling dan Kelas berkorelasi **negatif** dan termasuk **Korelasi kuat**.\")"
   ]
  },
  {
   "cell_type": "code",
   "execution_count": 89,
   "metadata": {},
   "outputs": [
    {
     "data": {
      "text/markdown": [
       "#### Bulatan"
      ],
      "text/plain": [
       "<IPython.core.display.Markdown object>"
      ]
     },
     "metadata": {},
     "output_type": "display_data"
    },
    {
     "data": {
      "text/markdown": [
       "Hasil korelasi kolom Bulatan(non-target) dengan kolom Kelas(target"
      ],
      "text/plain": [
       "<IPython.core.display.Markdown object>"
      ]
     },
     "metadata": {},
     "output_type": "display_data"
    },
    {
     "data": {
      "text/markdown": [
       "$\\rho_{Bulatan,Kelas} = $0.5450045317240112"
      ],
      "text/plain": [
       "<IPython.core.display.Markdown object>"
      ]
     },
     "metadata": {},
     "output_type": "display_data"
    },
    {
     "data": {
      "image/png": "[encoded data removed]",
      "text/plain": [
       "<Figure size 432x288 with 1 Axes>"
      ]
     },
     "metadata": {
      "needs_background": "light"
     },
     "output_type": "display_data"
    },
    {
     "data": {
      "text/markdown": [
       "Dari hasil $\\rho$ yang didapatkan, dapat disimpulkan bahwa bahwa kolom Bulatan dan Kelas berkorelasi **positif** dan termasuk **Korelasi kuat**."
      ],
      "text/plain": [
       "<IPython.core.display.Markdown object>"
      ]
     },
     "metadata": {},
     "output_type": "display_data"
    }
   ],
   "source": [
    "printMd(\"#### Bulatan\")\n",
    "printMd(\"Hasil korelasi kolom Bulatan(non-target) dengan kolom Kelas(target\")\n",
    "printMd(\"$\\\\rho_{Bulatan,Kelas} = $\"+str(gandum['Bulatan'].corr(gandum['Kelas'])))\n",
    "plt.title(\"Scatter Plot antara kolom Bulatan dengan Kelas\")\n",
    "plt.scatter(x=gandum['Bulatan'],y=gandum['Kelas'])\n",
    "plt.xlabel(\"Bulatan\")\n",
    "plt.ylabel(\"Kelas\")\n",
    "plt.show()\n",
    "printMd(\"Dari hasil $\\\\rho$ yang didapatkan, dapat disimpulkan bahwa bahwa kolom Bulatan dan Kelas berkorelasi **positif** dan termasuk **Korelasi kuat**.\")"
   ]
  },
  {
   "cell_type": "code",
   "execution_count": 90,
   "metadata": {},
   "outputs": [
    {
     "data": {
      "text/markdown": [
       "#### Ransum"
      ],
      "text/plain": [
       "<IPython.core.display.Markdown object>"
      ]
     },
     "metadata": {},
     "output_type": "display_data"
    },
    {
     "data": {
      "text/markdown": [
       "Hasil korelasi kolom Ransum(non-target) dengan kolom Kelas(target"
      ],
      "text/plain": [
       "<IPython.core.display.Markdown object>"
      ]
     },
     "metadata": {},
     "output_type": "display_data"
    },
    {
     "data": {
      "text/markdown": [
       "$\\rho_{Ransum,Kelas} = $-0.8399038681287546"
      ],
      "text/plain": [
       "<IPython.core.display.Markdown object>"
      ]
     },
     "metadata": {},
     "output_type": "display_data"
    },
    {
     "data": {
      "image/png": "[encoded data removed]",
      "text/plain": [
       "<Figure size 432x288 with 1 Axes>"
      ]
     },
     "metadata": {
      "needs_background": "light"
     },
     "output_type": "display_data"
    },
    {
     "data": {
      "text/markdown": [
       "Dari hasil $\\rho$ yang didapatkan, dapat disimpulkan bahwa bahwa kolom Ransum dan Kelas berkorelasi **negatif** dan termasuk **Korelasi  sangat kuat**."
      ],
      "text/plain": [
       "<IPython.core.display.Markdown object>"
      ]
     },
     "metadata": {},
     "output_type": "display_data"
    }
   ],
   "source": [
    "printMd(\"#### Ransum\")\n",
    "printMd(\"Hasil korelasi kolom Ransum(non-target) dengan kolom Kelas(target\")\n",
    "printMd(\"$\\\\rho_{Ransum,Kelas} = $\"+str(gandum['Ransum'].corr(gandum['Kelas'])))\n",
    "plt.title(\"Scatter Plot antara kolom Ransum dengan Kelas\")\n",
    "plt.scatter(x=gandum['Ransum'],y=gandum['Kelas'])\n",
    "plt.xlabel(\"Ransum\")\n",
    "plt.ylabel(\"Kelas\")\n",
    "plt.show()\n",
    "printMd(\"Dari hasil $\\\\rho$ yang didapatkan, dapat disimpulkan bahwa bahwa kolom Ransum dan Kelas berkorelasi **negatif** dan termasuk **Korelasi  sangat kuat**.\")"
   ]
  },
  {
   "cell_type": "markdown",
   "metadata": {},
   "source": [
    "## Referensi\n",
    ".<br>\n",
    ".<br>\n",
    ".<br>\n",
    ".<br>\n",
    "<b>Test Korelasi</b><br>\n",
    "https://ujistatistikhalal.com/blog/uji-korelasi-r-dan-spss/#Definisi_Pearsons_Correlation_Test"
   ]
  },
  {
   "cell_type": "code",
   "execution_count": null,
   "metadata": {},
   "outputs": [],
   "source": []
  }
 ],
 "metadata": {
  "kernelspec": {
   "display_name": "Python 3",
   "language": "python",
   "name": "python3"
  },
  "language_info": {
   "codemirror_mode": {
    "name": "ipython",
    "version": 3
   },
   "file_extension": ".py",
   "mimetype": "text/x-python",
   "name": "python",
   "nbconvert_exporter": "python",
   "pygments_lexer": "ipython3",
   "version": "3.8.5"
  }
 },
 "nbformat": 4,
 "nbformat_minor": 4
}
