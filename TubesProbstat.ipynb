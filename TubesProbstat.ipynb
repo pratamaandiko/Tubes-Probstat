{
 "cells": [
  {
   "cell_type": "markdown",
   "metadata": {},
   "source": [
    "# Tugas Besar - IF2220 - Probabilitas dan Statistika"
   ]
  },
  {
   "cell_type": "markdown",
   "metadata": {},
   "source": [
    "## Soal"
   ]
  },
  {
   "cell_type": "markdown",
   "metadata": {},
   "source": [
    "Diberikan sebuah data Gandum.csv yang dapat diakses pada utas berikut: Dataset Tugas Besar IF2220. Gandum.csv merupakan data klasifikasi biji gandum yang mengandung 12 kolom sebagai berikut:\n",
    "1. id\n",
    "2. Daerah\n",
    "3. SumbuUtama\n",
    "4. SumbuKecil\n",
    "5. Keunikan\n",
    "6. AreaBulatan\n",
    "7. Diameter\n",
    "8. KadarAir\n",
    "9. Keliling\n",
    "10. Bulatan\n",
    "11. Ransum\n",
    "12. Kelas\n",
    "\n",
    "Kolom 2-11 adalah kolom atribut (non-target), sedangkan kolom 12 adalah kolom target.\n",
    "Anda diminta untuk melakukan analisis statistika sebagai berikut:"
   ]
  },
  {
   "cell_type": "markdown",
   "metadata": {},
   "source": [
    "### 1.Menulis deskripsi statistika (Descriptive Statistics) \n",
    "dari semua kolom pada data yang bersifat numerik, terdiri dari mean, median, modus, standar deviasi, variansi, range, nilai minimum, maksimum, kuartil, IQR, skewness dan kurtosis. Boleh juga ditambahkan deskripsi lain."
   ]
  },
  {
   "cell_type": "code",
   "execution_count": 119,
   "metadata": {
    "scrolled": true
   },
   "outputs": [
    {
     "data": {
      "text/html": [
       "<div>\n",
       "<style scoped>\n",
       "    .dataframe tbody tr th:only-of-type {\n",
       "        vertical-align: middle;\n",
       "    }\n",
       "\n",
       "    .dataframe tbody tr th {\n",
       "        vertical-align: top;\n",
       "    }\n",
       "\n",
       "    .dataframe thead th {\n",
       "        text-align: right;\n",
       "    }\n",
       "</style>\n",
       "<table border=\"1\" class=\"dataframe\">\n",
       "  <thead>\n",
       "    <tr style=\"text-align: right;\">\n",
       "      <th></th>\n",
       "      <th>id</th>\n",
       "      <th>Daerah</th>\n",
       "      <th>SumbuUtama</th>\n",
       "      <th>SumbuKecil</th>\n",
       "      <th>Keunikan</th>\n",
       "      <th>AreaBulatan</th>\n",
       "      <th>Diameter</th>\n",
       "      <th>KadarAir</th>\n",
       "      <th>Keliling</th>\n",
       "      <th>Bulatan</th>\n",
       "      <th>Ransum</th>\n",
       "      <th>Kelas</th>\n",
       "    </tr>\n",
       "  </thead>\n",
       "  <tbody>\n",
       "    <tr>\n",
       "      <th>0</th>\n",
       "      <td>2</td>\n",
       "      <td>4176</td>\n",
       "      <td>109.348294</td>\n",
       "      <td>49.837688</td>\n",
       "      <td>0.890098</td>\n",
       "      <td>4277</td>\n",
       "      <td>72.918093</td>\n",
       "      <td>0.596231</td>\n",
       "      <td>260.346</td>\n",
       "      <td>0.774227</td>\n",
       "      <td>2.194088</td>\n",
       "      <td>1</td>\n",
       "    </tr>\n",
       "    <tr>\n",
       "      <th>1</th>\n",
       "      <td>3</td>\n",
       "      <td>4555</td>\n",
       "      <td>114.427991</td>\n",
       "      <td>52.151207</td>\n",
       "      <td>0.890105</td>\n",
       "      <td>4706</td>\n",
       "      <td>76.155145</td>\n",
       "      <td>0.776641</td>\n",
       "      <td>279.606</td>\n",
       "      <td>0.732159</td>\n",
       "      <td>2.194158</td>\n",
       "      <td>1</td>\n",
       "    </tr>\n",
       "    <tr>\n",
       "      <th>2</th>\n",
       "      <td>4</td>\n",
       "      <td>4141</td>\n",
       "      <td>108.701191</td>\n",
       "      <td>49.457349</td>\n",
       "      <td>0.890499</td>\n",
       "      <td>4236</td>\n",
       "      <td>72.611879</td>\n",
       "      <td>0.633180</td>\n",
       "      <td>260.478</td>\n",
       "      <td>0.766960</td>\n",
       "      <td>2.197877</td>\n",
       "      <td>1</td>\n",
       "    </tr>\n",
       "    <tr>\n",
       "      <th>3</th>\n",
       "      <td>5</td>\n",
       "      <td>5273</td>\n",
       "      <td>122.747869</td>\n",
       "      <td>55.757848</td>\n",
       "      <td>0.890876</td>\n",
       "      <td>5431</td>\n",
       "      <td>81.937733</td>\n",
       "      <td>0.669842</td>\n",
       "      <td>302.730</td>\n",
       "      <td>0.723031</td>\n",
       "      <td>2.201446</td>\n",
       "      <td>1</td>\n",
       "    </tr>\n",
       "    <tr>\n",
       "      <th>4</th>\n",
       "      <td>6</td>\n",
       "      <td>5371</td>\n",
       "      <td>123.943530</td>\n",
       "      <td>56.235398</td>\n",
       "      <td>0.891145</td>\n",
       "      <td>5531</td>\n",
       "      <td>82.695644</td>\n",
       "      <td>0.734144</td>\n",
       "      <td>297.114</td>\n",
       "      <td>0.764573</td>\n",
       "      <td>2.204013</td>\n",
       "      <td>1</td>\n",
       "    </tr>\n",
       "  </tbody>\n",
       "</table>\n",
       "</div>"
      ],
      "text/plain": [
       "   id  Daerah  SumbuUtama  SumbuKecil  Keunikan  AreaBulatan   Diameter  \\\n",
       "0   2    4176  109.348294   49.837688  0.890098         4277  72.918093   \n",
       "1   3    4555  114.427991   52.151207  0.890105         4706  76.155145   \n",
       "2   4    4141  108.701191   49.457349  0.890499         4236  72.611879   \n",
       "3   5    5273  122.747869   55.757848  0.890876         5431  81.937733   \n",
       "4   6    5371  123.943530   56.235398  0.891145         5531  82.695644   \n",
       "\n",
       "   KadarAir  Keliling   Bulatan    Ransum  Kelas  \n",
       "0  0.596231   260.346  0.774227  2.194088      1  \n",
       "1  0.776641   279.606  0.732159  2.194158      1  \n",
       "2  0.633180   260.478  0.766960  2.197877      1  \n",
       "3  0.669842   302.730  0.723031  2.201446      1  \n",
       "4  0.734144   297.114  0.764573  2.204013      1  "
      ]
     },
     "execution_count": 119,
     "metadata": {},
     "output_type": "execute_result"
    }
   ],
   "source": [
    "# Import data\n",
    "import pandas as pd\n",
    "import matplotlib.pyplot as plt\n",
    "import numpy as np\n",
    "gandum = pd.read_csv(\"Gandum.csv\")\n",
    "gandum.columns = ['id','Daerah','SumbuUtama','SumbuKecil','Keunikan','AreaBulatan','Diameter','KadarAir','Keliling','Bulatan','Ransum','Kelas']\n",
    "gandum.head()"
   ]
  },
  {
   "cell_type": "code",
   "execution_count": 120,
   "metadata": {},
   "outputs": [
    {
     "name": "stdout",
     "output_type": "stream",
     "text": [
      "------------- Mean -------------\n",
      "id              251.000000\n",
      "Daerah         4799.282565\n",
      "SumbuUtama      116.020635\n",
      "SumbuKecil       53.705716\n",
      "Keunikan          0.878741\n",
      "AreaBulatan    4935.010020\n",
      "Diameter         77.755080\n",
      "KadarAir          0.648320\n",
      "Keliling        281.409028\n",
      "Bulatan           0.761813\n",
      "Ransum            2.150829\n",
      "Kelas             1.503006\n",
      "dtype: float64\n",
      "\n",
      "\n",
      "\n",
      "------------- Median -------------\n",
      "id              251.000000\n",
      "Daerah         4733.000000\n",
      "SumbuUtama      115.396744\n",
      "SumbuKecil       53.727453\n",
      "Keunikan          0.889996\n",
      "AreaBulatan    4855.000000\n",
      "Diameter         77.628878\n",
      "KadarAir          0.625731\n",
      "Keliling        279.955000\n",
      "Bulatan           0.761403\n",
      "Ransum            2.193132\n",
      "Kelas             2.000000\n",
      "dtype: float64\n",
      "\n",
      "\n",
      "\n",
      "------------- Mode -------------\n",
      "      id  Daerah  SumbuUtama  SumbuKecil  Keunikan  AreaBulatan   Diameter  \\\n",
      "0      2  3992.0   74.133114   39.906517  0.719916       3802.0  71.293564   \n",
      "1      3  4881.0   74.364021   41.436419  0.725553       4913.0  78.833256   \n",
      "2      4  5642.0   74.691881   42.871879  0.731211          NaN  84.756224   \n",
      "3      5  6083.0   76.293164   43.284979  0.738639          NaN  88.006342   \n",
      "4      6     NaN   76.789043   44.119355  0.749282          NaN        NaN   \n",
      "..   ...     ...         ...         ...       ...          ...        ...   \n",
      "494  496     NaN  152.068440   63.322854  0.913724          NaN        NaN   \n",
      "495  497     NaN  152.113491   63.762307  0.913760          NaN        NaN   \n",
      "496  498     NaN  153.583387   64.012769  0.913891          NaN        NaN   \n",
      "497  499     NaN  227.105462   65.738475  0.913909          NaN        NaN   \n",
      "498  500     NaN  227.928583   68.977700  0.914001          NaN        NaN   \n",
      "\n",
      "     KadarAir  Keliling   Bulatan    Ransum  Kelas  \n",
      "0    0.735849   197.015  0.174590  1.440796    2.0  \n",
      "1    0.824405   200.587  0.261297  1.453137    NaN  \n",
      "2         NaN   202.456  0.299298  1.465950    NaN  \n",
      "3         NaN   207.325  0.589146  1.483456    NaN  \n",
      "4         NaN   207.697  0.603807  1.510000    NaN  \n",
      "..        ...       ...       ...       ...    ...  \n",
      "494       NaN   375.651  0.872417  2.461017    NaN  \n",
      "495       NaN   390.125  0.874243  2.461510    NaN  \n",
      "496       NaN   434.235  0.874743  2.463297    NaN  \n",
      "497       NaN   448.305  0.891706  2.463546    NaN  \n",
      "498       NaN   488.837  0.904748  2.464809    NaN  \n",
      "\n",
      "[499 rows x 12 columns]\n",
      "\n",
      "\n",
      "\n",
      "------------- Std. Deviasi -------------\n",
      "id              144.193157\n",
      "Daerah          986.406825\n",
      "SumbuUtama       18.292730\n",
      "SumbuKecil        4.069573\n",
      "Keunikan          0.036619\n",
      "AreaBulatan    1011.683617\n",
      "Diameter          8.056920\n",
      "KadarAir          0.094455\n",
      "Keliling         37.339355\n",
      "Bulatan           0.061741\n",
      "Ransum            0.250010\n",
      "Kelas             0.500493\n",
      "dtype: float64\n",
      "\n",
      "\n",
      "\n",
      "------------- Varians -------------\n",
      "id             2.079167e+04\n",
      "Daerah         9.729984e+05\n",
      "SumbuUtama     3.346240e+02\n",
      "SumbuKecil     1.656143e+01\n",
      "Keunikan       1.340958e-03\n",
      "AreaBulatan    1.023504e+06\n",
      "Diameter       6.491395e+01\n",
      "KadarAir       8.921700e-03\n",
      "Keliling       1.394227e+03\n",
      "Bulatan        3.811979e-03\n",
      "Ransum         6.250502e-02\n",
      "Kelas          2.504930e-01\n",
      "dtype: float64\n",
      "\n",
      "\n",
      "\n",
      "------------- Range -------------\n",
      "id            498.0\n",
      "Daerah        4931.0\n",
      "SumbuUtama    153.79546865999998\n",
      "SumbuKecil    29.071182429999993\n",
      "Keunikan      0.19408517999999997\n",
      "AreaBulatan   5141.0\n",
      "Diameter      40.747172240000005\n",
      "KadarAir      0.46897193099999995\n",
      "Keliling      291.822\n",
      "Bulatan       0.7301581349999999\n",
      "Ransum        1.0240129659999997\n",
      "Kelas         1.0\n",
      "\n",
      "\n",
      "\n",
      "------------- Minimum -------------\n",
      "id                2.000000\n",
      "Daerah         2522.000000\n",
      "SumbuUtama       74.133114\n",
      "SumbuKecil       39.906517\n",
      "Keunikan          0.719916\n",
      "AreaBulatan    2579.000000\n",
      "Diameter         56.666658\n",
      "KadarAir          0.409927\n",
      "Keliling        197.015000\n",
      "Bulatan           0.174590\n",
      "Ransum            1.440796\n",
      "Kelas             1.000000\n",
      "dtype: float64\n",
      "\n",
      "\n",
      "\n",
      "------------- Maksimum -------------\n",
      "id              500.000000\n",
      "Daerah         7453.000000\n",
      "SumbuUtama      227.928583\n",
      "SumbuKecil       68.977700\n",
      "Keunikan          0.914001\n",
      "AreaBulatan    7720.000000\n",
      "Diameter         97.413830\n",
      "KadarAir          0.878899\n",
      "Keliling        488.837000\n",
      "Bulatan           0.904748\n",
      "Ransum            2.464809\n",
      "Kelas             2.000000\n",
      "dtype: float64\n",
      "\n",
      "\n",
      "\n",
      "------------- IQR -------------\n",
      "id            249.0\n",
      "Daerah        1450.0\n",
      "SumbuUtama    24.992568300000016\n",
      "SumbuKecil    5.116670624999998\n",
      "Keunikan      0.04394081750000001\n",
      "AreaBulatan   1483.5\n",
      "Diameter      11.882671465000001\n",
      "KadarAir      0.15422808850000003\n",
      "Keliling      49.932500000000005\n",
      "Bulatan       0.06429884950000009\n",
      "Ransum        0.39813012199999953\n",
      "Kelas         1.0\n",
      "\n",
      "\n",
      "\n",
      "------------- Skewness -------------\n",
      "id             0.000000\n",
      "Daerah         0.242636\n",
      "SumbuUtama     0.765236\n",
      "SumbuKecil    -0.007025\n",
      "Keunikan      -1.620518\n",
      "AreaBulatan    0.262109\n",
      "Diameter       0.006750\n",
      "KadarAir       0.494884\n",
      "Keliling       0.738875\n",
      "Bulatan       -3.602930\n",
      "Ransum        -0.656561\n",
      "Kelas         -0.012061\n",
      "dtype: float64\n",
      "\n",
      "\n",
      "\n",
      "------------- Kurtosis -------------\n",
      "id             -1.200000\n",
      "Daerah         -0.429591\n",
      "SumbuUtama      4.332895\n",
      "SumbuKecil      0.483912\n",
      "Keunikan        2.903678\n",
      "AreaBulatan    -0.404261\n",
      "Diameter       -0.463340\n",
      "KadarAir       -0.743118\n",
      "Keliling        2.285155\n",
      "Bulatan        29.976634\n",
      "Ransum         -0.434428\n",
      "Kelas          -2.007918\n",
      "dtype: float64\n",
      "\n",
      "\n",
      "\n"
     ]
    }
   ],
   "source": [
    "print(\"------------- Mean -------------\")\n",
    "print(gandum.mean(numeric_only=True))\n",
    "print(\"\\n\\n\")\n",
    "print(\"------------- Median -------------\")\n",
    "print(gandum.median(numeric_only=True))\n",
    "#asumsi NaN tidak bisa menjadi mode\n",
    "print(\"\\n\\n\")\n",
    "print(\"------------- Mode -------------\")\n",
    "print(gandum.mode(numeric_only=True, dropna=True))\n",
    "print(\"\\n\\n\")\n",
    "print(\"------------- Std. Deviasi -------------\")\n",
    "print(gandum.std(numeric_only=True))\n",
    "print(\"\\n\\n\")\n",
    "print(\"------------- Varians -------------\")\n",
    "print(gandum.var(numeric_only=True))\n",
    "print(\"\\n\\n\")\n",
    "print(\"------------- Range -------------\")\n",
    "gandum_Describe = gandum.describe()\n",
    "for column in gandum_Describe:\n",
    "    print(f\"{column:12} \", gandum_Describe[column][\"max\"] - gandum_Describe[column][\"min\"])\n",
    "print(\"\\n\\n\")\n",
    "print(\"------------- Minimum -------------\")\n",
    "print(gandum.min(numeric_only=True))\n",
    "print(\"\\n\\n\")\n",
    "print(\"------------- Maksimum -------------\")\n",
    "print(gandum.max(numeric_only=True))\n",
    "print(\"\\n\\n\")\n",
    "print(\"------------- IQR -------------\")\n",
    "gandum_Describe = gandum.describe()\n",
    "for column in gandum_Describe:\n",
    "    print(f\"{column:12} \", gandum_Describe[column][\"75%\"] - gandum_Describe[column][\"25%\"])\n",
    "print(\"\\n\\n\")\n",
    "print(\"------------- Skewness -------------\")\n",
    "print(gandum.skew(numeric_only=True))\n",
    "print(\"\\n\\n\")\n",
    "print(\"------------- Kurtosis -------------\")\n",
    "print(gandum.kurtosis(numeric_only=True))\n",
    "print(\"\\n\\n\")"
   ]
  },
  {
   "cell_type": "code",
   "execution_count": 121,
   "metadata": {},
   "outputs": [
    {
     "name": "stdout",
     "output_type": "stream",
     "text": [
      "------------- Kuartil -------------\n"
     ]
    },
    {
     "data": {
      "text/html": [
       "<div>\n",
       "<style scoped>\n",
       "    .dataframe tbody tr th:only-of-type {\n",
       "        vertical-align: middle;\n",
       "    }\n",
       "\n",
       "    .dataframe tbody tr th {\n",
       "        vertical-align: top;\n",
       "    }\n",
       "\n",
       "    .dataframe thead th {\n",
       "        text-align: right;\n",
       "    }\n",
       "</style>\n",
       "<table border=\"1\" class=\"dataframe\">\n",
       "  <thead>\n",
       "    <tr style=\"text-align: right;\">\n",
       "      <th></th>\n",
       "      <th>id</th>\n",
       "      <th>Daerah</th>\n",
       "      <th>SumbuUtama</th>\n",
       "      <th>SumbuKecil</th>\n",
       "      <th>Keunikan</th>\n",
       "      <th>AreaBulatan</th>\n",
       "      <th>Diameter</th>\n",
       "      <th>KadarAir</th>\n",
       "      <th>Keliling</th>\n",
       "      <th>Bulatan</th>\n",
       "      <th>Ransum</th>\n",
       "      <th>Kelas</th>\n",
       "    </tr>\n",
       "  </thead>\n",
       "  <tbody>\n",
       "    <tr>\n",
       "      <th>25%</th>\n",
       "      <td>126.5</td>\n",
       "      <td>4042.5</td>\n",
       "      <td>104.063393</td>\n",
       "      <td>51.192400</td>\n",
       "      <td>0.863673</td>\n",
       "      <td>4166.5</td>\n",
       "      <td>71.743089</td>\n",
       "      <td>0.572602</td>\n",
       "      <td>255.8540</td>\n",
       "      <td>0.732088</td>\n",
       "      <td>1.983917</td>\n",
       "      <td>1.0</td>\n",
       "    </tr>\n",
       "    <tr>\n",
       "      <th>50%</th>\n",
       "      <td>251.0</td>\n",
       "      <td>4733.0</td>\n",
       "      <td>115.396744</td>\n",
       "      <td>53.727453</td>\n",
       "      <td>0.889996</td>\n",
       "      <td>4855.0</td>\n",
       "      <td>77.628878</td>\n",
       "      <td>0.625731</td>\n",
       "      <td>279.9550</td>\n",
       "      <td>0.761403</td>\n",
       "      <td>2.193132</td>\n",
       "      <td>2.0</td>\n",
       "    </tr>\n",
       "    <tr>\n",
       "      <th>75%</th>\n",
       "      <td>375.5</td>\n",
       "      <td>5492.5</td>\n",
       "      <td>129.055961</td>\n",
       "      <td>56.309070</td>\n",
       "      <td>0.907613</td>\n",
       "      <td>5650.0</td>\n",
       "      <td>83.625761</td>\n",
       "      <td>0.726830</td>\n",
       "      <td>305.7865</td>\n",
       "      <td>0.796387</td>\n",
       "      <td>2.382048</td>\n",
       "      <td>2.0</td>\n",
       "    </tr>\n",
       "  </tbody>\n",
       "</table>\n",
       "</div>"
      ],
      "text/plain": [
       "        id  Daerah  SumbuUtama  SumbuKecil  Keunikan  AreaBulatan   Diameter  \\\n",
       "25%  126.5  4042.5  104.063393   51.192400  0.863673       4166.5  71.743089   \n",
       "50%  251.0  4733.0  115.396744   53.727453  0.889996       4855.0  77.628878   \n",
       "75%  375.5  5492.5  129.055961   56.309070  0.907613       5650.0  83.625761   \n",
       "\n",
       "     KadarAir  Keliling   Bulatan    Ransum  Kelas  \n",
       "25%  0.572602  255.8540  0.732088  1.983917    1.0  \n",
       "50%  0.625731  279.9550  0.761403  2.193132    2.0  \n",
       "75%  0.726830  305.7865  0.796387  2.382048    2.0  "
      ]
     },
     "execution_count": 121,
     "metadata": {},
     "output_type": "execute_result"
    }
   ],
   "source": [
    "print(\"------------- Kuartil -------------\")\n",
    "gandum.describe().loc[['25%','50%','75%']]"
   ]
  },
  {
   "cell_type": "markdown",
   "metadata": {},
   "source": [
    "### 2. Membuat Visualisasi plot distribusi\n",
    "dalam bentuk histogram dan boxplot untuk setiap kolom numerik. Berikan uraian penjelasan kondisi setiap kolom berdasarkan kedua plot tersebut."
   ]
  },
  {
   "cell_type": "code",
   "execution_count": null,
   "metadata": {},
   "outputs": [],
   "source": []
  },
  {
   "cell_type": "markdown",
   "metadata": {},
   "source": [
    "### 3. Menentukan setiap kolom numerik berdistribusi normal atau tidak\n",
    "Gunakan normality test yang dikaitkan dengan histogram plot."
   ]
  },
  {
   "cell_type": "code",
   "execution_count": null,
   "metadata": {},
   "outputs": [],
   "source": []
  },
  {
   "cell_type": "markdown",
   "metadata": {},
   "source": [
    "### 4. Melakukan test hipotesis 1 sampel, dengan menuliskan 6 langkah testing\n",
    "   menampilkan juga boxplotnya untuk kolom/bagian yang bersesuaian.<br>\n",
    "   <ul>\n",
    "    <li>Nilai rata-rata Daerah di atas 4700?</li>\n",
    "    <li>Nilai Rata-rata Sumbu Utama tidak sama dengan 116?</li>\n",
    "    <li>Nilai Rata-rata 20 baris pertama kolom Sumbu Kecil bukan 50?</li>\n",
    "    <li>Proporsi nilai Diameter yang lebih dari 85, adalah tidak sama dengan 15% ?</li>\n",
    "    <li>Proporsi nilai Keliling yang kurang dari 100, adalah kurang dari 5% ?</li>\n",
    "   </ul>"
   ]
  },
  {
   "cell_type": "code",
   "execution_count": null,
   "metadata": {},
   "outputs": [],
   "source": []
  },
  {
   "cell_type": "markdown",
   "metadata": {},
   "source": [
    "### 5. Melakukan test hipotesis 2 sampel, dengan menuliskan 6 langkah testing \n",
    "menampilkan juga boxplotnya untuk kolom/bagian yang bersesuaian.\n",
    "<ul>\n",
    "    <li>Data kolom AreaBulatan dibagi 2 sama rata: bagian awal dan bagian akhir kolom. Benarkah rata-rata kedua bagian tersebut sama?</li>\n",
    "    <li>Data kolom Kadar Air dibagi 2 sama rata: bagian awal dan bagian akhir kolom. Benarkah rata-rata bagian awal lebih besar dari pada bagian akhir sebesar 0.2?</li>\n",
    "    <li>Rata-rata 20 baris pertama kolom Bulatan sama dengan 20 baris terakhirnya?</li>\n",
    "    <li>Proporsi nilai bagian awal Ransum yang lebih dari 2, adalah lebih besar daripada, proporsi nilai yang sama di bagian akhir Ransum?</li>\n",
    "    <li>Bagian awal kolom Diameter memiliki variansi yang sama dengan bagian akhirnya?</li>\n",
    "</ul>"
   ]
  },
  {
   "cell_type": "code",
   "execution_count": 122,
   "metadata": {},
   "outputs": [
    {
     "data": {
      "text/html": [
       "<div>\n",
       "<style scoped>\n",
       "    .dataframe tbody tr th:only-of-type {\n",
       "        vertical-align: middle;\n",
       "    }\n",
       "\n",
       "    .dataframe tbody tr th {\n",
       "        vertical-align: top;\n",
       "    }\n",
       "\n",
       "    .dataframe thead th {\n",
       "        text-align: right;\n",
       "    }\n",
       "</style>\n",
       "<table border=\"1\" class=\"dataframe\">\n",
       "  <thead>\n",
       "    <tr style=\"text-align: right;\">\n",
       "      <th></th>\n",
       "      <th>Name</th>\n",
       "      <th>Age</th>\n",
       "    </tr>\n",
       "  </thead>\n",
       "  <tbody>\n",
       "    <tr>\n",
       "      <th>0</th>\n",
       "      <td>Tom</td>\n",
       "      <td>20</td>\n",
       "    </tr>\n",
       "    <tr>\n",
       "      <th>1</th>\n",
       "      <td>nick</td>\n",
       "      <td>20</td>\n",
       "    </tr>\n",
       "    <tr>\n",
       "      <th>2</th>\n",
       "      <td>krish</td>\n",
       "      <td>22</td>\n",
       "    </tr>\n",
       "    <tr>\n",
       "      <th>3</th>\n",
       "      <td>jack</td>\n",
       "      <td>18</td>\n",
       "    </tr>\n",
       "  </tbody>\n",
       "</table>\n",
       "</div>"
      ],
      "text/plain": [
       "    Name  Age\n",
       "0    Tom   20\n",
       "1   nick   20\n",
       "2  krish   22\n",
       "3   jack   18"
      ]
     },
     "metadata": {},
     "output_type": "display_data"
    },
    {
     "data": {
      "text/html": [
       "<div>\n",
       "<style scoped>\n",
       "    .dataframe tbody tr th:only-of-type {\n",
       "        vertical-align: middle;\n",
       "    }\n",
       "\n",
       "    .dataframe tbody tr th {\n",
       "        vertical-align: top;\n",
       "    }\n",
       "\n",
       "    .dataframe thead th {\n",
       "        text-align: right;\n",
       "    }\n",
       "</style>\n",
       "<table border=\"1\" class=\"dataframe\">\n",
       "  <thead>\n",
       "    <tr style=\"text-align: right;\">\n",
       "      <th></th>\n",
       "      <th>Name</th>\n",
       "      <th>Age</th>\n",
       "    </tr>\n",
       "  </thead>\n",
       "  <tbody>\n",
       "    <tr>\n",
       "      <th>0</th>\n",
       "      <td>Tom</td>\n",
       "      <td>20</td>\n",
       "    </tr>\n",
       "    <tr>\n",
       "      <th>1</th>\n",
       "      <td>nick</td>\n",
       "      <td>20</td>\n",
       "    </tr>\n",
       "  </tbody>\n",
       "</table>\n",
       "</div>"
      ],
      "text/plain": [
       "   Name  Age\n",
       "0   Tom   20\n",
       "1  nick   20"
      ]
     },
     "metadata": {},
     "output_type": "display_data"
    },
    {
     "data": {
      "text/html": [
       "<div>\n",
       "<style scoped>\n",
       "    .dataframe tbody tr th:only-of-type {\n",
       "        vertical-align: middle;\n",
       "    }\n",
       "\n",
       "    .dataframe tbody tr th {\n",
       "        vertical-align: top;\n",
       "    }\n",
       "\n",
       "    .dataframe thead th {\n",
       "        text-align: right;\n",
       "    }\n",
       "</style>\n",
       "<table border=\"1\" class=\"dataframe\">\n",
       "  <thead>\n",
       "    <tr style=\"text-align: right;\">\n",
       "      <th></th>\n",
       "      <th>Name</th>\n",
       "      <th>Age</th>\n",
       "    </tr>\n",
       "  </thead>\n",
       "  <tbody>\n",
       "    <tr>\n",
       "      <th>1</th>\n",
       "      <td>nick</td>\n",
       "      <td>20</td>\n",
       "    </tr>\n",
       "    <tr>\n",
       "      <th>2</th>\n",
       "      <td>krish</td>\n",
       "      <td>22</td>\n",
       "    </tr>\n",
       "    <tr>\n",
       "      <th>3</th>\n",
       "      <td>jack</td>\n",
       "      <td>18</td>\n",
       "    </tr>\n",
       "  </tbody>\n",
       "</table>\n",
       "</div>"
      ],
      "text/plain": [
       "    Name  Age\n",
       "1   nick   20\n",
       "2  krish   22\n",
       "3   jack   18"
      ]
     },
     "metadata": {},
     "output_type": "display_data"
    }
   ],
   "source": [
    "# testing\n",
    "data = {'Name':['Tom', 'nick', 'krish', 'jack'],\n",
    "        'Age':[20, 20, 22, 18]}\n",
    "df = pd.DataFrame(data)\n",
    "df_1 = df.iloc[:df['Age'].count()//2,:]\n",
    "df_2 = df.iloc[-3:,:]\n",
    "display(df)\n",
    "display(df_1)\n",
    "display(df_2)\n",
    "# print(df_1['Age'].mean())\n",
    "# print(df_2['Age'].mean())"
   ]
  },
  {
   "cell_type": "code",
   "execution_count": 123,
   "metadata": {},
   "outputs": [
    {
     "name": "stdout",
     "output_type": "stream",
     "text": [
      "Rata-rata\n",
      "AreaBulatan bagian awal = 5548.180722891566\n",
      "AreaBulatan bagian akhir = 4324.292\n"
     ]
    }
   ],
   "source": [
    "# Membagi dataframe menjadi 2 bagian sama panjang\n",
    "AreaBulatan1 = gandum.iloc[:gandum['AreaBulatan'].count()//2,:]\n",
    "AreaBulatan2 = gandum.iloc[gandum['AreaBulatan'].count()//2:,:]\n",
    "print(\"Rata-rata\")\n",
    "print(\"AreaBulatan bagian awal = \" + str(AreaBulatan1['AreaBulatan'].mean()))\n",
    "print(\"AreaBulatan bagian akhir = \" + str(AreaBulatan2['AreaBulatan'].mean()))"
   ]
  },
  {
   "cell_type": "code",
   "execution_count": 124,
   "metadata": {},
   "outputs": [
    {
     "name": "stdout",
     "output_type": "stream",
     "text": [
      "Rata-rata\n",
      "KadarAir bagian awal = 0.6355894365261044\n",
      "KadarAir bagian akhir = 0.660999903076\n"
     ]
    }
   ],
   "source": [
    "# Membagi dataframe menjadi 2 bagian sama panjang\n",
    "KadarAir1 = gandum.iloc[:gandum['KadarAir'].count()//2,:]\n",
    "KadarAir2 = gandum.iloc[gandum['KadarAir'].count()//2:,:]\n",
    "print(\"Rata-rata\")\n",
    "print(\"KadarAir bagian awal = \" + str(KadarAir1['KadarAir'].mean()))\n",
    "print(\"KadarAir bagian akhir = \" + str(KadarAir2['KadarAir'].mean()))"
   ]
  },
  {
   "cell_type": "code",
   "execution_count": 125,
   "metadata": {},
   "outputs": [
    {
     "name": "stdout",
     "output_type": "stream",
     "text": [
      "Rata-rata 20 baris pertama kolom Bulatan sama dengan 20 baris terakhirnya?\n",
      "Rata-rata\n",
      "Bulatan bagian awal = 0.7363615505\n",
      "Bulatan bagian akhir = 0.7673224369999999\n"
     ]
    }
   ],
   "source": [
    "print(\"Rata-rata 20 baris pertama kolom Bulatan sama dengan 20 baris terakhirnya?\")\n",
    "Bulatan1 = gandum.iloc[:20,:]\n",
    "Bulatan2 = gandum.iloc[-20:,:]\n",
    "print(\"Rata-rata\")\n",
    "print(\"Bulatan bagian awal = \" + str(Bulatan1['Bulatan'].mean()))\n",
    "print(\"Bulatan bagian akhir = \" + str(Bulatan2['Bulatan'].mean()))"
   ]
  },
  {
   "cell_type": "code",
   "execution_count": 126,
   "metadata": {},
   "outputs": [
    {
     "name": "stdout",
     "output_type": "stream",
     "text": [
      "Proporsi nilai bagian awal Ransum yang lebih dari 2, adalah lebih besar daripada, proporsi nilai yang sama di bagian akhir Ransum?\n"
     ]
    }
   ],
   "source": [
    "print(\"Proporsi nilai bagian awal Ransum yang lebih dari 2, adalah lebih besar daripada, proporsi nilai yang sama di bagian akhir Ransum?\")"
   ]
  },
  {
   "cell_type": "code",
   "execution_count": 127,
   "metadata": {},
   "outputs": [
    {
     "name": "stdout",
     "output_type": "stream",
     "text": [
      "Bagian awal kolom Diameter memiliki variansi yang sama dengan bagian akhirnya?\n",
      "Variansi\n",
      "Diameter bagian awal = 43.30210467515013\n",
      "Diameter bagian akhir = 39.8282643880772\n"
     ]
    }
   ],
   "source": [
    "print(\"Bagian awal kolom Diameter memiliki variansi yang sama dengan bagian akhirnya?\")\n",
    "Diameter1 = gandum.iloc[:gandum['Diameter'].count()//2,:]\n",
    "Diameter2 = gandum.iloc[gandum['Diameter'].count()//2:,:]\n",
    "print(\"Variansi\")\n",
    "print(\"Diameter bagian awal = \" + str(Diameter1['Diameter'].var()))\n",
    "print(\"Diameter bagian akhir = \" + str(Diameter2['Diameter'].var()))"
   ]
  },
  {
   "cell_type": "markdown",
   "metadata": {},
   "source": [
    "### 6. Test korelasi\n",
    "tentukan apakah setiap kolom non-target berkorelasi dengan kolom target, dengan menggambarkan juga scatter plot nya. Gunakan correlation test."
   ]
  },
  {
   "cell_type": "code",
   "execution_count": 130,
   "metadata": {},
   "outputs": [
    {
     "name": "stdout",
     "output_type": "stream",
     "text": [
      "Hasil korelasi kolom non-target dengan kolom Kelas(target)\n",
      "Daerah        -0.601950\n",
      "SumbuUtama    -0.712783\n",
      "SumbuKecil    -0.150982\n",
      "Keunikan      -0.730641\n",
      "AreaBulatan   -0.606516\n",
      "Diameter      -0.601737\n",
      "KadarAir       0.135040\n",
      "Keliling      -0.634167\n",
      "Bulatan        0.544528\n",
      "Ransum        -0.840430\n",
      "dtype: float64\n"
     ]
    },
    {
     "data": {
      "image/png": "[encoded data removed]",
      "text/plain": [
       "<Figure size 432x288 with 1 Axes>"
      ]
     },
     "metadata": {
      "needs_background": "light"
     },
     "output_type": "display_data"
    },
    {
     "data": {
      "image/png": "[encoded data removed]",
      "text/plain": [
       "<Figure size 432x288 with 1 Axes>"
      ]
     },
     "metadata": {
      "needs_background": "light"
     },
     "output_type": "display_data"
    },
    {
     "data": {
      "image/png": "[encoded data removed]",
      "text/plain": [
       "<Figure size 432x288 with 1 Axes>"
      ]
     },
     "metadata": {
      "needs_background": "light"
     },
     "output_type": "display_data"
    },
    {
     "data": {
      "image/png": "[encoded data removed]",
      "text/plain": [
       "<Figure size 432x288 with 1 Axes>"
      ]
     },
     "metadata": {
      "needs_background": "light"
     },
     "output_type": "display_data"
    },
    {
     "data": {
      "image/png": "[encoded data removed]",
      "text/plain": [
       "<Figure size 432x288 with 1 Axes>"
      ]
     },
     "metadata": {
      "needs_background": "light"
     },
     "output_type": "display_data"
    },
    {
     "data": {
      "image/png": "[encoded data removed]",
      "text/plain": [
       "<Figure size 432x288 with 1 Axes>"
      ]
     },
     "metadata": {
      "needs_background": "light"
     },
     "output_type": "display_data"
    },
    {
     "data": {
      "image/png": "[encoded data removed]",
      "text/plain": [
       "<Figure size 432x288 with 1 Axes>"
      ]
     },
     "metadata": {
      "needs_background": "light"
     },
     "output_type": "display_data"
    },
    {
     "data": {
      "image/png": "[encoded data removed]",
      "text/plain": [
       "<Figure size 432x288 with 1 Axes>"
      ]
     },
     "metadata": {
      "needs_background": "light"
     },
     "output_type": "display_data"
    },
    {
     "data": {
      "image/png": "[encoded data removed]",
      "text/plain": [
       "<Figure size 432x288 with 1 Axes>"
      ]
     },
     "metadata": {
      "needs_background": "light"
     },
     "output_type": "display_data"
    },
    {
     "data": {
      "image/png": "[encoded data removed]",
      "text/plain": [
       "<Figure size 432x288 with 1 Axes>"
      ]
     },
     "metadata": {
      "needs_background": "light"
     },
     "output_type": "display_data"
    }
   ],
   "source": [
    "nonTarget = gandum[['Daerah','SumbuUtama','SumbuKecil','Keunikan','AreaBulatan','Diameter','KadarAir','Keliling','Bulatan','Ransum']]\n",
    "target = gandum['Kelas']\n",
    "print(\"Hasil korelasi kolom non-target dengan kolom Kelas(target)\")\n",
    "print(nonTarget.corrwith(target))\n",
    "for column in nonTarget:\n",
    "    plt.title(f\"{column} with Kelas\")\n",
    "    plt.scatter(x=gandum[column],y=target)\n",
    "    plt.xlabel(f\"{column}\")\n",
    "    plt.ylabel(\"Kelas\")\n",
    "    plt.show()"
   ]
  },
  {
   "cell_type": "code",
   "execution_count": null,
   "metadata": {},
   "outputs": [],
   "source": []
  }
 ],
 "metadata": {
  "kernelspec": {
   "display_name": "Python 3",
   "language": "python",
   "name": "python3"
  },
  "language_info": {
   "codemirror_mode": {
    "name": "ipython",
    "version": 3
   },
   "file_extension": ".py",
   "mimetype": "text/x-python",
   "name": "python",
   "nbconvert_exporter": "python",
   "pygments_lexer": "ipython3",
   "version": "3.8.5"
  }
 },
 "nbformat": 4,
 "nbformat_minor": 4
}
