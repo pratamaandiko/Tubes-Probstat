{
 "cells": [
  {
   "cell_type": "markdown",
   "metadata": {},
   "source": [
    "# Tugas Besar - IF2220 - Probabilitas dan Statistika"
   ]
  },
  {
   "cell_type": "markdown",
   "metadata": {},
   "source": [
    "## Soal"
   ]
  },
  {
   "cell_type": "markdown",
   "metadata": {},
   "source": [
    "Diberikan sebuah data Gandum.csv yang dapat diakses pada utas berikut: Dataset Tugas Besar IF2220. Gandum.csv merupakan data klasifikasi biji gandum yang mengandung 12 kolom sebagai berikut:\n",
    "1. id\n",
    "2. Daerah\n",
    "3. SumbuUtama\n",
    "4. SumbuKecil\n",
    "5. Keunikan\n",
    "6. AreaBulatan\n",
    "7. Diameter\n",
    "8. KadarAir\n",
    "9. Keliling\n",
    "10. Bulatan\n",
    "11. Ransum\n",
    "12. Kelas\n",
    "\n",
    "Kolom 2-11 adalah kolom atribut (non-target), sedangkan kolom 12 adalah kolom target.\n",
    "Anda diminta untuk melakukan analisis statistika sebagai berikut:"
   ]
  },
  {
   "cell_type": "markdown",
   "metadata": {},
   "source": [
    "### 1.Menulis deskripsi statistika (Descriptive Statistics) \n",
    "dari semua kolom pada data yang bersifat numerik, terdiri dari mean, median, modus, standar deviasi, variansi, range, nilai minimum, maksimum, kuartil, IQR, skewness dan kurtosis. Boleh juga ditambahkan deskripsi lain."
   ]
  },
  {
   "cell_type": "code",
   "execution_count": 1,
   "metadata": {
    "scrolled": true
   },
   "outputs": [
    {
     "data": {
      "text/html": [
       "<div>\n",
       "<style scoped>\n",
       "    .dataframe tbody tr th:only-of-type {\n",
       "        vertical-align: middle;\n",
       "    }\n",
       "\n",
       "    .dataframe tbody tr th {\n",
       "        vertical-align: top;\n",
       "    }\n",
       "\n",
       "    .dataframe thead th {\n",
       "        text-align: right;\n",
       "    }\n",
       "</style>\n",
       "<table border=\"1\" class=\"dataframe\">\n",
       "  <thead>\n",
       "    <tr style=\"text-align: right;\">\n",
       "      <th></th>\n",
       "      <th>id</th>\n",
       "      <th>Daerah</th>\n",
       "      <th>SumbuUtama</th>\n",
       "      <th>SumbuKecil</th>\n",
       "      <th>Keunikan</th>\n",
       "      <th>AreaBulatan</th>\n",
       "      <th>Diameter</th>\n",
       "      <th>KadarAir</th>\n",
       "      <th>Keliling</th>\n",
       "      <th>Bulatan</th>\n",
       "      <th>Ransum</th>\n",
       "      <th>Kelas</th>\n",
       "    </tr>\n",
       "  </thead>\n",
       "  <tbody>\n",
       "    <tr>\n",
       "      <th>0</th>\n",
       "      <td>1</td>\n",
       "      <td>5781</td>\n",
       "      <td>128.288875</td>\n",
       "      <td>58.470846</td>\n",
       "      <td>0.890095</td>\n",
       "      <td>5954</td>\n",
       "      <td>85.793926</td>\n",
       "      <td>0.674090</td>\n",
       "      <td>316.756</td>\n",
       "      <td>0.724041</td>\n",
       "      <td>2.194066</td>\n",
       "      <td>1</td>\n",
       "    </tr>\n",
       "    <tr>\n",
       "      <th>1</th>\n",
       "      <td>2</td>\n",
       "      <td>4176</td>\n",
       "      <td>109.348294</td>\n",
       "      <td>49.837688</td>\n",
       "      <td>0.890098</td>\n",
       "      <td>4277</td>\n",
       "      <td>72.918093</td>\n",
       "      <td>0.596231</td>\n",
       "      <td>260.346</td>\n",
       "      <td>0.774227</td>\n",
       "      <td>2.194088</td>\n",
       "      <td>1</td>\n",
       "    </tr>\n",
       "    <tr>\n",
       "      <th>2</th>\n",
       "      <td>3</td>\n",
       "      <td>4555</td>\n",
       "      <td>114.427991</td>\n",
       "      <td>52.151207</td>\n",
       "      <td>0.890105</td>\n",
       "      <td>4706</td>\n",
       "      <td>76.155145</td>\n",
       "      <td>0.776641</td>\n",
       "      <td>279.606</td>\n",
       "      <td>0.732159</td>\n",
       "      <td>2.194158</td>\n",
       "      <td>1</td>\n",
       "    </tr>\n",
       "    <tr>\n",
       "      <th>3</th>\n",
       "      <td>4</td>\n",
       "      <td>4141</td>\n",
       "      <td>108.701191</td>\n",
       "      <td>49.457349</td>\n",
       "      <td>0.890499</td>\n",
       "      <td>4236</td>\n",
       "      <td>72.611879</td>\n",
       "      <td>0.633180</td>\n",
       "      <td>260.478</td>\n",
       "      <td>0.766960</td>\n",
       "      <td>2.197877</td>\n",
       "      <td>1</td>\n",
       "    </tr>\n",
       "    <tr>\n",
       "      <th>4</th>\n",
       "      <td>5</td>\n",
       "      <td>5273</td>\n",
       "      <td>122.747869</td>\n",
       "      <td>55.757848</td>\n",
       "      <td>0.890876</td>\n",
       "      <td>5431</td>\n",
       "      <td>81.937733</td>\n",
       "      <td>0.669842</td>\n",
       "      <td>302.730</td>\n",
       "      <td>0.723031</td>\n",
       "      <td>2.201446</td>\n",
       "      <td>1</td>\n",
       "    </tr>\n",
       "  </tbody>\n",
       "</table>\n",
       "</div>"
      ],
      "text/plain": [
       "   id  Daerah  SumbuUtama  SumbuKecil  Keunikan  AreaBulatan   Diameter  \\\n",
       "0   1    5781  128.288875   58.470846  0.890095         5954  85.793926   \n",
       "1   2    4176  109.348294   49.837688  0.890098         4277  72.918093   \n",
       "2   3    4555  114.427991   52.151207  0.890105         4706  76.155145   \n",
       "3   4    4141  108.701191   49.457349  0.890499         4236  72.611879   \n",
       "4   5    5273  122.747869   55.757848  0.890876         5431  81.937733   \n",
       "\n",
       "   KadarAir  Keliling   Bulatan    Ransum  Kelas  \n",
       "0  0.674090   316.756  0.724041  2.194066      1  \n",
       "1  0.596231   260.346  0.774227  2.194088      1  \n",
       "2  0.776641   279.606  0.732159  2.194158      1  \n",
       "3  0.633180   260.478  0.766960  2.197877      1  \n",
       "4  0.669842   302.730  0.723031  2.201446      1  "
      ]
     },
     "execution_count": 1,
     "metadata": {},
     "output_type": "execute_result"
    }
   ],
   "source": [
    "# Import data\n",
    "from IPython.display import Markdown, display\n",
    "import pandas as pd\n",
    "import matplotlib.pyplot as plt\n",
    "import matplotlib.mlab as mlab\n",
    "import numpy as np\n",
    "import seaborn as sns\n",
    "import scipy\n",
    "\n",
    "def printMd(string):\n",
    "    display(Markdown(string))\n",
    "namaKolom = ['id','Daerah','SumbuUtama','SumbuKecil','Keunikan','AreaBulatan','Diameter','KadarAir','Keliling','Bulatan','Ransum','Kelas']\n",
    "gandum = pd.read_csv(\"Gandum.csv\", names = namaKolom)\n",
    "gandum.head()"
   ]
  },
  {
   "cell_type": "code",
   "execution_count": 2,
   "metadata": {},
   "outputs": [
    {
     "name": "stdout",
     "output_type": "stream",
     "text": [
      "------------- Mean -------------\n",
      "id              250.500000\n",
      "Daerah         4801.246000\n",
      "SumbuUtama      116.045171\n",
      "SumbuKecil       53.715246\n",
      "Keunikan          0.878764\n",
      "AreaBulatan    4937.048000\n",
      "Diameter         77.771158\n",
      "KadarAir          0.648372\n",
      "Keliling        281.479722\n",
      "Bulatan           0.761737\n",
      "Ransum            2.150915\n",
      "Kelas             1.502000\n",
      "dtype: float64\n",
      "\n",
      "\n",
      "\n",
      "------------- Median -------------\n",
      "id              250.500000\n",
      "Daerah         4735.000000\n",
      "SumbuUtama      115.405140\n",
      "SumbuKecil       53.731199\n",
      "Keunikan          0.890045\n",
      "AreaBulatan    4857.000000\n",
      "Diameter         77.645277\n",
      "KadarAir          0.626117\n",
      "Keliling        280.045500\n",
      "Bulatan           0.761288\n",
      "Ransum            2.193599\n",
      "Kelas             2.000000\n",
      "dtype: float64\n",
      "\n",
      "\n",
      "\n",
      "------------- Mode -------------\n",
      "      id  Daerah  SumbuUtama  SumbuKecil  Keunikan  AreaBulatan   Diameter  \\\n",
      "0      1  3992.0   74.133114   39.906517  0.719916       3802.0  71.293564   \n",
      "1      2  4881.0   74.364021   41.436419  0.725553       4913.0  78.833256   \n",
      "2      3  5642.0   74.691881   42.871879  0.731211          NaN  84.756224   \n",
      "3      4  6083.0   76.293164   43.284979  0.738639          NaN  88.006342   \n",
      "4      5     NaN   76.789043   44.119355  0.749282          NaN        NaN   \n",
      "..   ...     ...         ...         ...       ...          ...        ...   \n",
      "495  496     NaN  152.068440   63.322854  0.913724          NaN        NaN   \n",
      "496  497     NaN  152.113491   63.762307  0.913760          NaN        NaN   \n",
      "497  498     NaN  153.583387   64.012769  0.913891          NaN        NaN   \n",
      "498  499     NaN  227.105462   65.738475  0.913909          NaN        NaN   \n",
      "499  500     NaN  227.928583   68.977700  0.914001          NaN        NaN   \n",
      "\n",
      "     KadarAir  Keliling   Bulatan    Ransum  Kelas  \n",
      "0    0.735849   197.015  0.174590  1.440796    2.0  \n",
      "1    0.824405   200.587  0.261297  1.453137    NaN  \n",
      "2         NaN   202.456  0.299298  1.465950    NaN  \n",
      "3         NaN   207.325  0.589146  1.483456    NaN  \n",
      "4         NaN   207.697  0.603807  1.510000    NaN  \n",
      "..        ...       ...       ...       ...    ...  \n",
      "495       NaN   375.651  0.872417  2.461017    NaN  \n",
      "496       NaN   390.125  0.874243  2.461510    NaN  \n",
      "497       NaN   434.235  0.874743  2.463297    NaN  \n",
      "498       NaN   448.305  0.891706  2.463546    NaN  \n",
      "499       NaN   488.837  0.904748  2.464809    NaN  \n",
      "\n",
      "[500 rows x 12 columns]\n",
      "\n",
      "\n",
      "\n",
      "------------- Std. Deviasi -------------\n",
      "id              144.481833\n",
      "Daerah          986.395491\n",
      "SumbuUtama       18.282626\n",
      "SumbuKecil        4.071075\n",
      "Keunikan          0.036586\n",
      "AreaBulatan    1011.696255\n",
      "Diameter          8.056867\n",
      "KadarAir          0.094367\n",
      "Keliling         37.335402\n",
      "Bulatan           0.061702\n",
      "Ransum            0.249767\n",
      "Kelas             0.500497\n",
      "dtype: float64\n",
      "\n",
      "\n",
      "\n",
      "------------- Varians -------------\n",
      "id             2.087500e+04\n",
      "Daerah         9.729761e+05\n",
      "SumbuUtama     3.342544e+02\n",
      "SumbuKecil     1.657365e+01\n",
      "Keunikan       1.338528e-03\n",
      "AreaBulatan    1.023529e+06\n",
      "Diameter       6.491311e+01\n",
      "KadarAir       8.905149e-03\n",
      "Keliling       1.393932e+03\n",
      "Bulatan        3.807194e-03\n",
      "Ransum         6.238350e-02\n",
      "Kelas          2.504970e-01\n",
      "dtype: float64\n",
      "\n",
      "\n",
      "\n",
      "------------- Range -------------\n",
      "id            499.0\n",
      "Daerah        4931.0\n",
      "SumbuUtama    153.79546865999998\n",
      "SumbuKecil    29.071182429999993\n",
      "Keunikan      0.19408517999999997\n",
      "AreaBulatan   5141.0\n",
      "Diameter      40.747172240000005\n",
      "KadarAir      0.46897193099999995\n",
      "Keliling      291.822\n",
      "Bulatan       0.7301581349999999\n",
      "Ransum        1.0240129659999997\n",
      "Kelas         1.0\n",
      "\n",
      "\n",
      "\n",
      "------------- Minimum -------------\n",
      "id                1.000000\n",
      "Daerah         2522.000000\n",
      "SumbuUtama       74.133114\n",
      "SumbuKecil       39.906517\n",
      "Keunikan          0.719916\n",
      "AreaBulatan    2579.000000\n",
      "Diameter         56.666658\n",
      "KadarAir          0.409927\n",
      "Keliling        197.015000\n",
      "Bulatan           0.174590\n",
      "Ransum            1.440796\n",
      "Kelas             1.000000\n",
      "dtype: float64\n",
      "\n",
      "\n",
      "\n",
      "------------- Maksimum -------------\n",
      "id              500.000000\n",
      "Daerah         7453.000000\n",
      "SumbuUtama      227.928583\n",
      "SumbuKecil       68.977700\n",
      "Keunikan          0.914001\n",
      "AreaBulatan    7720.000000\n",
      "Diameter         97.413830\n",
      "KadarAir          0.878899\n",
      "Keliling        488.837000\n",
      "Bulatan           0.904748\n",
      "Ransum            2.464809\n",
      "Kelas             2.000000\n",
      "dtype: float64\n",
      "\n",
      "\n",
      "\n",
      "------------- IQR -------------\n",
      "id            249.5\n",
      "Daerah        1452.75\n",
      "SumbuUtama    24.93069385000001\n",
      "SumbuKecil    5.131581650000001\n",
      "Keunikan      0.04390216424999993\n",
      "AreaBulatan   1484.0\n",
      "Diameter      11.903290020000014\n",
      "KadarAir      0.15400088725000005\n",
      "Keliling      50.17950000000002\n",
      "Bulatan       0.06437024175000006\n",
      "Ransum        0.3976734275\n",
      "Kelas         1.0\n",
      "\n",
      "\n",
      "\n",
      "------------- Skewness -------------\n",
      "id             0.000000\n",
      "Daerah         0.238144\n",
      "SumbuUtama     0.761529\n",
      "SumbuKecil    -0.010828\n",
      "Keunikan      -1.623472\n",
      "AreaBulatan    0.257560\n",
      "Diameter       0.002725\n",
      "KadarAir       0.493661\n",
      "Keliling       0.733627\n",
      "Bulatan       -3.599237\n",
      "Ransum        -0.658188\n",
      "Kelas         -0.008024\n",
      "dtype: float64\n",
      "\n",
      "\n",
      "\n",
      "------------- Kurtosis -------------\n",
      "id             -1.200000\n",
      "Daerah         -0.434631\n",
      "SumbuUtama      4.330534\n",
      "SumbuKecil      0.475568\n",
      "Keunikan        2.917256\n",
      "AreaBulatan    -0.409685\n",
      "Diameter       -0.466455\n",
      "KadarAir       -0.740326\n",
      "Keliling        2.272685\n",
      "Bulatan        29.975096\n",
      "Ransum         -0.428656\n",
      "Kelas          -2.007984\n",
      "dtype: float64\n",
      "\n",
      "\n",
      "\n"
     ]
    }
   ],
   "source": [
    "print(\"------------- Mean -------------\")\n",
    "print(gandum.mean(numeric_only=True))\n",
    "print(\"\\n\\n\")\n",
    "print(\"------------- Median -------------\")\n",
    "print(gandum.median(numeric_only=True))\n",
    "#asumsi NaN tidak bisa menjadi mode\n",
    "print(\"\\n\\n\")\n",
    "print(\"------------- Mode -------------\")\n",
    "print(gandum.mode(numeric_only=True, dropna=True))\n",
    "print(\"\\n\\n\")\n",
    "print(\"------------- Std. Deviasi -------------\")\n",
    "print(gandum.std(numeric_only=True))\n",
    "print(\"\\n\\n\")\n",
    "print(\"------------- Varians -------------\")\n",
    "print(gandum.var(numeric_only=True))\n",
    "print(\"\\n\\n\")\n",
    "print(\"------------- Range -------------\")\n",
    "gandum_Describe = gandum.describe()\n",
    "for column in gandum_Describe:\n",
    "    print(f\"{column:12} \", gandum_Describe[column][\"max\"] - gandum_Describe[column][\"min\"])\n",
    "print(\"\\n\\n\")\n",
    "print(\"------------- Minimum -------------\")\n",
    "print(gandum.min(numeric_only=True))\n",
    "print(\"\\n\\n\")\n",
    "print(\"------------- Maksimum -------------\")\n",
    "print(gandum.max(numeric_only=True))\n",
    "print(\"\\n\\n\")\n",
    "print(\"------------- IQR -------------\")\n",
    "gandum_Describe = gandum.describe()\n",
    "for column in gandum_Describe:\n",
    "    print(f\"{column:12} \", gandum_Describe[column][\"75%\"] - gandum_Describe[column][\"25%\"])\n",
    "print(\"\\n\\n\")\n",
    "print(\"------------- Skewness -------------\")\n",
    "print(gandum.skew(numeric_only=True))\n",
    "print(\"\\n\\n\")\n",
    "print(\"------------- Kurtosis -------------\")\n",
    "print(gandum.kurtosis(numeric_only=True))\n",
    "print(\"\\n\\n\")"
   ]
  },
  {
   "cell_type": "code",
   "execution_count": 3,
   "metadata": {},
   "outputs": [
    {
     "name": "stdout",
     "output_type": "stream",
     "text": [
      "------------- Kuartil -------------\n"
     ]
    },
    {
     "data": {
      "text/html": [
       "<div>\n",
       "<style scoped>\n",
       "    .dataframe tbody tr th:only-of-type {\n",
       "        vertical-align: middle;\n",
       "    }\n",
       "\n",
       "    .dataframe tbody tr th {\n",
       "        vertical-align: top;\n",
       "    }\n",
       "\n",
       "    .dataframe thead th {\n",
       "        text-align: right;\n",
       "    }\n",
       "</style>\n",
       "<table border=\"1\" class=\"dataframe\">\n",
       "  <thead>\n",
       "    <tr style=\"text-align: right;\">\n",
       "      <th></th>\n",
       "      <th>id</th>\n",
       "      <th>Daerah</th>\n",
       "      <th>SumbuUtama</th>\n",
       "      <th>SumbuKecil</th>\n",
       "      <th>Keunikan</th>\n",
       "      <th>AreaBulatan</th>\n",
       "      <th>Diameter</th>\n",
       "      <th>KadarAir</th>\n",
       "      <th>Keliling</th>\n",
       "      <th>Bulatan</th>\n",
       "      <th>Ransum</th>\n",
       "      <th>Kelas</th>\n",
       "    </tr>\n",
       "  </thead>\n",
       "  <tbody>\n",
       "    <tr>\n",
       "      <th>25%</th>\n",
       "      <td>125.75</td>\n",
       "      <td>4042.75</td>\n",
       "      <td>104.116098</td>\n",
       "      <td>51.193576</td>\n",
       "      <td>0.863676</td>\n",
       "      <td>4170.25</td>\n",
       "      <td>71.745308</td>\n",
       "      <td>0.572632</td>\n",
       "      <td>255.8830</td>\n",
       "      <td>0.731991</td>\n",
       "      <td>1.983939</td>\n",
       "      <td>1.0</td>\n",
       "    </tr>\n",
       "    <tr>\n",
       "      <th>50%</th>\n",
       "      <td>250.50</td>\n",
       "      <td>4735.00</td>\n",
       "      <td>115.405140</td>\n",
       "      <td>53.731199</td>\n",
       "      <td>0.890045</td>\n",
       "      <td>4857.00</td>\n",
       "      <td>77.645277</td>\n",
       "      <td>0.626117</td>\n",
       "      <td>280.0455</td>\n",
       "      <td>0.761288</td>\n",
       "      <td>2.193599</td>\n",
       "      <td>2.0</td>\n",
       "    </tr>\n",
       "    <tr>\n",
       "      <th>75%</th>\n",
       "      <td>375.25</td>\n",
       "      <td>5495.50</td>\n",
       "      <td>129.046792</td>\n",
       "      <td>56.325158</td>\n",
       "      <td>0.907578</td>\n",
       "      <td>5654.25</td>\n",
       "      <td>83.648598</td>\n",
       "      <td>0.726633</td>\n",
       "      <td>306.0625</td>\n",
       "      <td>0.796361</td>\n",
       "      <td>2.381612</td>\n",
       "      <td>2.0</td>\n",
       "    </tr>\n",
       "  </tbody>\n",
       "</table>\n",
       "</div>"
      ],
      "text/plain": [
       "         id   Daerah  SumbuUtama  SumbuKecil  Keunikan  AreaBulatan  \\\n",
       "25%  125.75  4042.75  104.116098   51.193576  0.863676      4170.25   \n",
       "50%  250.50  4735.00  115.405140   53.731199  0.890045      4857.00   \n",
       "75%  375.25  5495.50  129.046792   56.325158  0.907578      5654.25   \n",
       "\n",
       "      Diameter  KadarAir  Keliling   Bulatan    Ransum  Kelas  \n",
       "25%  71.745308  0.572632  255.8830  0.731991  1.983939    1.0  \n",
       "50%  77.645277  0.626117  280.0455  0.761288  2.193599    2.0  \n",
       "75%  83.648598  0.726633  306.0625  0.796361  2.381612    2.0  "
      ]
     },
     "execution_count": 3,
     "metadata": {},
     "output_type": "execute_result"
    }
   ],
   "source": [
    "print(\"------------- Kuartil -------------\")\n",
    "gandum.describe().loc[['25%','50%','75%']]"
   ]
  },
  {
   "cell_type": "markdown",
   "metadata": {},
   "source": [
    "### 2. Membuat Visualisasi plot distribusi\n",
    "dalam bentuk histogram dan boxplot untuk setiap kolom numerik. Berikan uraian penjelasan kondisi setiap kolom berdasarkan kedua plot tersebut."
   ]
  },
  {
   "cell_type": "code",
   "execution_count": 4,
   "metadata": {},
   "outputs": [
    {
     "data": {
      "image/png": "[encoded data removed]",
      "text/plain": [
       "<Figure size 1080x1296 with 10 Axes>"
      ]
     },
     "metadata": {
      "needs_background": "light"
     },
     "output_type": "display_data"
    }
   ],
   "source": [
    "fig, axs = plt.subplots(5, 2, figsize=(15, 18))\n",
    "sns.histplot(gandum[\"Daerah\"], kde=True, ax=axs[0,0])\n",
    "sns.histplot(gandum[\"SumbuUtama\"], kde=True, ax=axs[1,0])\n",
    "sns.histplot(gandum[\"SumbuKecil\"], kde=True, ax=axs[2,0])\n",
    "sns.histplot(gandum[\"Keunikan\"], kde=True, ax=axs[3,0])\n",
    "sns.histplot(gandum[\"AreaBulatan\"], kde=True, ax=axs[4,0])\n",
    "sns.histplot(gandum[\"Diameter\"], kde=True, ax=axs[0,1])\n",
    "sns.histplot(gandum[\"KadarAir\"], kde=True, ax=axs[1,1])\n",
    "sns.histplot(gandum[\"Keliling\"], kde=True, ax=axs[2,1])\n",
    "sns.histplot(gandum[\"Bulatan\"], kde=True, ax=axs[3,1])\n",
    "sns.histplot(gandum[\"Ransum\"], kde=True, ax=axs[4,1])\n",
    "plt.show()"
   ]
  },
  {
   "cell_type": "markdown",
   "metadata": {},
   "source": [
    "<b>Daerah</b>\n",
    "<br>\n",
    "Histogram menunjukkan diagram yang hampir normal meskipun sedikit skew positif. Karena itu, boxplot juga terlihat hampir simetris"
   ]
  },
  {
   "cell_type": "code",
   "execution_count": 5,
   "metadata": {},
   "outputs": [
    {
     "data": {
      "text/plain": [
       "<matplotlib.axes._subplots.AxesSubplot at 0x7f4604e93550>"
      ]
     },
     "execution_count": 5,
     "metadata": {},
     "output_type": "execute_result"
    },
    {
     "data": {
      "image/png": "[encoded data removed]",
      "text/plain": [
       "<Figure size 432x288 with 1 Axes>"
      ]
     },
     "metadata": {
      "needs_background": "light"
     },
     "output_type": "display_data"
    }
   ],
   "source": [
    "gandum.boxplot(\"Daerah\")"
   ]
  },
  {
   "cell_type": "markdown",
   "metadata": {},
   "source": [
    "<b>SumbuUtama</b>\n",
    "<br>\n",
    "Histogram menunjukkan bahwa ada sebuah outlier pada nilaidi atas 220, maka dari itu juga ditunjukkan sebagai lingkaran dalam boxplot. meskipun terdapat 2 buah nilai ekstrim di histogram, boxplot masih terlihat simetris"
   ]
  },
  {
   "cell_type": "code",
   "execution_count": 6,
   "metadata": {},
   "outputs": [
    {
     "data": {
      "text/plain": [
       "<matplotlib.axes._subplots.AxesSubplot at 0x7f46003772e0>"
      ]
     },
     "execution_count": 6,
     "metadata": {},
     "output_type": "execute_result"
    },
    {
     "data": {
      "image/png": "[encoded data removed]",
      "text/plain": [
       "<Figure size 432x288 with 1 Axes>"
      ]
     },
     "metadata": {
      "needs_background": "light"
     },
     "output_type": "display_data"
    }
   ],
   "source": [
    "gandum.boxplot(\"SumbuUtama\")"
   ]
  },
  {
   "cell_type": "markdown",
   "metadata": {},
   "source": [
    "<b>SumbuKecil</b>\n",
    "<br>\n",
    "Meskipun terdapat beberapa outlier, histogram dan boxplot menunjukkan hasil yang hampir simetris"
   ]
  },
  {
   "cell_type": "code",
   "execution_count": 7,
   "metadata": {},
   "outputs": [
    {
     "data": {
      "text/plain": [
       "<matplotlib.axes._subplots.AxesSubplot at 0x7f46008dc310>"
      ]
     },
     "execution_count": 7,
     "metadata": {},
     "output_type": "execute_result"
    },
    {
     "data": {
      "image/png": "[encoded data removed]",
      "text/plain": [
       "<Figure size 432x288 with 1 Axes>"
      ]
     },
     "metadata": {
      "needs_background": "light"
     },
     "output_type": "display_data"
    }
   ],
   "source": [
    "gandum.boxplot(\"SumbuKecil\")"
   ]
  },
  {
   "cell_type": "markdown",
   "metadata": {},
   "source": [
    "<b>Keunikan</b>\n",
    "<br>\n",
    "Jika dilihat dari histogram, nilai sangat condong ke kanan atau negatively skewed. Maka dari itu boxplot tertarik ke bagian atas dan nilai-nilai yang bawah banyak yang menjadi outlier"
   ]
  },
  {
   "cell_type": "code",
   "execution_count": 8,
   "metadata": {},
   "outputs": [
    {
     "data": {
      "text/plain": [
       "<matplotlib.axes._subplots.AxesSubplot at 0x7f4600848850>"
      ]
     },
     "execution_count": 8,
     "metadata": {},
     "output_type": "execute_result"
    },
    {
     "data": {
      "image/png": "[encoded data removed]",
      "text/plain": [
       "<Figure size 432x288 with 1 Axes>"
      ]
     },
     "metadata": {
      "needs_background": "light"
     },
     "output_type": "display_data"
    }
   ],
   "source": [
    "gandum.boxplot(\"Keunikan\")"
   ]
  },
  {
   "cell_type": "markdown",
   "metadata": {},
   "source": [
    "<b>AreaBulatan</b>\n",
    "<br>\n",
    "Histogram menunjukkan diagram yang hampir normal meskipun sedikit skew positif. Karena itu, boxplot juga terlihat hampir simetris"
   ]
  },
  {
   "cell_type": "code",
   "execution_count": 9,
   "metadata": {},
   "outputs": [
    {
     "data": {
      "text/plain": [
       "<matplotlib.axes._subplots.AxesSubplot at 0x7f46007b2be0>"
      ]
     },
     "execution_count": 9,
     "metadata": {},
     "output_type": "execute_result"
    },
    {
     "data": {
      "image/png": "[encoded data removed]",
      "text/plain": [
       "<Figure size 432x288 with 1 Axes>"
      ]
     },
     "metadata": {
      "needs_background": "light"
     },
     "output_type": "display_data"
    }
   ],
   "source": [
    "gandum.boxplot(\"AreaBulatan\")"
   ]
  },
  {
   "cell_type": "markdown",
   "metadata": {},
   "source": [
    "<b>Diameter</b>\n",
    "<br>\n",
    "Kedua histogram dan boxplot menunjukkan hasil yang hampir simetris"
   ]
  },
  {
   "cell_type": "code",
   "execution_count": 10,
   "metadata": {},
   "outputs": [
    {
     "data": {
      "text/plain": [
       "<matplotlib.axes._subplots.AxesSubplot at 0x7f460078b2e0>"
      ]
     },
     "execution_count": 10,
     "metadata": {},
     "output_type": "execute_result"
    },
    {
     "data": {
      "image/png": "[encoded data removed]",
      "text/plain": [
       "<Figure size 432x288 with 1 Axes>"
      ]
     },
     "metadata": {
      "needs_background": "light"
     },
     "output_type": "display_data"
    }
   ],
   "source": [
    "gandum.boxplot(\"Diameter\")"
   ]
  },
  {
   "cell_type": "markdown",
   "metadata": {},
   "source": [
    "<b>KadarAir</b>\n",
    "<br>\n",
    "Distribusi kadar air memiliki skew yang tinggi, sehingga pada boxplot garis mean tidak berada di tengah"
   ]
  },
  {
   "cell_type": "code",
   "execution_count": 11,
   "metadata": {},
   "outputs": [
    {
     "data": {
      "text/plain": [
       "<matplotlib.axes._subplots.AxesSubplot at 0x7f46006eddc0>"
      ]
     },
     "execution_count": 11,
     "metadata": {},
     "output_type": "execute_result"
    },
    {
     "data": {
      "image/png": "[encoded data removed]",
      "text/plain": [
       "<Figure size 432x288 with 1 Axes>"
      ]
     },
     "metadata": {
      "needs_background": "light"
     },
     "output_type": "display_data"
    }
   ],
   "source": [
    "gandum.boxplot(\"KadarAir\")"
   ]
  },
  {
   "cell_type": "markdown",
   "metadata": {},
   "source": [
    "<b>Keliling</b>\n",
    "<br>\n",
    "Histogram dan boxplot menunjukkan distribusi yang hampir simetris,meskipun terdapat beberapa outlier yang berakibat pada boxplot tidak berada di tengah tengah"
   ]
  },
  {
   "cell_type": "code",
   "execution_count": 12,
   "metadata": {},
   "outputs": [
    {
     "data": {
      "text/plain": [
       "<matplotlib.axes._subplots.AxesSubplot at 0x7f46006a84f0>"
      ]
     },
     "execution_count": 12,
     "metadata": {},
     "output_type": "execute_result"
    },
    {
     "data": {
      "image/png": "[encoded data removed]",
      "text/plain": [
       "<Figure size 432x288 with 1 Axes>"
      ]
     },
     "metadata": {
      "needs_background": "light"
     },
     "output_type": "display_data"
    }
   ],
   "source": [
    "gandum.boxplot(\"Keliling\")"
   ]
  },
  {
   "cell_type": "markdown",
   "metadata": {},
   "source": [
    "<b>Bulatan</b>\n",
    "<br>\n",
    "Terdapat beberapa outlier pada distribusi bulatan, beberapa bahkan memiliki nilai yang sangat jauh. Distribusi bulatan hampir simetris, maka dari itu boxplot juga terlihat simetris (tidak termasuk outlier)"
   ]
  },
  {
   "cell_type": "code",
   "execution_count": 13,
   "metadata": {},
   "outputs": [
    {
     "data": {
      "text/plain": [
       "<matplotlib.axes._subplots.AxesSubplot at 0x7f460067bd60>"
      ]
     },
     "execution_count": 13,
     "metadata": {},
     "output_type": "execute_result"
    },
    {
     "data": {
      "image/png": "[encoded data removed]",
      "text/plain": [
       "<Figure size 432x288 with 1 Axes>"
      ]
     },
     "metadata": {
      "needs_background": "light"
     },
     "output_type": "display_data"
    }
   ],
   "source": [
    "gandum.boxplot(\"Bulatan\")"
   ]
  },
  {
   "cell_type": "markdown",
   "metadata": {},
   "source": [
    "<b>Ransum</b>\n",
    "<br>\n",
    "Nilai ransum sangat negatively skewed, maka dari itu boxplot terlihat seakan akan tertarik ke atas."
   ]
  },
  {
   "cell_type": "code",
   "execution_count": 14,
   "metadata": {},
   "outputs": [
    {
     "data": {
      "text/plain": [
       "<matplotlib.axes._subplots.AxesSubplot at 0x7f460065ce80>"
      ]
     },
     "execution_count": 14,
     "metadata": {},
     "output_type": "execute_result"
    },
    {
     "data": {
      "image/png": "[encoded data removed]",
      "text/plain": [
       "<Figure size 432x288 with 1 Axes>"
      ]
     },
     "metadata": {
      "needs_background": "light"
     },
     "output_type": "display_data"
    }
   ],
   "source": [
    "gandum.boxplot(\"Ransum\")"
   ]
  },
  {
   "cell_type": "markdown",
   "metadata": {},
   "source": [
    "### 3. Menentukan setiap kolom numerik berdistribusi normal atau tidak\n",
    "Dilakukan graphical normality test berdasarkan histogram yang telah digambarkan pada nomor 2:\n",
    "\n",
    "**Daerah** tidak berdistribusi normal\n",
    "\n",
    "**SumbuUtama** tidak berdistribusi normal\n",
    "\n",
    "**SumbuKecil** berdistribusi normal\n",
    "\n",
    "**Keunikan** tidak berdistribusi normal\n",
    "\n",
    "**AreaBulatan** tidak berdistribusi normal\n",
    "\n",
    "**Diameter** berdistribusi normal\n",
    "\n",
    "**KadarAir** tidak berdistribusi normal\n",
    "\n",
    "**Keliling** tidak berdistribusi normal\n",
    "\n",
    "**Bulatan** berdistribusi normal\n",
    "\n",
    "**Ransum** tidak berdistribusi normal\n"
   ]
  },
  {
   "cell_type": "markdown",
   "metadata": {},
   "source": [
    "### 4. Melakukan test hipotesis 1 sampel, dengan menuliskan 6 langkah testing\n",
    "   menampilkan juga boxplotnya untuk kolom/bagian yang bersesuaian.<br>\n",
    "   Diambil sampel sebesar 218 dari 500<br>"
   ]
  },
  {
   "cell_type": "code",
   "execution_count": 15,
   "metadata": {},
   "outputs": [],
   "source": [
    "#diambil sampel gandum sebesar 218\n",
    "splSize = 218\n",
    "sampleGandum = gandum.sample(splSize)\n",
    "\n",
    "#fungsi untuk menghitung z score\n",
    "def zScore(spMean, popMean, popStd, nSample):\n",
    "    return ((spMean-popMean)*(nSample)**(1/2))/popStd"
   ]
  },
  {
   "cell_type": "code",
   "execution_count": 16,
   "metadata": {},
   "outputs": [
    {
     "name": "stdout",
     "output_type": "stream",
     "text": [
      "Mean sampel =  4858.481651376147\n",
      "Z score yang didapat :  2.3722265167166485\n",
      "P value nya adalah :  0.008840623602323582\n"
     ]
    },
    {
     "data": {
      "text/plain": [
       "<matplotlib.axes._subplots.AxesSubplot at 0x7f46005b1c10>"
      ]
     },
     "execution_count": 16,
     "metadata": {},
     "output_type": "execute_result"
    },
    {
     "data": {
      "image/png": "[encoded data removed]",
      "text/plain": [
       "<Figure size 432x288 with 1 Axes>"
      ]
     },
     "metadata": {
      "needs_background": "light"
     },
     "output_type": "display_data"
    }
   ],
   "source": [
    "# 4a. Nilai rata-rata Daerah di atas 4700?\n",
    "# 1) null hypothesis : mean = 4700\n",
    "# 2) alternative hypothesis : mean > 4700\n",
    "# 3) alpha : 0.05\n",
    "# 4) uji tes mean Z one tailed, digunakan alpha = 0.05, daerah kritis: Z > 1.645\n",
    "# 5) uji tes statistik one tailed : \n",
    "splMean = sampleGandum[\"Daerah\"].mean()\n",
    "print(\"Mean sampel = \", splMean)\n",
    "zscr = zScore(splMean, 4700, gandum[\"Daerah\"].std(),218)\n",
    "print(\"Z score yang didapat : \", zscr)\n",
    "print(\"P value nya adalah : \", scipy.stats.norm.sf(abs(zscr))) #onesided\n",
    "# 6)nilai Z berada pada daerah kritis dan p-value lebih kecil dari alpha, maka tolak null hypothesis\n",
    "\n",
    "#boxplot\n",
    "sampleGandum.boxplot(\"Daerah\")"
   ]
  },
  {
   "cell_type": "code",
   "execution_count": 17,
   "metadata": {},
   "outputs": [
    {
     "name": "stdout",
     "output_type": "stream",
     "text": [
      "Mean sampel =  117.41747550605504\n",
      "Z score yang didapat :  1.1447357227403112\n",
      "P value nya adalah :  0.25231864879865706\n"
     ]
    },
    {
     "data": {
      "text/plain": [
       "<matplotlib.axes._subplots.AxesSubplot at 0x7f4600595880>"
      ]
     },
     "execution_count": 17,
     "metadata": {},
     "output_type": "execute_result"
    },
    {
     "data": {
      "image/png": "[encoded data removed]",
      "text/plain": [
       "<Figure size 432x288 with 1 Axes>"
      ]
     },
     "metadata": {
      "needs_background": "light"
     },
     "output_type": "display_data"
    }
   ],
   "source": [
    "# 4b. Nilai Rata-rata Sumbu Utama tidak sama dengan 116?\n",
    "# 1) null hypothesis : mean = 116\n",
    "# 2) alternative hypothesis : mean ≠ 116\n",
    "# 3) alpha : 0.05\n",
    "# 4) uji tes mean Z two tailed, digunakan alpha = 0.05 dan statistik two tailed\n",
    "# \tmaka daerah kritis: Z < -1.96 dan 1.96 < Z\n",
    "# 5) uji nilai statistik two tailed :\n",
    "splMean = sampleGandum[\"SumbuUtama\"].mean()\n",
    "print(\"Mean sampel = \", splMean)\n",
    "zscr = zScore(splMean, 116, gandum[\"SumbuUtama\"].std(),218)\n",
    "print(\"Z score yang didapat : \", zscr)\n",
    "print(\"P value nya adalah : \", scipy.stats.norm.sf(abs(zscr))*2)\n",
    "# 6) nilai Z tidak berada pada daerah kritis dan p-value lebih besar dari alpha, maka gagal untuk menolak null hypothesis.\n",
    "\n",
    "#BOXPLOT BELUM\n",
    "sampleGandum.boxplot(\"SumbuUtama\")"
   ]
  },
  {
   "cell_type": "code",
   "execution_count": 18,
   "metadata": {},
   "outputs": [
    {
     "name": "stdout",
     "output_type": "stream",
     "text": [
      "Mean 20 pertama :  54.8872762605\n",
      "Z score yang didapat :  5.368745408889905\n",
      "P value nya adalah :  7.928624964898141e-08 (mendekati 0)"
     ]
    },
    {
     "data": {
      "text/plain": [
       "<matplotlib.axes._subplots.AxesSubplot at 0x7f46004e2af0>"
      ]
     },
     "execution_count": 18,
     "metadata": {},
     "output_type": "execute_result"
    },
    {
     "data": {
      "image/png": "[encoded data removed]",
      "text/plain": [
       "<Figure size 432x288 with 1 Axes>"
      ]
     },
     "metadata": {
      "needs_background": "light"
     },
     "output_type": "display_data"
    }
   ],
   "source": [
    "# 4c. Nilai Rata-rata 20 baris pertama kolom Sumbu Kecil bukan 50?\n",
    "# diketahui dari data 20 pertama:\n",
    "# mean = 54.887\n",
    "# std = 3.373\n",
    "\n",
    "# 1) null hypothesis : mean = 50\n",
    "# 2) alternative hypothesis : mean ≠ 50\n",
    "# 3) alpha = 0.05\n",
    "# 4) uji tes mean Z two tailed, digunakan alpha = 0.05 dan statistik two tailed\n",
    "# \tmaka daerah kritis: Z < -1.96 dan 1.96 < Z\n",
    "# 5) uji nilai statistik two tailed:\n",
    "meanFirstTwnty = gandum[\"SumbuKecil\"].loc[:19].mean()\n",
    "print(\"Mean 20 pertama : \",meanFirstTwnty)\n",
    "zscr = zScore(meanFirstTwnty, 50, gandum[\"SumbuKecil\"].std(),20)\n",
    "print(\"Z score yang didapat : \", zscr)\n",
    "print(\"P value nya adalah : \", scipy.stats.norm.sf(abs(zscr))*2, end=' (mendekati 0)')\n",
    "# 6) nilai Z berada pada daerah kritis, maka null hypothesis ditolak\n",
    "\n",
    "sampleGandum.boxplot(\"SumbuKecil\")"
   ]
  },
  {
   "cell_type": "code",
   "execution_count": 19,
   "metadata": {},
   "outputs": [
    {
     "name": "stdout",
     "output_type": "stream",
     "text": [
      "Jumlah diameter gandum yang lebih dari 85 :  43\n",
      "Z score yang didapat :  1.9536820463950093\n",
      "P value nya adalah :  0.05073883082905496\n"
     ]
    },
    {
     "data": {
      "text/plain": [
       "<matplotlib.axes._subplots.AxesSubplot at 0x7f46004d0d60>"
      ]
     },
     "execution_count": 19,
     "metadata": {},
     "output_type": "execute_result"
    },
    {
     "data": {
      "image/png": "[encoded data removed]",
      "text/plain": [
       "<Figure size 432x288 with 1 Axes>"
      ]
     },
     "metadata": {
      "needs_background": "light"
     },
     "output_type": "display_data"
    }
   ],
   "source": [
    "# 4d. Proporsi nilai Diameter yang lebih dari 85, adalah tidak sama dengan 15% ?\n",
    "# 1) null hypothesis : P = 0.15\n",
    "# 2) alternative hypothesis : P ≠ 0.15\n",
    "# 3) alpha = 0.05\n",
    "# 4) digunakan alpha = 0.05 dan statistik two tailed\n",
    "# \tmaka daerah kritis: Z < -1.96 dan 1.96 < Z\n",
    "# 5) uji nilai statistik two tailed:\n",
    "#   P(Diameter > 85) = 97/500 = 0.194\n",
    "# \tZ = 0.194-0.15/(√0.15*0.85/500) = 2.755\n",
    "# \tp = 2(P<-2.755) = 0.00587\n",
    "amtConstraint = len(sampleGandum[\"Diameter\"].loc[sampleGandum[\"Diameter\"] > 85])\n",
    "print(\"Jumlah diameter gandum yang lebih dari 85 : \", amtConstraint)\n",
    "zscr = ((amtConstraint/splSize)-0.15)/(0.15*0.85/splSize)**(1/2)\n",
    "print(\"Z score yang didapat : \", zscr)\n",
    "print(\"P value nya adalah : \", scipy.stats.norm.sf(abs(zscr))*2) \n",
    "# 6) nilai Z tak berada pada daerah kritis, maka null hypothesis gagal ditolak\n",
    "\n",
    "sampleGandum.boxplot(\"Diameter\")"
   ]
  },
  {
   "cell_type": "code",
   "execution_count": 20,
   "metadata": {},
   "outputs": [
    {
     "name": "stdout",
     "output_type": "stream",
     "text": [
      "Jumlah keliling gandum yang kurang dari 100 :  0\n",
      "Z score yang didapat :  -6.202466302632697\n",
      "P value nya adalah :  2.779254463865401e-10\n"
     ]
    },
    {
     "data": {
      "text/plain": [
       "<matplotlib.axes._subplots.AxesSubplot at 0x7f460042f190>"
      ]
     },
     "execution_count": 20,
     "metadata": {},
     "output_type": "execute_result"
    },
    {
     "data": {
      "image/png": "[encoded data removed]",
      "text/plain": [
       "<Figure size 432x288 with 1 Axes>"
      ]
     },
     "metadata": {
      "needs_background": "light"
     },
     "output_type": "display_data"
    }
   ],
   "source": [
    "# 4e. Proporsi nilai Keliling yang kurang dari 100, adalah kurang dari 5% ?\n",
    "# 1) null hypothesis : P = 0.05\n",
    "# 2) alternative hypothesis : P < 0.05\n",
    "# 3) alpha = 0.05\n",
    "# 4) digunakan alpha = 0.05 dan statistik one tailed\n",
    "# \tmaka daerah kritis: Z < -1.645\n",
    "# 5) uji nilai statistik one tailed:\n",
    "#   P(Keliling < 100) = 0/500 = 0\n",
    "# \tZ = 0-0.05/(√0.05*0.95/500) = -5.130\n",
    "# \tp = 0 (mendekati)\n",
    "amtConstraint = len(sampleGandum[\"Keliling\"].loc[sampleGandum[\"Keliling\"] < 100])\n",
    "print(\"Jumlah keliling gandum yang kurang dari 100 : \", amtConstraint)\n",
    "zscr = ((amtConstraint/splSize)-0.15)/(0.15*0.85/splSize)**(1/2)\n",
    "print(\"Z score yang didapat : \", zscr)\n",
    "print(\"P value nya adalah : \", scipy.stats.norm.sf(abs(zscr)))\n",
    "# 6) nilai Z berada pada daerah kritis, maka null hypothesis ditolak\n",
    "\n",
    "sampleGandum.boxplot(\"Keliling\")"
   ]
  },
  {
   "cell_type": "markdown",
   "metadata": {},
   "source": [
    "### 5. Melakukan test hipotesis 2 sampel, dengan menuliskan 6 langkah testing \n",
    "menampilkan juga boxplotnya untuk kolom/bagian yang bersesuaian.\n",
    "<ul>\n",
    "    <li>Data kolom AreaBulatan dibagi 2 sama rata: bagian awal dan bagian akhir kolom. Benarkah rata-rata kedua bagian tersebut sama?</li>\n",
    "    <li>Data kolom Kadar Air dibagi 2 sama rata: bagian awal dan bagian akhir kolom. Benarkah rata-rata bagian awal lebih besar dari pada bagian akhir sebesar 0.2?</li>\n",
    "    <li>Rata-rata 20 baris pertama kolom Bulatan sama dengan 20 baris terakhirnya?</li>\n",
    "    <li>Proporsi nilai bagian awal Ransum yang lebih dari 2, adalah lebih besar daripada, proporsi nilai yang sama di bagian akhir Ransum?</li>\n",
    "    <li>Bagian awal kolom Diameter memiliki variansi yang sama dengan bagian akhirnya?</li>\n",
    "</ul>"
   ]
  },
  {
   "cell_type": "code",
   "execution_count": 21,
   "metadata": {},
   "outputs": [
    {
     "data": {
      "text/markdown": [
       "**Data kolom AreaBulatan dibagi 2 sama rata: bagian awal dan bagian akhir kolom. Benarkah rata-rata kedua bagian tersebut sama?**"
      ],
      "text/plain": [
       "<IPython.core.display.Markdown object>"
      ]
     },
     "metadata": {},
     "output_type": "display_data"
    },
    {
     "data": {
      "text/markdown": [
       "#### 1. Hipotesis nol"
      ],
      "text/plain": [
       "<IPython.core.display.Markdown object>"
      ]
     },
     "metadata": {},
     "output_type": "display_data"
    },
    {
     "data": {
      "text/markdown": [
       "$H_0 : \\mu_{AreaBulatanAwal} = \\mu_{AreaBulatanAkhir}$"
      ],
      "text/plain": [
       "<IPython.core.display.Markdown object>"
      ]
     },
     "metadata": {},
     "output_type": "display_data"
    },
    {
     "data": {
      "text/markdown": [
       "#### 2. Hipotesis alternatif"
      ],
      "text/plain": [
       "<IPython.core.display.Markdown object>"
      ]
     },
     "metadata": {},
     "output_type": "display_data"
    },
    {
     "data": {
      "text/markdown": [
       "$H_0 : \\mu_{AreaBulatanAwal} \\neq \\mu_{AreaBulatanAkhir}$ (two-tailed test)"
      ],
      "text/plain": [
       "<IPython.core.display.Markdown object>"
      ]
     },
     "metadata": {},
     "output_type": "display_data"
    },
    {
     "data": {
      "text/markdown": [
       "#### 3. Tingkat signifikan $\\alpha $"
      ],
      "text/plain": [
       "<IPython.core.display.Markdown object>"
      ]
     },
     "metadata": {},
     "output_type": "display_data"
    },
    {
     "data": {
      "text/markdown": [
       "$\\alpha$ = 0.05"
      ],
      "text/plain": [
       "<IPython.core.display.Markdown object>"
      ]
     },
     "metadata": {},
     "output_type": "display_data"
    },
    {
     "data": {
      "text/markdown": [
       "#### 4. Uji statistik dan daerah kritis"
      ],
      "text/plain": [
       "<IPython.core.display.Markdown object>"
      ]
     },
     "metadata": {},
     "output_type": "display_data"
    },
    {
     "data": {
      "text/markdown": [
       "Pada uji kali ini diasumsikan kolom AreaBulatan berdistribusi normal. Dan akan digunakan uji test $t$"
      ],
      "text/plain": [
       "<IPython.core.display.Markdown object>"
      ]
     },
     "metadata": {},
     "output_type": "display_data"
    },
    {
     "data": {
      "text/markdown": [
       "Derajat kebebasan = $n_{AreaBulatanAwal} + n_{AreaBulatanAkhir} - 2 = 498$"
      ],
      "text/plain": [
       "<IPython.core.display.Markdown object>"
      ]
     },
     "metadata": {},
     "output_type": "display_data"
    },
    {
     "data": {
      "text/markdown": [
       "Dengan derajat kebebasan tersebut dapat ditentukan nilai kritis menggunakan kalkulator dan didapat $t' < -1.964$ atau $t' > 1.964$"
      ],
      "text/plain": [
       "<IPython.core.display.Markdown object>"
      ]
     },
     "metadata": {},
     "output_type": "display_data"
    },
    {
     "data": {
      "text/markdown": [
       "#### 5. Perhitungan nilai uji statistik dan $p-value$"
      ],
      "text/plain": [
       "<IPython.core.display.Markdown object>"
      ]
     },
     "metadata": {},
     "output_type": "display_data"
    },
    {
     "data": {
      "text/markdown": [
       "**Diketahui**"
      ],
      "text/plain": [
       "<IPython.core.display.Markdown object>"
      ]
     },
     "metadata": {},
     "output_type": "display_data"
    },
    {
     "data": {
      "text/markdown": [
       "$\\bar{X}_{AreaBulatanAwal} = 5549.804$"
      ],
      "text/plain": [
       "<IPython.core.display.Markdown object>"
      ]
     },
     "metadata": {},
     "output_type": "display_data"
    },
    {
     "data": {
      "text/markdown": [
       "$\\bar{X}_{AreaBulatanAkhir} = 4324.292$"
      ],
      "text/plain": [
       "<IPython.core.display.Markdown object>"
      ]
     },
     "metadata": {},
     "output_type": "display_data"
    },
    {
     "data": {
      "text/markdown": [
       "$S^2_{AreaBulatanAwal} = 751733.1060080321$"
      ],
      "text/plain": [
       "<IPython.core.display.Markdown object>"
      ]
     },
     "metadata": {},
     "output_type": "display_data"
    },
    {
     "data": {
      "text/markdown": [
       "$S^2_{AreaBulatanAkhir} = 545480.424433735$"
      ],
      "text/plain": [
       "<IPython.core.display.Markdown object>"
      ]
     },
     "metadata": {},
     "output_type": "display_data"
    },
    {
     "data": {
      "text/markdown": [
       "$n_{AreaBulatanAwal} = 250,\\, n_{AreaBulatanAkhir} = 250$"
      ],
      "text/plain": [
       "<IPython.core.display.Markdown object>"
      ]
     },
     "metadata": {},
     "output_type": "display_data"
    },
    {
     "data": {
      "text/markdown": [
       "$t' = \\Large\\frac{(\\bar{X}_{AreaBulatanAwal} - \\bar{X}_{AreaBulatanAkhir})-d_0}{\\sqrt{\\Large\\frac{S^2_{AreaBulatanAwal}}{\\Large n_{AreaBulatanAwal}} + \\Large\\frac{S^2_{AreaBulatanAkhir}}{\\Large n_{AreaBulatanAkhir}}}}$"
      ],
      "text/plain": [
       "<IPython.core.display.Markdown object>"
      ]
     },
     "metadata": {},
     "output_type": "display_data"
    },
    {
     "data": {
      "text/markdown": [
       "dengan $d_0 = \\mu_{AreaBulatanAwal} - \\mu_{AreaBulatanAkhir} = 0$"
      ],
      "text/plain": [
       "<IPython.core.display.Markdown object>"
      ]
     },
     "metadata": {},
     "output_type": "display_data"
    },
    {
     "data": {
      "text/markdown": [
       "didapat **t' = 17.013036648485464**"
      ],
      "text/plain": [
       "<IPython.core.display.Markdown object>"
      ]
     },
     "metadata": {},
     "output_type": "display_data"
    },
    {
     "data": {
      "text/markdown": [
       "#### 6. Kesimpulan"
      ],
      "text/plain": [
       "<IPython.core.display.Markdown object>"
      ]
     },
     "metadata": {},
     "output_type": "display_data"
    },
    {
     "data": {
      "text/markdown": [
       "Nilai $t'$ yang didapat **terletak** di daerah kritis, $t' > 1.964$. Sehingga **$H_0$ ditolak**"
      ],
      "text/plain": [
       "<IPython.core.display.Markdown object>"
      ]
     },
     "metadata": {},
     "output_type": "display_data"
    }
   ],
   "source": [
    "printMd(\"**Data kolom AreaBulatan dibagi 2 sama rata: bagian awal dan bagian akhir kolom. Benarkah rata-rata kedua bagian tersebut sama?**\")\n",
    "AreaBulatanAwal = gandum.iloc[:gandum['AreaBulatan'].count()//2,:]\n",
    "AreaBulatanAkhir = gandum.iloc[gandum['AreaBulatan'].count()//2:,:]\n",
    "printMd(\"#### 1. Hipotesis nol\")\n",
    "printMd(\"$H_0 : \\\\mu_{AreaBulatanAwal} = \\\\mu_{AreaBulatanAkhir}$\")\n",
    "printMd(\"#### 2. Hipotesis alternatif\")\n",
    "printMd(\"$H_0 : \\\\mu_{AreaBulatanAwal} \\\\neq \\\\mu_{AreaBulatanAkhir}$ (two-tailed test)\")\n",
    "printMd(\"#### 3. Tingkat signifikan $\\\\alpha $\")\n",
    "printMd(\"$\\\\alpha$ = 0.05\")\n",
    "printMd(\"#### 4. Uji statistik dan daerah kritis\")\n",
    "printMd(\"Pada uji kali ini diasumsikan kolom AreaBulatan berdistribusi normal. Dan akan digunakan uji test $t$\")\n",
    "printMd(\"Derajat kebebasan = $n_{AreaBulatanAwal} + n_{AreaBulatanAkhir} - 2 = 498$\")\n",
    "printMd(\"Dengan derajat kebebasan tersebut dapat ditentukan nilai kritis menggunakan kalkulator dan didapat $t' < -1.964$ atau $t' > 1.964$\")\n",
    "printMd(\"#### 5. Perhitungan nilai uji statistik dan $p-value$\")\n",
    "printMd(\"**Diketahui**\")\n",
    "printMd(\"$\\\\bar{X}_{AreaBulatanAwal} = \"+ str(AreaBulatanAwal['AreaBulatan'].mean()) +  \"$\")\n",
    "printMd(\"$\\\\bar{X}_{AreaBulatanAkhir} = \" + str(AreaBulatanAkhir['AreaBulatan'].mean()) +\"$\")\n",
    "printMd(\"$S^2_{AreaBulatanAwal} = \"+ str(AreaBulatanAwal['AreaBulatan'].var()) +  \"$\")\n",
    "printMd(\"$S^2_{AreaBulatanAkhir} = \" + str(AreaBulatanAkhir['AreaBulatan'].var()) +\"$\")\n",
    "printMd(\"$n_{AreaBulatanAwal} = 250,\\\\, n_{AreaBulatanAkhir} = 250$\")\n",
    "printMd(\"$t' = \\\\Large\\\\frac{(\\\\bar{X}_{AreaBulatanAwal} - \\\\bar{X}_{AreaBulatanAkhir})-d_0}{\\\\sqrt{\\\\Large\\\\frac{S^2_{AreaBulatanAwal}}{\\\\Large n_{AreaBulatanAwal}} + \\\\Large\\\\frac{S^2_{AreaBulatanAkhir}}{\\\\Large n_{AreaBulatanAkhir}}}}$\")\n",
    "printMd(\"dengan $d_0 = \\\\mu_{AreaBulatanAwal} - \\\\mu_{AreaBulatanAkhir} = 0$\")\n",
    "printMd(\"didapat **t' = \"+str(((5549.804 - 4324.292) - 0)/((751733.1060080321/250) + (545480.424433735 /250))**0.5)+\"**\")\n",
    "printMd(\"#### 6. Kesimpulan\")\n",
    "printMd(\"Nilai $t'$ yang didapat **terletak** di daerah kritis, $t' > 1.964$. Sehingga **$H_0$ ditolak**\")"
   ]
  },
  {
   "cell_type": "code",
   "execution_count": 22,
   "metadata": {},
   "outputs": [
    {
     "data": {
      "text/markdown": [
       "**Boxplot kolom AreaBulatan bagian awal**"
      ],
      "text/plain": [
       "<IPython.core.display.Markdown object>"
      ]
     },
     "metadata": {},
     "output_type": "display_data"
    },
    {
     "data": {
      "text/plain": [
       "<matplotlib.axes._subplots.AxesSubplot at 0x7f46003fad30>"
      ]
     },
     "execution_count": 22,
     "metadata": {},
     "output_type": "execute_result"
    },
    {
     "data": {
      "image/png": "[encoded data removed]",
      "text/plain": [
       "<Figure size 432x288 with 1 Axes>"
      ]
     },
     "metadata": {
      "needs_background": "light"
     },
     "output_type": "display_data"
    }
   ],
   "source": [
    "printMd(\"**Boxplot kolom AreaBulatan bagian awal**\")\n",
    "AreaBulatanAwal.boxplot([\"AreaBulatan\"])"
   ]
  },
  {
   "cell_type": "code",
   "execution_count": 23,
   "metadata": {},
   "outputs": [
    {
     "data": {
      "text/markdown": [
       "**Boxplot kolom AreaBulatan bagian akhir**"
      ],
      "text/plain": [
       "<IPython.core.display.Markdown object>"
      ]
     },
     "metadata": {},
     "output_type": "display_data"
    },
    {
     "data": {
      "text/plain": [
       "<matplotlib.axes._subplots.AxesSubplot at 0x7f4600780b50>"
      ]
     },
     "execution_count": 23,
     "metadata": {},
     "output_type": "execute_result"
    },
    {
     "data": {
      "image/png": "[encoded data removed]",
      "text/plain": [
       "<Figure size 432x288 with 1 Axes>"
      ]
     },
     "metadata": {
      "needs_background": "light"
     },
     "output_type": "display_data"
    }
   ],
   "source": [
    "printMd(\"**Boxplot kolom AreaBulatan bagian akhir**\")\n",
    "AreaBulatanAkhir.boxplot([\"AreaBulatan\"])"
   ]
  },
  {
   "cell_type": "code",
   "execution_count": 24,
   "metadata": {},
   "outputs": [
    {
     "data": {
      "text/markdown": [
       "**Data kolom Kadar Air dibagi 2 sama rata: bagian awal dan bagian akhir kolom. Benarkah rata-rata bagian awal lebih besar dari pada bagian akhir sebesar 0.2?**"
      ],
      "text/plain": [
       "<IPython.core.display.Markdown object>"
      ]
     },
     "metadata": {},
     "output_type": "display_data"
    },
    {
     "data": {
      "text/markdown": [
       "#### 1. Hipotesis nol"
      ],
      "text/plain": [
       "<IPython.core.display.Markdown object>"
      ]
     },
     "metadata": {},
     "output_type": "display_data"
    },
    {
     "data": {
      "text/markdown": [
       "$H_0 : \\mu_{KadarAirAwal} = \\mu_{KadarAirAkhir} + 0.2$"
      ],
      "text/plain": [
       "<IPython.core.display.Markdown object>"
      ]
     },
     "metadata": {},
     "output_type": "display_data"
    },
    {
     "data": {
      "text/markdown": [
       "#### 2. Hipotesis alternatif"
      ],
      "text/plain": [
       "<IPython.core.display.Markdown object>"
      ]
     },
     "metadata": {},
     "output_type": "display_data"
    },
    {
     "data": {
      "text/markdown": [
       "$H_0 : \\mu_{KadarAirAwal} \\neq \\mu_{KadarAirAkhir} + 0.2$ (two-tailed test)"
      ],
      "text/plain": [
       "<IPython.core.display.Markdown object>"
      ]
     },
     "metadata": {},
     "output_type": "display_data"
    },
    {
     "data": {
      "text/markdown": [
       "#### 3. Tingkat signifikan $\\alpha $"
      ],
      "text/plain": [
       "<IPython.core.display.Markdown object>"
      ]
     },
     "metadata": {},
     "output_type": "display_data"
    },
    {
     "data": {
      "text/markdown": [
       "$\\alpha$ = 0.05"
      ],
      "text/plain": [
       "<IPython.core.display.Markdown object>"
      ]
     },
     "metadata": {},
     "output_type": "display_data"
    },
    {
     "data": {
      "text/markdown": [
       "#### 4. Uji statistik dan daerah kritis"
      ],
      "text/plain": [
       "<IPython.core.display.Markdown object>"
      ]
     },
     "metadata": {},
     "output_type": "display_data"
    },
    {
     "data": {
      "text/markdown": [
       "Pada uji kali ini diasumsikan kolom KadarAir berdistribusi normal. Dan akan digunakan uji test $t$"
      ],
      "text/plain": [
       "<IPython.core.display.Markdown object>"
      ]
     },
     "metadata": {},
     "output_type": "display_data"
    },
    {
     "data": {
      "text/markdown": [
       "Derajat kebebasan = $n_{KadarAirAwal} + n_{KadarAirAkhir} - 2 = 498$"
      ],
      "text/plain": [
       "<IPython.core.display.Markdown object>"
      ]
     },
     "metadata": {},
     "output_type": "display_data"
    },
    {
     "data": {
      "text/markdown": [
       "Dengan derajat kebebasan tersebut dapat ditentukan nilai kritis menggunakan kalkulator dan didapat $t' < -1.964$ atau $t' > 1.964$"
      ],
      "text/plain": [
       "<IPython.core.display.Markdown object>"
      ]
     },
     "metadata": {},
     "output_type": "display_data"
    },
    {
     "data": {
      "text/markdown": [
       "#### 5. Perhitungan nilai uji statistik dan $p-value$"
      ],
      "text/plain": [
       "<IPython.core.display.Markdown object>"
      ]
     },
     "metadata": {},
     "output_type": "display_data"
    },
    {
     "data": {
      "text/markdown": [
       "**Diketahui**"
      ],
      "text/plain": [
       "<IPython.core.display.Markdown object>"
      ]
     },
     "metadata": {},
     "output_type": "display_data"
    },
    {
     "data": {
      "text/markdown": [
       "$\\bar{X}_{KadarAirAwal} = 0.63574344072$"
      ],
      "text/plain": [
       "<IPython.core.display.Markdown object>"
      ]
     },
     "metadata": {},
     "output_type": "display_data"
    },
    {
     "data": {
      "text/markdown": [
       "$\\bar{X}_{KadarAirAkhir} = 0.660999903076$"
      ],
      "text/plain": [
       "<IPython.core.display.Markdown object>"
      ]
     },
     "metadata": {},
     "output_type": "display_data"
    },
    {
     "data": {
      "text/markdown": [
       "$S^2_{KadarAirAwal} = 0.009043200047076564$"
      ],
      "text/plain": [
       "<IPython.core.display.Markdown object>"
      ]
     },
     "metadata": {},
     "output_type": "display_data"
    },
    {
     "data": {
      "text/markdown": [
       "$S^2_{KadarAirAkhir} = 0.008482636662870604$"
      ],
      "text/plain": [
       "<IPython.core.display.Markdown object>"
      ]
     },
     "metadata": {},
     "output_type": "display_data"
    },
    {
     "data": {
      "text/markdown": [
       "$n_{KadarAirAwal} = 250,\\, n_{KadarAirAkhir} = 250$"
      ],
      "text/plain": [
       "<IPython.core.display.Markdown object>"
      ]
     },
     "metadata": {},
     "output_type": "display_data"
    },
    {
     "data": {
      "text/markdown": [
       "$t' = \\Large\\frac{(\\bar{X}_{KadarAirAwal} - \\bar{X}_{KadarAirAkhir})-d_0}{\\sqrt{\\Large\\frac{S^2_{KadarAirAwal}}{\\Large n_{KadarAirAwal}} + \\Large\\frac{S^2_{KadarAirAkhir}}{\\Large n_{KadarAirAkhir}}}}$"
      ],
      "text/plain": [
       "<IPython.core.display.Markdown object>"
      ]
     },
     "metadata": {},
     "output_type": "display_data"
    },
    {
     "data": {
      "text/markdown": [
       "dengan $d_0 = \\mu_{KadarAirAwal} - \\mu_{KadarAirAkhir} = 0$"
      ],
      "text/plain": [
       "<IPython.core.display.Markdown object>"
      ]
     },
     "metadata": {},
     "output_type": "display_data"
    },
    {
     "data": {
      "text/markdown": [
       "didapat **t' = -3.0164987047810152**"
      ],
      "text/plain": [
       "<IPython.core.display.Markdown object>"
      ]
     },
     "metadata": {},
     "output_type": "display_data"
    },
    {
     "data": {
      "text/markdown": [
       "#### 6. Kesimpulan"
      ],
      "text/plain": [
       "<IPython.core.display.Markdown object>"
      ]
     },
     "metadata": {},
     "output_type": "display_data"
    },
    {
     "data": {
      "text/markdown": [
       "Nilai $t'$ yang didapat **terletak** di daerah kritis, $t' < -1.964$. Sehingga **$H_0$ ditolak**"
      ],
      "text/plain": [
       "<IPython.core.display.Markdown object>"
      ]
     },
     "metadata": {},
     "output_type": "display_data"
    }
   ],
   "source": [
    "printMd(\"**Data kolom Kadar Air dibagi 2 sama rata: bagian awal dan bagian akhir kolom. Benarkah rata-rata bagian awal lebih besar dari pada bagian akhir sebesar 0.2?**\")\n",
    "KadarAirAwal = gandum.iloc[:gandum['KadarAir'].count()//2,:]\n",
    "KadarAirAkhir = gandum.iloc[gandum['KadarAir'].count()//2:,:]\n",
    "printMd(\"#### 1. Hipotesis nol\")\n",
    "printMd(\"$H_0 : \\\\mu_{KadarAirAwal} = \\\\mu_{KadarAirAkhir} + 0.2$\")\n",
    "printMd(\"#### 2. Hipotesis alternatif\")\n",
    "printMd(\"$H_0 : \\\\mu_{KadarAirAwal} \\\\neq \\\\mu_{KadarAirAkhir} + 0.2$ (two-tailed test)\")\n",
    "printMd(\"#### 3. Tingkat signifikan $\\\\alpha $\")\n",
    "printMd(\"$\\\\alpha$ = 0.05\")\n",
    "printMd(\"#### 4. Uji statistik dan daerah kritis\")\n",
    "printMd(\"Pada uji kali ini diasumsikan kolom KadarAir berdistribusi normal. Dan akan digunakan uji test $t$\")\n",
    "printMd(\"Derajat kebebasan = $n_{KadarAirAwal} + n_{KadarAirAkhir} - 2 = 498$\")\n",
    "printMd(\"Dengan derajat kebebasan tersebut dapat ditentukan nilai kritis menggunakan kalkulator dan didapat $t' < -1.964$ atau $t' > 1.964$\")\n",
    "printMd(\"#### 5. Perhitungan nilai uji statistik dan $p-value$\")\n",
    "printMd(\"**Diketahui**\")\n",
    "printMd(\"$\\\\bar{X}_{KadarAirAwal} = \"+ str(KadarAirAwal['KadarAir'].mean()) +  \"$\")\n",
    "printMd(\"$\\\\bar{X}_{KadarAirAkhir} = \" + str(KadarAirAkhir['KadarAir'].mean()) +\"$\")\n",
    "printMd(\"$S^2_{KadarAirAwal} = \"+ str(KadarAirAwal['KadarAir'].var()) +  \"$\")\n",
    "printMd(\"$S^2_{KadarAirAkhir} = \" + str(KadarAirAkhir['KadarAir'].var()) +\"$\")\n",
    "printMd(\"$n_{KadarAirAwal} = 250,\\\\, n_{KadarAirAkhir} = 250$\")\n",
    "printMd(\"$t' = \\\\Large\\\\frac{(\\\\bar{X}_{KadarAirAwal} - \\\\bar{X}_{KadarAirAkhir})-d_0}{\\\\sqrt{\\\\Large\\\\frac{S^2_{KadarAirAwal}}{\\\\Large n_{KadarAirAwal}} + \\\\Large\\\\frac{S^2_{KadarAirAkhir}}{\\\\Large n_{KadarAirAkhir}}}}$\")\n",
    "printMd(\"dengan $d_0 = \\\\mu_{KadarAirAwal} - \\\\mu_{KadarAirAkhir} = 0$\")\n",
    "printMd(\"didapat **t' = \"+str(((0.63574344072 - 0.660999903076) - 0)/((0.009043200047076564/250) + (0.008482636662870604 /250))**0.5)+\"**\")\n",
    "printMd(\"#### 6. Kesimpulan\")\n",
    "printMd(\"Nilai $t'$ yang didapat **terletak** di daerah kritis, $t' < -1.964$. Sehingga **$H_0$ ditolak**\")"
   ]
  },
  {
   "cell_type": "code",
   "execution_count": 25,
   "metadata": {},
   "outputs": [
    {
     "data": {
      "text/markdown": [
       "**Boxplot kolom KadarAir bagian awal**"
      ],
      "text/plain": [
       "<IPython.core.display.Markdown object>"
      ]
     },
     "metadata": {},
     "output_type": "display_data"
    },
    {
     "data": {
      "text/plain": [
       "<matplotlib.axes._subplots.AxesSubplot at 0x7f45fe699d90>"
      ]
     },
     "execution_count": 25,
     "metadata": {},
     "output_type": "execute_result"
    },
    {
     "data": {
      "image/png": "[encoded data removed]",
      "text/plain": [
       "<Figure size 432x288 with 1 Axes>"
      ]
     },
     "metadata": {
      "needs_background": "light"
     },
     "output_type": "display_data"
    }
   ],
   "source": [
    "printMd(\"**Boxplot kolom KadarAir bagian awal**\")\n",
    "KadarAirAwal.boxplot([\"KadarAir\"])"
   ]
  },
  {
   "cell_type": "code",
   "execution_count": 26,
   "metadata": {},
   "outputs": [
    {
     "data": {
      "text/markdown": [
       "**Boxplot kolom KadarAir bagian akhir**"
      ],
      "text/plain": [
       "<IPython.core.display.Markdown object>"
      ]
     },
     "metadata": {},
     "output_type": "display_data"
    },
    {
     "data": {
      "text/plain": [
       "<matplotlib.axes._subplots.AxesSubplot at 0x7f45fe65bdc0>"
      ]
     },
     "execution_count": 26,
     "metadata": {},
     "output_type": "execute_result"
    },
    {
     "data": {
      "image/png": "[encoded data removed]",
      "text/plain": [
       "<Figure size 432x288 with 1 Axes>"
      ]
     },
     "metadata": {
      "needs_background": "light"
     },
     "output_type": "display_data"
    }
   ],
   "source": [
    "printMd(\"**Boxplot kolom KadarAir bagian akhir**\")\n",
    "KadarAirAkhir.boxplot([\"KadarAir\"])"
   ]
  },
  {
   "cell_type": "code",
   "execution_count": 27,
   "metadata": {},
   "outputs": [
    {
     "data": {
      "text/markdown": [
       "**Rata-rata 20 baris pertama kolom Bulatan sama dengan 20 baris terakhirnya?**"
      ],
      "text/plain": [
       "<IPython.core.display.Markdown object>"
      ]
     },
     "metadata": {},
     "output_type": "display_data"
    },
    {
     "data": {
      "text/markdown": [
       "#### 1. Hipotesis nol"
      ],
      "text/plain": [
       "<IPython.core.display.Markdown object>"
      ]
     },
     "metadata": {},
     "output_type": "display_data"
    },
    {
     "data": {
      "text/markdown": [
       "$H_0 : \\mu_{BulatanAwal} = \\mu_{BulatanAkhir}$"
      ],
      "text/plain": [
       "<IPython.core.display.Markdown object>"
      ]
     },
     "metadata": {},
     "output_type": "display_data"
    },
    {
     "data": {
      "text/markdown": [
       "#### 2. Hipotesis alternatif"
      ],
      "text/plain": [
       "<IPython.core.display.Markdown object>"
      ]
     },
     "metadata": {},
     "output_type": "display_data"
    },
    {
     "data": {
      "text/markdown": [
       "$H_0 : \\mu_{BulatanAwal} \\neq \\mu_{BulatanAkhir}$ (two-tailed test)"
      ],
      "text/plain": [
       "<IPython.core.display.Markdown object>"
      ]
     },
     "metadata": {},
     "output_type": "display_data"
    },
    {
     "data": {
      "text/markdown": [
       "#### 3. Tingkat signifikan $\\alpha $"
      ],
      "text/plain": [
       "<IPython.core.display.Markdown object>"
      ]
     },
     "metadata": {},
     "output_type": "display_data"
    },
    {
     "data": {
      "text/markdown": [
       "$\\alpha$ = 0.05"
      ],
      "text/plain": [
       "<IPython.core.display.Markdown object>"
      ]
     },
     "metadata": {},
     "output_type": "display_data"
    },
    {
     "data": {
      "text/markdown": [
       "#### 4. Uji statistik dan daerah kritis"
      ],
      "text/plain": [
       "<IPython.core.display.Markdown object>"
      ]
     },
     "metadata": {},
     "output_type": "display_data"
    },
    {
     "data": {
      "text/markdown": [
       "Pada uji kali ini diasumsikan kolom Bulatan berdistribusi normal. Dan akan digunakan uji test $t$"
      ],
      "text/plain": [
       "<IPython.core.display.Markdown object>"
      ]
     },
     "metadata": {},
     "output_type": "display_data"
    },
    {
     "data": {
      "text/markdown": [
       "Derajat kebebasan = $n_{BulatanAwal} + n_{BulatanAkhir} - 2 = 38$"
      ],
      "text/plain": [
       "<IPython.core.display.Markdown object>"
      ]
     },
     "metadata": {},
     "output_type": "display_data"
    },
    {
     "data": {
      "text/markdown": [
       "Dengan derajat kebebasan tersebut dapat ditentukan nilai kritis menggunakan kalkulator dan didapat $t' < -2.024394$ atau $t' > 2.024394$"
      ],
      "text/plain": [
       "<IPython.core.display.Markdown object>"
      ]
     },
     "metadata": {},
     "output_type": "display_data"
    },
    {
     "data": {
      "text/markdown": [
       "#### 5. Perhitungan nilai uji statistik dan $p-value$"
      ],
      "text/plain": [
       "<IPython.core.display.Markdown object>"
      ]
     },
     "metadata": {},
     "output_type": "display_data"
    },
    {
     "data": {
      "text/markdown": [
       "**Diketahui**"
      ],
      "text/plain": [
       "<IPython.core.display.Markdown object>"
      ]
     },
     "metadata": {},
     "output_type": "display_data"
    },
    {
     "data": {
      "text/markdown": [
       "$\\bar{X}_{BulatanAwal} = 0.7375353552500001$"
      ],
      "text/plain": [
       "<IPython.core.display.Markdown object>"
      ]
     },
     "metadata": {},
     "output_type": "display_data"
    },
    {
     "data": {
      "text/markdown": [
       "$\\bar{X}_{BulatanAkhir} = 0.7673224369999999$"
      ],
      "text/plain": [
       "<IPython.core.display.Markdown object>"
      ]
     },
     "metadata": {},
     "output_type": "display_data"
    },
    {
     "data": {
      "text/markdown": [
       "$S^2_{BulatanAwal} = 0.0009232346025806985$"
      ],
      "text/plain": [
       "<IPython.core.display.Markdown object>"
      ]
     },
     "metadata": {},
     "output_type": "display_data"
    },
    {
     "data": {
      "text/markdown": [
       "$S^2_{BulatanAkhir} = 0.0006307661055759373$"
      ],
      "text/plain": [
       "<IPython.core.display.Markdown object>"
      ]
     },
     "metadata": {},
     "output_type": "display_data"
    },
    {
     "data": {
      "text/markdown": [
       "$n_{BulatanAwal} = 20,\\, n_{BulatanAkhir} = 20$"
      ],
      "text/plain": [
       "<IPython.core.display.Markdown object>"
      ]
     },
     "metadata": {},
     "output_type": "display_data"
    },
    {
     "data": {
      "text/markdown": [
       "$t' = \\Large\\frac{(\\bar{X}_{BulatanAwal} - \\bar{X}_{BulatanAkhir})-d_0}{\\sqrt{\\Large\\frac{S^2_{BulatanAwal}}{\\Large n_{BulatanAwal}} + \\Large\\frac{S^2_{BulatanAkhir}}{\\Large n_{BulatanAkhir}}}}$"
      ],
      "text/plain": [
       "<IPython.core.display.Markdown object>"
      ]
     },
     "metadata": {},
     "output_type": "display_data"
    },
    {
     "data": {
      "text/markdown": [
       "dengan $d_0 = \\mu_{BulatanAwal} - \\mu_{BulatanAkhir} = 0$"
      ],
      "text/plain": [
       "<IPython.core.display.Markdown object>"
      ]
     },
     "metadata": {},
     "output_type": "display_data"
    },
    {
     "data": {
      "text/markdown": [
       "didapat **t' = -3.3792268633123648**"
      ],
      "text/plain": [
       "<IPython.core.display.Markdown object>"
      ]
     },
     "metadata": {},
     "output_type": "display_data"
    },
    {
     "data": {
      "text/markdown": [
       "#### 6. Kesimpulan"
      ],
      "text/plain": [
       "<IPython.core.display.Markdown object>"
      ]
     },
     "metadata": {},
     "output_type": "display_data"
    },
    {
     "data": {
      "text/markdown": [
       "Nilai $t'$ yang didapat **terletak** di daerah kritis, $t' < -2.024394$. Sehingga **$H_0$ ditolak**"
      ],
      "text/plain": [
       "<IPython.core.display.Markdown object>"
      ]
     },
     "metadata": {},
     "output_type": "display_data"
    }
   ],
   "source": [
    "printMd(\"**Rata-rata 20 baris pertama kolom Bulatan sama dengan 20 baris terakhirnya?**\")\n",
    "BulatanAwal = gandum.iloc[:20,:]\n",
    "BulatanAkhir = gandum.iloc[-20:,:]\n",
    "printMd(\"#### 1. Hipotesis nol\")\n",
    "printMd(\"$H_0 : \\\\mu_{BulatanAwal} = \\\\mu_{BulatanAkhir}$\")\n",
    "printMd(\"#### 2. Hipotesis alternatif\")\n",
    "printMd(\"$H_0 : \\\\mu_{BulatanAwal} \\\\neq \\\\mu_{BulatanAkhir}$ (two-tailed test)\")\n",
    "printMd(\"#### 3. Tingkat signifikan $\\\\alpha $\")\n",
    "printMd(\"$\\\\alpha$ = 0.05\")\n",
    "printMd(\"#### 4. Uji statistik dan daerah kritis\")\n",
    "printMd(\"Pada uji kali ini diasumsikan kolom Bulatan berdistribusi normal. Dan akan digunakan uji test $t$\")\n",
    "printMd(\"Derajat kebebasan = $n_{BulatanAwal} + n_{BulatanAkhir} - 2 = 38$\")\n",
    "printMd(\"Dengan derajat kebebasan tersebut dapat ditentukan nilai kritis menggunakan kalkulator dan didapat $t' < -2.024394$ atau $t' > 2.024394$\")\n",
    "printMd(\"#### 5. Perhitungan nilai uji statistik dan $p-value$\")\n",
    "printMd(\"**Diketahui**\")\n",
    "printMd(\"$\\\\bar{X}_{BulatanAwal} = \"+ str(BulatanAwal['Bulatan'].mean()) +  \"$\")\n",
    "printMd(\"$\\\\bar{X}_{BulatanAkhir} = \" + str(BulatanAkhir['Bulatan'].mean()) +\"$\")\n",
    "printMd(\"$S^2_{BulatanAwal} = \"+ str(BulatanAwal['Bulatan'].var()) +  \"$\")\n",
    "printMd(\"$S^2_{BulatanAkhir} = \" + str(BulatanAkhir['Bulatan'].var()) +\"$\")\n",
    "printMd(\"$n_{BulatanAwal} = 20,\\\\, n_{BulatanAkhir} = 20$\")\n",
    "printMd(\"$t' = \\\\Large\\\\frac{(\\\\bar{X}_{BulatanAwal} - \\\\bar{X}_{BulatanAkhir})-d_0}{\\\\sqrt{\\\\Large\\\\frac{S^2_{BulatanAwal}}{\\\\Large n_{BulatanAwal}} + \\\\Large\\\\frac{S^2_{BulatanAkhir}}{\\\\Large n_{BulatanAkhir}}}}$\")\n",
    "printMd(\"dengan $d_0 = \\\\mu_{BulatanAwal} - \\\\mu_{BulatanAkhir} = 0$\")\n",
    "printMd(\"didapat **t' = \"+str(((0.7375353552500001 - 0.7673224369999999) - 0)/((0.0009232346025806985/20) + (0.0006307661055759373 /20))**0.5)+\"**\")\n",
    "printMd(\"#### 6. Kesimpulan\")\n",
    "printMd(\"Nilai $t'$ yang didapat **terletak** di daerah kritis, $t' < -2.024394$. Sehingga **$H_0$ ditolak**\")"
   ]
  },
  {
   "cell_type": "code",
   "execution_count": 28,
   "metadata": {},
   "outputs": [
    {
     "data": {
      "text/markdown": [
       "**Boxplot kolom Bulatan bagian awal**"
      ],
      "text/plain": [
       "<IPython.core.display.Markdown object>"
      ]
     },
     "metadata": {},
     "output_type": "display_data"
    },
    {
     "data": {
      "text/plain": [
       "<matplotlib.axes._subplots.AxesSubplot at 0x7f45fe5c9c10>"
      ]
     },
     "execution_count": 28,
     "metadata": {},
     "output_type": "execute_result"
    },
    {
     "data": {
      "image/png": "[encoded data removed]",
      "text/plain": [
       "<Figure size 432x288 with 1 Axes>"
      ]
     },
     "metadata": {
      "needs_background": "light"
     },
     "output_type": "display_data"
    }
   ],
   "source": [
    "printMd(\"**Boxplot kolom Bulatan bagian awal**\")\n",
    "BulatanAwal.boxplot([\"Bulatan\"])"
   ]
  },
  {
   "cell_type": "code",
   "execution_count": 29,
   "metadata": {},
   "outputs": [
    {
     "data": {
      "text/markdown": [
       "**Boxplot kolom Bulatan bagian akhir**"
      ],
      "text/plain": [
       "<IPython.core.display.Markdown object>"
      ]
     },
     "metadata": {},
     "output_type": "display_data"
    },
    {
     "data": {
      "text/plain": [
       "<matplotlib.axes._subplots.AxesSubplot at 0x7f45fe59ea00>"
      ]
     },
     "execution_count": 29,
     "metadata": {},
     "output_type": "execute_result"
    },
    {
     "data": {
      "image/png": "[encoded data removed]",
      "text/plain": [
       "<Figure size 432x288 with 1 Axes>"
      ]
     },
     "metadata": {
      "needs_background": "light"
     },
     "output_type": "display_data"
    }
   ],
   "source": [
    "printMd(\"**Boxplot kolom Bulatan bagian akhir**\")\n",
    "BulatanAkhir.boxplot([\"Bulatan\"])"
   ]
  },
  {
   "cell_type": "code",
   "execution_count": 30,
   "metadata": {},
   "outputs": [
    {
     "data": {
      "text/markdown": [
       "**Proporsi nilai bagian awal Ransum yang lebih dari 2, adalah lebih besar daripada, proporsi nilai yang sama di bagian akhir Ransum?**"
      ],
      "text/plain": [
       "<IPython.core.display.Markdown object>"
      ]
     },
     "metadata": {},
     "output_type": "display_data"
    },
    {
     "data": {
      "text/markdown": [
       "#### 1. Hipotesis nol"
      ],
      "text/plain": [
       "<IPython.core.display.Markdown object>"
      ]
     },
     "metadata": {},
     "output_type": "display_data"
    },
    {
     "data": {
      "text/markdown": [
       "$H_0 : P(X_1 > 2) = P(X_2 > 2)$"
      ],
      "text/plain": [
       "<IPython.core.display.Markdown object>"
      ]
     },
     "metadata": {},
     "output_type": "display_data"
    },
    {
     "data": {
      "text/markdown": [
       "#### 2. Hipotesis alternatif"
      ],
      "text/plain": [
       "<IPython.core.display.Markdown object>"
      ]
     },
     "metadata": {},
     "output_type": "display_data"
    },
    {
     "data": {
      "text/markdown": [
       "$H_0 : P(X_1 > 2) > P(X_2 > 2)$(one-tailed test)"
      ],
      "text/plain": [
       "<IPython.core.display.Markdown object>"
      ]
     },
     "metadata": {},
     "output_type": "display_data"
    },
    {
     "data": {
      "text/markdown": [
       "#### 3. Tingkat signifikan $\\alpha $"
      ],
      "text/plain": [
       "<IPython.core.display.Markdown object>"
      ]
     },
     "metadata": {},
     "output_type": "display_data"
    },
    {
     "data": {
      "text/markdown": [
       "$\\alpha$ = 0.05"
      ],
      "text/plain": [
       "<IPython.core.display.Markdown object>"
      ]
     },
     "metadata": {},
     "output_type": "display_data"
    },
    {
     "data": {
      "text/markdown": [
       "#### 4. Uji statistik dan daerah kritis"
      ],
      "text/plain": [
       "<IPython.core.display.Markdown object>"
      ]
     },
     "metadata": {},
     "output_type": "display_data"
    },
    {
     "data": {
      "text/markdown": [
       "Pada uji kali ini diasumsikan kolom Bulatan berdistribusi normal. Dan akan digunakan uji test $Normal \\space Z$"
      ],
      "text/plain": [
       "<IPython.core.display.Markdown object>"
      ]
     },
     "metadata": {},
     "output_type": "display_data"
    },
    {
     "data": {
      "text/markdown": [
       "Dengan derajat kebebasan tersebut dapat ditentukan nilai kritis menggunakan kalkulator dan didapat $z > z_{0.05}=1.645$"
      ],
      "text/plain": [
       "<IPython.core.display.Markdown object>"
      ]
     },
     "metadata": {},
     "output_type": "display_data"
    },
    {
     "data": {
      "text/markdown": [
       "#### 5. Perhitungan nilai uji statistik dan $p-value$"
      ],
      "text/plain": [
       "<IPython.core.display.Markdown object>"
      ]
     },
     "metadata": {},
     "output_type": "display_data"
    },
    {
     "data": {
      "text/markdown": [
       "**Diketahui**"
      ],
      "text/plain": [
       "<IPython.core.display.Markdown object>"
      ]
     },
     "metadata": {},
     "output_type": "display_data"
    },
    {
     "data": {
      "text/markdown": [
       "$\\hat{p}_1 = \\Large\\frac{x_1}{n_1} $ "
      ],
      "text/plain": [
       "<IPython.core.display.Markdown object>"
      ]
     },
     "metadata": {},
     "output_type": "display_data"
    },
    {
     "data": {
      "text/markdown": [
       "$\\hat{p}_2 = \\Large\\frac{x_2}{n_2} $ "
      ],
      "text/plain": [
       "<IPython.core.display.Markdown object>"
      ]
     },
     "metadata": {},
     "output_type": "display_data"
    },
    {
     "data": {
      "text/markdown": [
       "$\\bar{p} = \\Large\\frac{x_1 + x_2}{n_1 + n_2} $ "
      ],
      "text/plain": [
       "<IPython.core.display.Markdown object>"
      ]
     },
     "metadata": {},
     "output_type": "display_data"
    },
    {
     "data": {
      "text/markdown": [
       "$z = \\Large\\frac{\\hat{p}_1 - \\hat{p}_2}{\\sqrt{\\bar{p}(1-\\bar{p})(\\frac{1}{n_1} + \\frac{1}{n_2})}}$"
      ],
      "text/plain": [
       "<IPython.core.display.Markdown object>"
      ]
     },
     "metadata": {},
     "output_type": "display_data"
    },
    {
     "data": {
      "text/markdown": [
       "$\\hat{p}_1 = 0.996$"
      ],
      "text/plain": [
       "<IPython.core.display.Markdown object>"
      ]
     },
     "metadata": {},
     "output_type": "display_data"
    },
    {
     "data": {
      "text/markdown": [
       "$\\hat{p}_2 = 0.464$"
      ],
      "text/plain": [
       "<IPython.core.display.Markdown object>"
      ]
     },
     "metadata": {},
     "output_type": "display_data"
    },
    {
     "data": {
      "text/markdown": [
       "$\\bar{p} = 0.73$"
      ],
      "text/plain": [
       "<IPython.core.display.Markdown object>"
      ]
     },
     "metadata": {},
     "output_type": "display_data"
    },
    {
     "data": {
      "text/markdown": [
       "$n_1 = 250,\\, n_2 = 250$"
      ],
      "text/plain": [
       "<IPython.core.display.Markdown object>"
      ]
     },
     "metadata": {},
     "output_type": "display_data"
    },
    {
     "data": {
      "text/markdown": [
       "didapat **z = 13.397486455610238**"
      ],
      "text/plain": [
       "<IPython.core.display.Markdown object>"
      ]
     },
     "metadata": {},
     "output_type": "display_data"
    },
    {
     "data": {
      "text/markdown": [
       "#### 6. Kesimpulan"
      ],
      "text/plain": [
       "<IPython.core.display.Markdown object>"
      ]
     },
     "metadata": {},
     "output_type": "display_data"
    },
    {
     "data": {
      "text/markdown": [
       "Nilai $z$ yang didapat **terletak** di daerah kritis, $z > z_{0.05}=1.645$. Sehingga **$H_0$ ditolak**"
      ],
      "text/plain": [
       "<IPython.core.display.Markdown object>"
      ]
     },
     "metadata": {},
     "output_type": "display_data"
    }
   ],
   "source": [
    "printMd(\"**Proporsi nilai bagian awal Ransum yang lebih dari 2, adalah lebih besar daripada, proporsi nilai yang sama di bagian akhir Ransum?**\")\n",
    "RansumAwal = gandum.iloc[:gandum['Ransum'].count()//2,:]\n",
    "RansumAkhir = gandum.iloc[gandum['Ransum'].count()//2:,:]\n",
    "printMd(\"#### 1. Hipotesis nol\")\n",
    "printMd(\"$H_0 : P(X_1 > 2) = P(X_2 > 2)$\")\n",
    "printMd(\"#### 2. Hipotesis alternatif\")\n",
    "printMd(\"$H_0 : P(X_1 > 2) > P(X_2 > 2)$(one-tailed test)\")\n",
    "printMd(\"#### 3. Tingkat signifikan $\\\\alpha $\")\n",
    "printMd(\"$\\\\alpha$ = 0.05\")\n",
    "printMd(\"#### 4. Uji statistik dan daerah kritis\")\n",
    "printMd(\"Pada uji kali ini diasumsikan kolom Bulatan berdistribusi normal. Dan akan digunakan uji test $Normal \\\\space Z$\")\n",
    "printMd(\"Dengan derajat kebebasan tersebut dapat ditentukan nilai kritis menggunakan kalkulator dan didapat $z > z_{0.05}=1.645$\")\n",
    "printMd(\"#### 5. Perhitungan nilai uji statistik dan $p-value$\")\n",
    "printMd(\"**Diketahui**\")\n",
    "printMd(\"$\\\\hat{p}_1 = \\\\Large\\\\frac{x_1}{n_1} $ \")\n",
    "printMd(\"$\\\\hat{p}_2 = \\\\Large\\\\frac{x_2}{n_2} $ \")\n",
    "printMd(\"$\\\\bar{p} = \\\\Large\\\\frac{x_1 + x_2}{n_1 + n_2} $ \")\n",
    "printMd(\"$z = \\\\Large\\\\frac{\\\\hat{p}_1 - \\\\hat{p}_2}{\\\\sqrt{\\\\bar{p}(1-\\\\bar{p})(\\\\frac{1}{n_1} + \\\\frac{1}{n_2})}}$\")\n",
    "jumlahLebihDari2Awal = 0\n",
    "jumlahLebihDari2Akhir = 0\n",
    "for i in range(500):\n",
    "    if(i < 250):\n",
    "        if (RansumAwal[\"Ransum\"][i] > 2):\n",
    "            jumlahLebihDari2Awal += 1\n",
    "    else:\n",
    "        if (RansumAkhir[\"Ransum\"][i] > 2):\n",
    "            jumlahLebihDari2Akhir += 1\n",
    "\n",
    "printMd(\"$\\\\hat{p}_1 = \" + f\"{jumlahLebihDari2Awal/250}$\")\n",
    "printMd(\"$\\\\hat{p}_2 = \" + f\"{jumlahLebihDari2Akhir/250}$\")\n",
    "printMd(\"$\\\\bar{p} = \" + f\"{(jumlahLebihDari2Awal + jumlahLebihDari2Akhir)/500}$\")\n",
    "printMd(\"$n_1 = 250,\\\\, n_2 = 250$\")\n",
    "printMd(\"didapat **z = \"+str((0.996-0.464)/(0.73*(1-0.73)*((1/250)+(1/250)))**0.5)+\"**\")\n",
    "printMd(\"#### 6. Kesimpulan\")\n",
    "printMd(\"Nilai $z$ yang didapat **terletak** di daerah kritis, $z > z_{0.05}=1.645$. Sehingga **$H_0$ ditolak**\")"
   ]
  },
  {
   "cell_type": "code",
   "execution_count": 31,
   "metadata": {},
   "outputs": [
    {
     "data": {
      "text/markdown": [
       "**Boxplot kolom Ransum bagian akhir**"
      ],
      "text/plain": [
       "<IPython.core.display.Markdown object>"
      ]
     },
     "metadata": {},
     "output_type": "display_data"
    },
    {
     "data": {
      "text/plain": [
       "<matplotlib.axes._subplots.AxesSubplot at 0x7f45fe581ac0>"
      ]
     },
     "execution_count": 31,
     "metadata": {},
     "output_type": "execute_result"
    },
    {
     "data": {
      "image/png": "[encoded data removed]",
      "text/plain": [
       "<Figure size 432x288 with 1 Axes>"
      ]
     },
     "metadata": {
      "needs_background": "light"
     },
     "output_type": "display_data"
    }
   ],
   "source": [
    "printMd(\"**Boxplot kolom Ransum bagian akhir**\")\n",
    "RansumAwal.boxplot([\"Ransum\"])"
   ]
  },
  {
   "cell_type": "code",
   "execution_count": 32,
   "metadata": {},
   "outputs": [
    {
     "data": {
      "text/markdown": [
       "**Boxplot kolom Ransum bagian akhir**"
      ],
      "text/plain": [
       "<IPython.core.display.Markdown object>"
      ]
     },
     "metadata": {},
     "output_type": "display_data"
    },
    {
     "data": {
      "text/plain": [
       "<matplotlib.axes._subplots.AxesSubplot at 0x7f45fe4ea7c0>"
      ]
     },
     "execution_count": 32,
     "metadata": {},
     "output_type": "execute_result"
    },
    {
     "data": {
      "image/png": "[encoded data removed]",
      "text/plain": [
       "<Figure size 432x288 with 1 Axes>"
      ]
     },
     "metadata": {
      "needs_background": "light"
     },
     "output_type": "display_data"
    }
   ],
   "source": [
    "printMd(\"**Boxplot kolom Ransum bagian akhir**\")\n",
    "RansumAkhir.boxplot([\"Ransum\"])"
   ]
  },
  {
   "cell_type": "code",
   "execution_count": 33,
   "metadata": {},
   "outputs": [
    {
     "data": {
      "text/markdown": [
       "**Bagian awal kolom Diameter memiliki variansi yang sama dengan bagian akhirnya?**"
      ],
      "text/plain": [
       "<IPython.core.display.Markdown object>"
      ]
     },
     "metadata": {},
     "output_type": "display_data"
    },
    {
     "data": {
      "text/markdown": [
       "#### 1. Hipotesis nol"
      ],
      "text/plain": [
       "<IPython.core.display.Markdown object>"
      ]
     },
     "metadata": {},
     "output_type": "display_data"
    },
    {
     "data": {
      "text/markdown": [
       "$\\sigma^2_{DiameterAwal} = \\sigma^2_{DiameterAkhir}$"
      ],
      "text/plain": [
       "<IPython.core.display.Markdown object>"
      ]
     },
     "metadata": {},
     "output_type": "display_data"
    },
    {
     "data": {
      "text/markdown": [
       "#### 2. Hipotesis alternatif"
      ],
      "text/plain": [
       "<IPython.core.display.Markdown object>"
      ]
     },
     "metadata": {},
     "output_type": "display_data"
    },
    {
     "data": {
      "text/markdown": [
       "$\\sigma^2_{DiameterAwal} \\neq \\sigma^2_{DiameterAkhir}$ (two-tailed test)"
      ],
      "text/plain": [
       "<IPython.core.display.Markdown object>"
      ]
     },
     "metadata": {},
     "output_type": "display_data"
    },
    {
     "data": {
      "text/markdown": [
       "#### 3. Tingkat signifikan $\\alpha $"
      ],
      "text/plain": [
       "<IPython.core.display.Markdown object>"
      ]
     },
     "metadata": {},
     "output_type": "display_data"
    },
    {
     "data": {
      "text/markdown": [
       "$\\alpha$ = 0.05"
      ],
      "text/plain": [
       "<IPython.core.display.Markdown object>"
      ]
     },
     "metadata": {},
     "output_type": "display_data"
    },
    {
     "data": {
      "text/markdown": [
       "#### 4. Uji statistik dan daerah kritis"
      ],
      "text/plain": [
       "<IPython.core.display.Markdown object>"
      ]
     },
     "metadata": {},
     "output_type": "display_data"
    },
    {
     "data": {
      "text/markdown": [
       "Pada uji kali ini diasumsikan kolom Bulatan berdistribusi normal. Dan akan digunakan uji test $distribusi F$"
      ],
      "text/plain": [
       "<IPython.core.display.Markdown object>"
      ]
     },
     "metadata": {},
     "output_type": "display_data"
    },
    {
     "data": {
      "text/markdown": [
       "Derajat kebebasan v1= $n_{DiameterAwal} - 1 = 249$"
      ],
      "text/plain": [
       "<IPython.core.display.Markdown object>"
      ]
     },
     "metadata": {},
     "output_type": "display_data"
    },
    {
     "data": {
      "text/markdown": [
       "Derajat kebebasan v2= $n_{DiameterAkhir} - 1 = 249$"
      ],
      "text/plain": [
       "<IPython.core.display.Markdown object>"
      ]
     },
     "metadata": {},
     "output_type": "display_data"
    },
    {
     "data": {
      "text/markdown": [
       "Dengan derajat kebebasan tersebut dapat ditentukan nilai kritis menggunakan kalkulator dan didapat $ 0 < f \\le 0.7796$ atau $f \\ge 1.2827$"
      ],
      "text/plain": [
       "<IPython.core.display.Markdown object>"
      ]
     },
     "metadata": {},
     "output_type": "display_data"
    },
    {
     "data": {
      "text/markdown": [
       "#### 5. Perhitungan nilai uji statistik dan $p-value$"
      ],
      "text/plain": [
       "<IPython.core.display.Markdown object>"
      ]
     },
     "metadata": {},
     "output_type": "display_data"
    },
    {
     "data": {
      "text/markdown": [
       "**Diketahui**"
      ],
      "text/plain": [
       "<IPython.core.display.Markdown object>"
      ]
     },
     "metadata": {},
     "output_type": "display_data"
    },
    {
     "data": {
      "text/markdown": [
       "$s^2_{DiameterAwal} = 43.168980426322435$"
      ],
      "text/plain": [
       "<IPython.core.display.Markdown object>"
      ]
     },
     "metadata": {},
     "output_type": "display_data"
    },
    {
     "data": {
      "text/markdown": [
       "$s^2_{DiameterAkhir} = 39.8282643880772$"
      ],
      "text/plain": [
       "<IPython.core.display.Markdown object>"
      ]
     },
     "metadata": {},
     "output_type": "display_data"
    },
    {
     "data": {
      "text/markdown": [
       "$n_{DiameterAwal} = 250,\\, n_{DiameterAkhir} = 250$"
      ],
      "text/plain": [
       "<IPython.core.display.Markdown object>"
      ]
     },
     "metadata": {},
     "output_type": "display_data"
    },
    {
     "data": {
      "text/markdown": [
       "$f = \\Large\\frac{s^2_{DiameterAwal}}{s^2_{DiameterAkhir}}$"
      ],
      "text/plain": [
       "<IPython.core.display.Markdown object>"
      ]
     },
     "metadata": {},
     "output_type": "display_data"
    },
    {
     "data": {
      "text/markdown": [
       "didapat **f = 1.083878022042188**"
      ],
      "text/plain": [
       "<IPython.core.display.Markdown object>"
      ]
     },
     "metadata": {},
     "output_type": "display_data"
    },
    {
     "data": {
      "text/markdown": [
       "#### 6. Kesimpulan"
      ],
      "text/plain": [
       "<IPython.core.display.Markdown object>"
      ]
     },
     "metadata": {},
     "output_type": "display_data"
    },
    {
     "data": {
      "text/markdown": [
       "Nilai $f$ yang didapat **tidak terletak** di daerah kritis, $0.7796 < f < 1.2827$. Sehingga **$H_0$ diterima**"
      ],
      "text/plain": [
       "<IPython.core.display.Markdown object>"
      ]
     },
     "metadata": {},
     "output_type": "display_data"
    }
   ],
   "source": [
    "printMd(\"**Bagian awal kolom Diameter memiliki variansi yang sama dengan bagian akhirnya?**\")\n",
    "DiameterAwal = gandum.iloc[:gandum['Diameter'].count()//2,:]\n",
    "DiameterAkhir = gandum.iloc[gandum['Diameter'].count()//2:,:]\n",
    "printMd(\"#### 1. Hipotesis nol\")\n",
    "printMd(\"$\\\\sigma^2_{DiameterAwal} = \\\\sigma^2_{DiameterAkhir}$\")\n",
    "printMd(\"#### 2. Hipotesis alternatif\")\n",
    "printMd(\"$\\\\sigma^2_{DiameterAwal} \\\\neq \\\\sigma^2_{DiameterAkhir}$ (two-tailed test)\")\n",
    "printMd(\"#### 3. Tingkat signifikan $\\\\alpha $\")\n",
    "printMd(\"$\\\\alpha$ = 0.05\")\n",
    "printMd(\"#### 4. Uji statistik dan daerah kritis\")\n",
    "printMd(\"Pada uji kali ini diasumsikan kolom Bulatan berdistribusi normal. Dan akan digunakan uji test $distribusi F$\")\n",
    "printMd(\"Derajat kebebasan v1= $n_{DiameterAwal} - 1 = 249$\")\n",
    "printMd(\"Derajat kebebasan v2= $n_{DiameterAkhir} - 1 = 249$\")\n",
    "printMd(\"Dengan derajat kebebasan tersebut dapat ditentukan nilai kritis menggunakan kalkulator dan didapat $ 0 < f \\\\le 0.7796$ atau $f \\\\ge 1.2827$\")\n",
    "printMd(\"#### 5. Perhitungan nilai uji statistik dan $p-value$\")\n",
    "printMd(\"**Diketahui**\")\n",
    "printMd(\"$s^2_{DiameterAwal} = \"+ str(DiameterAwal['Diameter'].var()) +  \"$\")\n",
    "printMd(\"$s^2_{DiameterAkhir} = \" + str(DiameterAkhir['Diameter'].var()) +\"$\")\n",
    "printMd(\"$n_{DiameterAwal} = 250,\\\\, n_{DiameterAkhir} = 250$\")\n",
    "printMd(\"$f = \\\\Large\\\\frac{s^2_{DiameterAwal}}{s^2_{DiameterAkhir}}$\")\n",
    "printMd(\"didapat **f = \"+str(43.168980426322435/39.8282643880772)+\"**\")\n",
    "printMd(\"#### 6. Kesimpulan\")\n",
    "printMd(\"Nilai $f$ yang didapat **tidak terletak** di daerah kritis, $0.7796 < f < 1.2827$. Sehingga **$H_0$ diterima**\")"
   ]
  },
  {
   "cell_type": "code",
   "execution_count": 34,
   "metadata": {},
   "outputs": [
    {
     "data": {
      "text/markdown": [
       "**Boxplot kolom Diameter bagian awal**"
      ],
      "text/plain": [
       "<IPython.core.display.Markdown object>"
      ]
     },
     "metadata": {},
     "output_type": "display_data"
    },
    {
     "data": {
      "text/plain": [
       "<matplotlib.axes._subplots.AxesSubplot at 0x7f45fe4af790>"
      ]
     },
     "execution_count": 34,
     "metadata": {},
     "output_type": "execute_result"
    },
    {
     "data": {
      "image/png": "[encoded data removed]",
      "text/plain": [
       "<Figure size 432x288 with 1 Axes>"
      ]
     },
     "metadata": {
      "needs_background": "light"
     },
     "output_type": "display_data"
    }
   ],
   "source": [
    "printMd(\"**Boxplot kolom Diameter bagian awal**\")\n",
    "DiameterAwal.boxplot([\"Diameter\"])"
   ]
  },
  {
   "cell_type": "code",
   "execution_count": 35,
   "metadata": {},
   "outputs": [
    {
     "data": {
      "text/markdown": [
       "**Boxplot kolom Diameter bagian akhir**"
      ],
      "text/plain": [
       "<IPython.core.display.Markdown object>"
      ]
     },
     "metadata": {},
     "output_type": "display_data"
    },
    {
     "data": {
      "text/plain": [
       "<matplotlib.axes._subplots.AxesSubplot at 0x7f45fe40f9a0>"
      ]
     },
     "execution_count": 35,
     "metadata": {},
     "output_type": "execute_result"
    },
    {
     "data": {
      "image/png": "[encoded data removed]",
      "text/plain": [
       "<Figure size 432x288 with 1 Axes>"
      ]
     },
     "metadata": {
      "needs_background": "light"
     },
     "output_type": "display_data"
    }
   ],
   "source": [
    "printMd(\"**Boxplot kolom Diameter bagian akhir**\")\n",
    "DiameterAkhir.boxplot([\"Diameter\"])"
   ]
  },
  {
   "cell_type": "markdown",
   "metadata": {},
   "source": [
    "### 6. Test korelasi\n",
    "tentukan apakah setiap kolom non-target berkorelasi dengan kolom target, dengan menggambarkan juga scatter plot nya. Gunakan correlation test."
   ]
  },
  {
   "cell_type": "markdown",
   "metadata": {},
   "source": [
    "#### KEKUATAN DAN ARAH HUBUNGAN\n",
    "Kekuatan hubungan dapat dilihat dari koefisien korelasi. Koefisien korelasi berada pada rentang antara -1 dan 1:\n",
    "- -1 menunjukkan korelasi $X$ dan $Y$ negatif yang kuat. setiap kali $X$ meningkat, $Y$ berkurang.\n",
    "- 0 berarti tidak ada hubungan antara $X$ dan $Y$.\n",
    "- 1 menunjukkan korelasi $X$ dan $Y$ positif yang kuat. setiap kali $X$ meningkat, $Y$ meningkat.\n",
    "<br>\n",
    "\n",
    "\n",
    "Untuk memudahkan melakukan interpretasi mengenai kekuatan hubungan antara dua variabel, Sarwono (2006) memberikan kriteria sebagai berikut:\n",
    "- 0 : **Tidak ada korelasi** antara dua variabel\n",
    "- 0 – 0,25: **Korelasi sangat lemah**\n",
    "- 0,25 – 0,5: **Korelasi cukup**\n",
    "- 0,5 – 0,75: **Korelasi  kuat**\n",
    "- 0,75 – 0,99: **Korelasi  sangat kuat**\n",
    "- 1: **Korelasi sempurna**"
   ]
  },
  {
   "cell_type": "code",
   "execution_count": 36,
   "metadata": {},
   "outputs": [
    {
     "data": {
      "text/markdown": [
       "#### Daerah"
      ],
      "text/plain": [
       "<IPython.core.display.Markdown object>"
      ]
     },
     "metadata": {},
     "output_type": "display_data"
    },
    {
     "data": {
      "text/markdown": [
       "Hasil korelasi kolom Daerah(non-target) dengan kolom Kelas(target)"
      ],
      "text/plain": [
       "<IPython.core.display.Markdown object>"
      ]
     },
     "metadata": {},
     "output_type": "display_data"
    },
    {
     "data": {
      "text/markdown": [
       "$\\rho_{Daerah,Kelas} = $-0.6027466517416693"
      ],
      "text/plain": [
       "<IPython.core.display.Markdown object>"
      ]
     },
     "metadata": {},
     "output_type": "display_data"
    },
    {
     "data": {
      "image/png": "[encoded data removed]",
      "text/plain": [
       "<Figure size 432x288 with 1 Axes>"
      ]
     },
     "metadata": {
      "needs_background": "light"
     },
     "output_type": "display_data"
    },
    {
     "data": {
      "text/markdown": [
       "Dari hasil $\\rho$ yang didapatkan, dapat disimpulkan bahwa bahwa kolom Daerah dan Kelas berkorelasi **negatif** dan termasuk **Korelasi kuat**."
      ],
      "text/plain": [
       "<IPython.core.display.Markdown object>"
      ]
     },
     "metadata": {},
     "output_type": "display_data"
    }
   ],
   "source": [
    "printMd(\"#### Daerah\")\n",
    "printMd(\"Hasil korelasi kolom Daerah(non-target) dengan kolom Kelas(target)\")\n",
    "printMd(\"$\\\\rho_{Daerah,Kelas} = $\"+str(gandum['Daerah'].corr(gandum['Kelas'])))\n",
    "plt.title(\"Scatter Plot antara kolom Daerah dengan Kelas\")\n",
    "plt.scatter(x=gandum['Daerah'],y=gandum['Kelas'])\n",
    "plt.xlabel(\"Daerah\")\n",
    "plt.ylabel(\"Kelas\")\n",
    "plt.show()\n",
    "printMd(\"Dari hasil $\\\\rho$ yang didapatkan, dapat disimpulkan bahwa bahwa kolom Daerah dan Kelas berkorelasi **negatif** dan termasuk **Korelasi kuat**.\")"
   ]
  },
  {
   "cell_type": "code",
   "execution_count": 37,
   "metadata": {},
   "outputs": [
    {
     "data": {
      "text/markdown": [
       "#### SumbuUtama"
      ],
      "text/plain": [
       "<IPython.core.display.Markdown object>"
      ]
     },
     "metadata": {},
     "output_type": "display_data"
    },
    {
     "data": {
      "text/markdown": [
       "Hasil korelasi kolom SumbuUtama(non-target) dengan kolom Kelas(target"
      ],
      "text/plain": [
       "<IPython.core.display.Markdown object>"
      ]
     },
     "metadata": {},
     "output_type": "display_data"
    },
    {
     "data": {
      "text/markdown": [
       "$\\rho_{SumbuUtama,Kelas} = $-0.7130906104204634"
      ],
      "text/plain": [
       "<IPython.core.display.Markdown object>"
      ]
     },
     "metadata": {},
     "output_type": "display_data"
    },
    {
     "data": {
      "image/png": "[encoded data removed]",
      "text/plain": [
       "<Figure size 432x288 with 1 Axes>"
      ]
     },
     "metadata": {
      "needs_background": "light"
     },
     "output_type": "display_data"
    },
    {
     "data": {
      "text/markdown": [
       "Dari hasil $\\rho$ yang didapatkan, dapat disimpulkan bahwa bahwa kolom SumbuUtama dan Kelas berkorelasi **negatif** dan termasuk **Korelasi kuat**."
      ],
      "text/plain": [
       "<IPython.core.display.Markdown object>"
      ]
     },
     "metadata": {},
     "output_type": "display_data"
    }
   ],
   "source": [
    "printMd(\"#### SumbuUtama\")\n",
    "printMd(\"Hasil korelasi kolom SumbuUtama(non-target) dengan kolom Kelas(target\")\n",
    "printMd(\"$\\\\rho_{SumbuUtama,Kelas} = $\"+str(gandum['SumbuUtama'].corr(gandum['Kelas'])))\n",
    "plt.title(\"Scatter Plot antara kolom SumbuUtama dengan Kelas\")\n",
    "plt.scatter(x=gandum['SumbuUtama'],y=gandum['Kelas'])\n",
    "plt.xlabel(\"SumbuUtama\")\n",
    "plt.ylabel(\"Kelas\")\n",
    "plt.show()\n",
    "printMd(\"Dari hasil $\\\\rho$ yang didapatkan, dapat disimpulkan bahwa bahwa kolom SumbuUtama dan Kelas berkorelasi **negatif** dan termasuk **Korelasi kuat**.\")"
   ]
  },
  {
   "cell_type": "code",
   "execution_count": 38,
   "metadata": {},
   "outputs": [
    {
     "data": {
      "text/markdown": [
       "#### SumbuKecil"
      ],
      "text/plain": [
       "<IPython.core.display.Markdown object>"
      ]
     },
     "metadata": {},
     "output_type": "display_data"
    },
    {
     "data": {
      "text/markdown": [
       "Hasil korelasi kolom SumbuKecil(non-target) dengan kolom Kelas(target"
      ],
      "text/plain": [
       "<IPython.core.display.Markdown object>"
      ]
     },
     "metadata": {},
     "output_type": "display_data"
    },
    {
     "data": {
      "text/markdown": [
       "$\\rho_{SumbuKecil,Kelas} = $-0.15297517335535132"
      ],
      "text/plain": [
       "<IPython.core.display.Markdown object>"
      ]
     },
     "metadata": {},
     "output_type": "display_data"
    },
    {
     "data": {
      "image/png": "[encoded data removed]",
      "text/plain": [
       "<Figure size 432x288 with 1 Axes>"
      ]
     },
     "metadata": {
      "needs_background": "light"
     },
     "output_type": "display_data"
    },
    {
     "data": {
      "text/markdown": [
       "Dari hasil $\\rho$ yang didapatkan, dapat disimpulkan bahwa bahwa kolom SumbuKecil dan Kelas berkorelasi **negatif** dan termasuk **Korelasi sangat lemah**."
      ],
      "text/plain": [
       "<IPython.core.display.Markdown object>"
      ]
     },
     "metadata": {},
     "output_type": "display_data"
    }
   ],
   "source": [
    "printMd(\"#### SumbuKecil\")\n",
    "printMd(\"Hasil korelasi kolom SumbuKecil(non-target) dengan kolom Kelas(target\")\n",
    "printMd(\"$\\\\rho_{SumbuKecil,Kelas} = $\"+str(gandum['SumbuKecil'].corr(gandum['Kelas'])))\n",
    "plt.title(\"Scatter Plot antara kolom SumbuKecil dengan Kelas\")\n",
    "plt.scatter(x=gandum['SumbuKecil'],y=gandum['Kelas'])\n",
    "plt.xlabel(\"SumbuKecil\")\n",
    "plt.ylabel(\"Kelas\")\n",
    "plt.show()\n",
    "printMd(\"Dari hasil $\\\\rho$ yang didapatkan, dapat disimpulkan bahwa bahwa kolom SumbuKecil dan Kelas berkorelasi **negatif** dan termasuk **Korelasi sangat lemah**.\")"
   ]
  },
  {
   "cell_type": "code",
   "execution_count": 39,
   "metadata": {},
   "outputs": [
    {
     "data": {
      "text/markdown": [
       "#### Keunikan"
      ],
      "text/plain": [
       "<IPython.core.display.Markdown object>"
      ]
     },
     "metadata": {},
     "output_type": "display_data"
    },
    {
     "data": {
      "text/markdown": [
       "Hasil korelasi kolom Keunikan(non-target) dengan kolom Kelas(target"
      ],
      "text/plain": [
       "<IPython.core.display.Markdown object>"
      ]
     },
     "metadata": {},
     "output_type": "display_data"
    },
    {
     "data": {
      "text/markdown": [
       "$\\rho_{Keunikan,Kelas} = $-0.7304563686511966"
      ],
      "text/plain": [
       "<IPython.core.display.Markdown object>"
      ]
     },
     "metadata": {},
     "output_type": "display_data"
    },
    {
     "data": {
      "image/png": "[encoded data removed]",
      "text/plain": [
       "<Figure size 432x288 with 1 Axes>"
      ]
     },
     "metadata": {
      "needs_background": "light"
     },
     "output_type": "display_data"
    },
    {
     "data": {
      "text/markdown": [
       "Dari hasil $\\rho$ yang didapatkan, dapat disimpulkan bahwa bahwa kolom Keunikan dan Kelas berkorelasi **negatif** dan termasuk **Korelasi kuat**."
      ],
      "text/plain": [
       "<IPython.core.display.Markdown object>"
      ]
     },
     "metadata": {},
     "output_type": "display_data"
    }
   ],
   "source": [
    "printMd(\"#### Keunikan\")\n",
    "printMd(\"Hasil korelasi kolom Keunikan(non-target) dengan kolom Kelas(target\")\n",
    "printMd(\"$\\\\rho_{Keunikan,Kelas} = $\"+str(gandum['Keunikan'].corr(gandum['Kelas'])))\n",
    "plt.title(\"Scatter Plot antara kolom Keunikan dengan Kelas\")\n",
    "plt.scatter(x=gandum['Keunikan'],y=gandum['Kelas'])\n",
    "plt.xlabel(\"Keunikan\")\n",
    "plt.ylabel(\"Kelas\")\n",
    "plt.show()\n",
    "printMd(\"Dari hasil $\\\\rho$ yang didapatkan, dapat disimpulkan bahwa bahwa kolom Keunikan dan Kelas berkorelasi **negatif** dan termasuk **Korelasi kuat**.\")"
   ]
  },
  {
   "cell_type": "code",
   "execution_count": 40,
   "metadata": {},
   "outputs": [
    {
     "data": {
      "text/markdown": [
       "#### AreaBulatan"
      ],
      "text/plain": [
       "<IPython.core.display.Markdown object>"
      ]
     },
     "metadata": {},
     "output_type": "display_data"
    },
    {
     "data": {
      "text/markdown": [
       "Hasil korelasi kolom AreaBulatan(non-target) dengan kolom Kelas(target"
      ],
      "text/plain": [
       "<IPython.core.display.Markdown object>"
      ]
     },
     "metadata": {},
     "output_type": "display_data"
    },
    {
     "data": {
      "text/markdown": [
       "$\\rho_{AreaBulatan,Kelas} = $-0.6073125434153784"
      ],
      "text/plain": [
       "<IPython.core.display.Markdown object>"
      ]
     },
     "metadata": {},
     "output_type": "display_data"
    },
    {
     "data": {
      "image/png": "[encoded data removed]",
      "text/plain": [
       "<Figure size 432x288 with 1 Axes>"
      ]
     },
     "metadata": {
      "needs_background": "light"
     },
     "output_type": "display_data"
    },
    {
     "data": {
      "text/markdown": [
       "Dari hasil $\\rho$ yang didapatkan, dapat disimpulkan bahwa bahwa kolom AreaBulatan dan Kelas berkorelasi **negatif** dan termasuk **Korelasi kuat**."
      ],
      "text/plain": [
       "<IPython.core.display.Markdown object>"
      ]
     },
     "metadata": {},
     "output_type": "display_data"
    }
   ],
   "source": [
    "printMd(\"#### AreaBulatan\")\n",
    "printMd(\"Hasil korelasi kolom AreaBulatan(non-target) dengan kolom Kelas(target\")\n",
    "printMd(\"$\\\\rho_{AreaBulatan,Kelas} = $\"+str(gandum['AreaBulatan'].corr(gandum['Kelas'])))\n",
    "plt.title(\"Scatter Plot antara kolom AreaBulatan dengan Kelas\")\n",
    "plt.scatter(x=gandum['AreaBulatan'],y=gandum['Kelas'])\n",
    "plt.xlabel(\"AreaBulatan\")\n",
    "plt.ylabel(\"Kelas\")\n",
    "plt.show()\n",
    "printMd(\"Dari hasil $\\\\rho$ yang didapatkan, dapat disimpulkan bahwa bahwa kolom AreaBulatan dan Kelas berkorelasi **negatif** dan termasuk **Korelasi kuat**.\")"
   ]
  },
  {
   "cell_type": "code",
   "execution_count": 41,
   "metadata": {},
   "outputs": [
    {
     "data": {
      "text/markdown": [
       "#### Diameter"
      ],
      "text/plain": [
       "<IPython.core.display.Markdown object>"
      ]
     },
     "metadata": {},
     "output_type": "display_data"
    },
    {
     "data": {
      "text/markdown": [
       "Hasil korelasi kolom Diameter(non-target) dengan kolom Kelas(target"
      ],
      "text/plain": [
       "<IPython.core.display.Markdown object>"
      ]
     },
     "metadata": {},
     "output_type": "display_data"
    },
    {
     "data": {
      "text/markdown": [
       "$\\rho_{Diameter,Kelas} = $-0.6025356896618852"
      ],
      "text/plain": [
       "<IPython.core.display.Markdown object>"
      ]
     },
     "metadata": {},
     "output_type": "display_data"
    },
    {
     "data": {
      "image/png": "[encoded data removed]",
      "text/plain": [
       "<Figure size 432x288 with 1 Axes>"
      ]
     },
     "metadata": {
      "needs_background": "light"
     },
     "output_type": "display_data"
    },
    {
     "data": {
      "text/markdown": [
       "Dari hasil $\\rho$ yang didapatkan, dapat disimpulkan bahwa bahwa kolom Diameter dan Kelas berkorelasi **negatif** dan termasuk **Korelasi kuat**."
      ],
      "text/plain": [
       "<IPython.core.display.Markdown object>"
      ]
     },
     "metadata": {},
     "output_type": "display_data"
    }
   ],
   "source": [
    "printMd(\"#### Diameter\")\n",
    "printMd(\"Hasil korelasi kolom Diameter(non-target) dengan kolom Kelas(target\")\n",
    "printMd(\"$\\\\rho_{Diameter,Kelas} = $\"+str(gandum['Diameter'].corr(gandum['Kelas'])))\n",
    "plt.title(\"Scatter Plot antara kolom Diameter dengan Kelas\")\n",
    "plt.scatter(x=gandum['Diameter'],y=gandum['Kelas'])\n",
    "plt.xlabel(\"Diameter\")\n",
    "plt.ylabel(\"Kelas\")\n",
    "plt.show()\n",
    "printMd(\"Dari hasil $\\\\rho$ yang didapatkan, dapat disimpulkan bahwa bahwa kolom Diameter dan Kelas berkorelasi **negatif** dan termasuk **Korelasi kuat**.\")"
   ]
  },
  {
   "cell_type": "code",
   "execution_count": 42,
   "metadata": {},
   "outputs": [
    {
     "data": {
      "text/markdown": [
       "#### KadarAir"
      ],
      "text/plain": [
       "<IPython.core.display.Markdown object>"
      ]
     },
     "metadata": {},
     "output_type": "display_data"
    },
    {
     "data": {
      "text/markdown": [
       "Hasil korelasi kolom KadarAir(non-target) dengan kolom Kelas(target"
      ],
      "text/plain": [
       "<IPython.core.display.Markdown object>"
      ]
     },
     "metadata": {},
     "output_type": "display_data"
    },
    {
     "data": {
      "text/markdown": [
       "$\\rho_{KadarAir,Kelas} = $0.13434422605727736"
      ],
      "text/plain": [
       "<IPython.core.display.Markdown object>"
      ]
     },
     "metadata": {},
     "output_type": "display_data"
    },
    {
     "data": {
      "image/png": "[encoded data removed]",
      "text/plain": [
       "<Figure size 432x288 with 1 Axes>"
      ]
     },
     "metadata": {
      "needs_background": "light"
     },
     "output_type": "display_data"
    },
    {
     "data": {
      "text/markdown": [
       "Dari hasil $\\rho$ yang didapatkan, dapat disimpulkan bahwa bahwa kolom KadarAir dan Kelas berkorelasi **positif** dan termasuk **Korelasi sangat lemah**."
      ],
      "text/plain": [
       "<IPython.core.display.Markdown object>"
      ]
     },
     "metadata": {},
     "output_type": "display_data"
    }
   ],
   "source": [
    "printMd(\"#### KadarAir\")\n",
    "printMd(\"Hasil korelasi kolom KadarAir(non-target) dengan kolom Kelas(target\")\n",
    "printMd(\"$\\\\rho_{KadarAir,Kelas} = $\"+str(gandum['KadarAir'].corr(gandum['Kelas'])))\n",
    "plt.title(\"Scatter Plot antara kolom KadarAir dengan Kelas\")\n",
    "plt.scatter(x=gandum['KadarAir'],y=gandum['Kelas'])\n",
    "plt.xlabel(\"KadarAir\")\n",
    "plt.ylabel(\"Kelas\")\n",
    "plt.show()\n",
    "printMd(\"Dari hasil $\\\\rho$ yang didapatkan, dapat disimpulkan bahwa bahwa kolom KadarAir dan Kelas berkorelasi **positif** dan termasuk **Korelasi sangat lemah**.\")"
   ]
  },
  {
   "cell_type": "code",
   "execution_count": 43,
   "metadata": {},
   "outputs": [
    {
     "data": {
      "text/markdown": [
       "#### Keliling"
      ],
      "text/plain": [
       "<IPython.core.display.Markdown object>"
      ]
     },
     "metadata": {},
     "output_type": "display_data"
    },
    {
     "data": {
      "text/markdown": [
       "Hasil korelasi kolom Keliling(non-target) dengan kolom Kelas(target"
      ],
      "text/plain": [
       "<IPython.core.display.Markdown object>"
      ]
     },
     "metadata": {},
     "output_type": "display_data"
    },
    {
     "data": {
      "text/markdown": [
       "$\\rho_{Keliling,Kelas} = $-0.6348607454756899"
      ],
      "text/plain": [
       "<IPython.core.display.Markdown object>"
      ]
     },
     "metadata": {},
     "output_type": "display_data"
    },
    {
     "data": {
      "image/png": "[encoded data removed]",
      "text/plain": [
       "<Figure size 432x288 with 1 Axes>"
      ]
     },
     "metadata": {
      "needs_background": "light"
     },
     "output_type": "display_data"
    },
    {
     "data": {
      "text/markdown": [
       "Dari hasil $\\rho$ yang didapatkan, dapat disimpulkan bahwa bahwa kolom Keliling dan Kelas berkorelasi **negatif** dan termasuk **Korelasi kuat**."
      ],
      "text/plain": [
       "<IPython.core.display.Markdown object>"
      ]
     },
     "metadata": {},
     "output_type": "display_data"
    }
   ],
   "source": [
    "printMd(\"#### Keliling\")\n",
    "printMd(\"Hasil korelasi kolom Keliling(non-target) dengan kolom Kelas(target\")\n",
    "printMd(\"$\\\\rho_{Keliling,Kelas} = $\"+str(gandum['Keliling'].corr(gandum['Kelas'])))\n",
    "plt.title(\"Scatter Plot antara kolom Keliling dengan Kelas\")\n",
    "plt.scatter(x=gandum['Keliling'],y=gandum['Kelas'])\n",
    "plt.xlabel(\"Keliling\")\n",
    "plt.ylabel(\"Kelas\")\n",
    "plt.show()\n",
    "printMd(\"Dari hasil $\\\\rho$ yang didapatkan, dapat disimpulkan bahwa bahwa kolom Keliling dan Kelas berkorelasi **negatif** dan termasuk **Korelasi kuat**.\")"
   ]
  },
  {
   "cell_type": "code",
   "execution_count": 44,
   "metadata": {},
   "outputs": [
    {
     "data": {
      "text/markdown": [
       "#### Bulatan"
      ],
      "text/plain": [
       "<IPython.core.display.Markdown object>"
      ]
     },
     "metadata": {},
     "output_type": "display_data"
    },
    {
     "data": {
      "text/markdown": [
       "Hasil korelasi kolom Bulatan(non-target) dengan kolom Kelas(target"
      ],
      "text/plain": [
       "<IPython.core.display.Markdown object>"
      ]
     },
     "metadata": {},
     "output_type": "display_data"
    },
    {
     "data": {
      "text/markdown": [
       "$\\rho_{Bulatan,Kelas} = $0.5450045317240112"
      ],
      "text/plain": [
       "<IPython.core.display.Markdown object>"
      ]
     },
     "metadata": {},
     "output_type": "display_data"
    },
    {
     "data": {
      "image/png": "[encoded data removed]",
      "text/plain": [
       "<Figure size 432x288 with 1 Axes>"
      ]
     },
     "metadata": {
      "needs_background": "light"
     },
     "output_type": "display_data"
    },
    {
     "data": {
      "text/markdown": [
       "Dari hasil $\\rho$ yang didapatkan, dapat disimpulkan bahwa bahwa kolom Bulatan dan Kelas berkorelasi **positif** dan termasuk **Korelasi kuat**."
      ],
      "text/plain": [
       "<IPython.core.display.Markdown object>"
      ]
     },
     "metadata": {},
     "output_type": "display_data"
    }
   ],
   "source": [
    "printMd(\"#### Bulatan\")\n",
    "printMd(\"Hasil korelasi kolom Bulatan(non-target) dengan kolom Kelas(target\")\n",
    "printMd(\"$\\\\rho_{Bulatan,Kelas} = $\"+str(gandum['Bulatan'].corr(gandum['Kelas'])))\n",
    "plt.title(\"Scatter Plot antara kolom Bulatan dengan Kelas\")\n",
    "plt.scatter(x=gandum['Bulatan'],y=gandum['Kelas'])\n",
    "plt.xlabel(\"Bulatan\")\n",
    "plt.ylabel(\"Kelas\")\n",
    "plt.show()\n",
    "printMd(\"Dari hasil $\\\\rho$ yang didapatkan, dapat disimpulkan bahwa bahwa kolom Bulatan dan Kelas berkorelasi **positif** dan termasuk **Korelasi kuat**.\")"
   ]
  },
  {
   "cell_type": "code",
   "execution_count": 45,
   "metadata": {},
   "outputs": [
    {
     "data": {
      "text/markdown": [
       "#### Ransum"
      ],
      "text/plain": [
       "<IPython.core.display.Markdown object>"
      ]
     },
     "metadata": {},
     "output_type": "display_data"
    },
    {
     "data": {
      "text/markdown": [
       "Hasil korelasi kolom Ransum(non-target) dengan kolom Kelas(target"
      ],
      "text/plain": [
       "<IPython.core.display.Markdown object>"
      ]
     },
     "metadata": {},
     "output_type": "display_data"
    },
    {
     "data": {
      "text/markdown": [
       "$\\rho_{Ransum,Kelas} = $-0.8399038681287546"
      ],
      "text/plain": [
       "<IPython.core.display.Markdown object>"
      ]
     },
     "metadata": {},
     "output_type": "display_data"
    },
    {
     "data": {
      "image/png": "[encoded data removed]",
      "text/plain": [
       "<Figure size 432x288 with 1 Axes>"
      ]
     },
     "metadata": {
      "needs_background": "light"
     },
     "output_type": "display_data"
    },
    {
     "data": {
      "text/markdown": [
       "Dari hasil $\\rho$ yang didapatkan, dapat disimpulkan bahwa bahwa kolom Ransum dan Kelas berkorelasi **negatif** dan termasuk **Korelasi  sangat kuat**."
      ],
      "text/plain": [
       "<IPython.core.display.Markdown object>"
      ]
     },
     "metadata": {},
     "output_type": "display_data"
    }
   ],
   "source": [
    "printMd(\"#### Ransum\")\n",
    "printMd(\"Hasil korelasi kolom Ransum(non-target) dengan kolom Kelas(target\")\n",
    "printMd(\"$\\\\rho_{Ransum,Kelas} = $\"+str(gandum['Ransum'].corr(gandum['Kelas'])))\n",
    "plt.title(\"Scatter Plot antara kolom Ransum dengan Kelas\")\n",
    "plt.scatter(x=gandum['Ransum'],y=gandum['Kelas'])\n",
    "plt.xlabel(\"Ransum\")\n",
    "plt.ylabel(\"Kelas\")\n",
    "plt.show()\n",
    "printMd(\"Dari hasil $\\\\rho$ yang didapatkan, dapat disimpulkan bahwa bahwa kolom Ransum dan Kelas berkorelasi **negatif** dan termasuk **Korelasi  sangat kuat**.\")"
   ]
  },
  {
   "cell_type": "markdown",
   "metadata": {},
   "source": [
    "## Referensi\n",
    ".<br>\n",
    ".<br>\n",
    "<b>Kalkulator titik kritis</b><br>\n",
    "https://www.omnicalculator.com/statistics/critical-value<br>\n",
    "<b>Uji Z</b><br>\n",
    "https://www.rumusstatistik.com/2016/11/uji-z-hipotesis-proporsi-dua-populasi.html<br>\n",
    "<b>Test Korelasi</b><br>\n",
    "https://ujistatistikhalal.com/blog/uji-korelasi-r-dan-spss/#Definisi_Pearsons_Correlation_Test"
   ]
  },
  {
   "cell_type": "code",
   "execution_count": null,
   "metadata": {},
   "outputs": [],
   "source": []
  }
 ],
 "metadata": {
  "kernelspec": {
   "display_name": "Python 3",
   "language": "python",
   "name": "python3"
  },
  "language_info": {
   "codemirror_mode": {
    "name": "ipython",
    "version": 3
   },
   "file_extension": ".py",
   "mimetype": "text/x-python",
   "name": "python",
   "nbconvert_exporter": "python",
   "pygments_lexer": "ipython3",
   "version": "3.8.5"
  }
 },
 "nbformat": 4,
 "nbformat_minor": 4
}
