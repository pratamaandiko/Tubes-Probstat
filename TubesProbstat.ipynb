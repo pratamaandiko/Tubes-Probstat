{
 "cells": [
  {
   "cell_type": "markdown",
   "metadata": {},
   "source": [
    "# Tugas Besar - IF2220 - Probabilitas dan Statistika"
   ]
  },
  {
   "cell_type": "code",
   "execution_count": null,
   "metadata": {},
   "outputs": [],
   "source": []
  },
  {
   "cell_type": "markdown",
   "metadata": {},
   "source": [
    "## Soal"
   ]
  },
  {
   "cell_type": "markdown",
   "metadata": {},
   "source": [
    "Diberikan sebuah data Gandum.csv yang dapat diakses pada utas berikut: Dataset Tugas Besar IF2220. Gandum.csv merupakan data klasifikasi biji gandum yang mengandung 12 kolom sebagai berikut:\n",
    "1. id\n",
    "2. Daerah\n",
    "3. SumbuUtama\n",
    "4. SumbuKecil\n",
    "5. Keunikan\n",
    "6. AreaBulatan\n",
    "7. Diameter\n",
    "8. KadarAir\n",
    "9. Keliling\n",
    "10. Bulatan\n",
    "11. Ransum\n",
    "12. Kelas\n",
    "\n",
    "Kolom 2-11 adalah kolom atribut (non-target), sedangkan kolom 12 adalah kolom target.\n",
    "Anda diminta untuk melakukan analisis statistika sebagai berikut:"
   ]
  },
  {
   "cell_type": "markdown",
   "metadata": {},
   "source": [
    "### 1.Menulis deskripsi statistika (Descriptive Statistics) \n",
    "dari semua kolom pada data yang bersifat numerik, terdiri dari mean, median, modus, standar deviasi, variansi, range, nilai minimum, maksimum, kuartil, IQR, skewness dan kurtosis. Boleh juga ditambahkan deskripsi lain."
   ]
  },
  {
   "cell_type": "code",
   "execution_count": 6,
   "metadata": {
    "scrolled": true
   },
   "outputs": [
    {
     "data": {
      "text/html": [
       "<div>\n",
       "<style scoped>\n",
       "    .dataframe tbody tr th:only-of-type {\n",
       "        vertical-align: middle;\n",
       "    }\n",
       "\n",
       "    .dataframe tbody tr th {\n",
       "        vertical-align: top;\n",
       "    }\n",
       "\n",
       "    .dataframe thead th {\n",
       "        text-align: right;\n",
       "    }\n",
       "</style>\n",
       "<table border=\"1\" class=\"dataframe\">\n",
       "  <thead>\n",
       "    <tr style=\"text-align: right;\">\n",
       "      <th></th>\n",
       "      <th>id</th>\n",
       "      <th>Daerah</th>\n",
       "      <th>SumbuUtama</th>\n",
       "      <th>SumbuKecil</th>\n",
       "      <th>Keunikan</th>\n",
       "      <th>AreaBulatan</th>\n",
       "      <th>Diameter</th>\n",
       "      <th>KadarAir</th>\n",
       "      <th>Keliling</th>\n",
       "      <th>Bulatan</th>\n",
       "      <th>Ransum</th>\n",
       "      <th>Kelas</th>\n",
       "    </tr>\n",
       "  </thead>\n",
       "  <tbody>\n",
       "    <tr>\n",
       "      <th>0</th>\n",
       "      <td>2</td>\n",
       "      <td>4176</td>\n",
       "      <td>109.348294</td>\n",
       "      <td>49.837688</td>\n",
       "      <td>0.890098</td>\n",
       "      <td>4277</td>\n",
       "      <td>72.918093</td>\n",
       "      <td>0.596231</td>\n",
       "      <td>260.346</td>\n",
       "      <td>0.774227</td>\n",
       "      <td>2.194088</td>\n",
       "      <td>1</td>\n",
       "    </tr>\n",
       "    <tr>\n",
       "      <th>1</th>\n",
       "      <td>3</td>\n",
       "      <td>4555</td>\n",
       "      <td>114.427991</td>\n",
       "      <td>52.151207</td>\n",
       "      <td>0.890105</td>\n",
       "      <td>4706</td>\n",
       "      <td>76.155145</td>\n",
       "      <td>0.776641</td>\n",
       "      <td>279.606</td>\n",
       "      <td>0.732159</td>\n",
       "      <td>2.194158</td>\n",
       "      <td>1</td>\n",
       "    </tr>\n",
       "    <tr>\n",
       "      <th>2</th>\n",
       "      <td>4</td>\n",
       "      <td>4141</td>\n",
       "      <td>108.701191</td>\n",
       "      <td>49.457349</td>\n",
       "      <td>0.890499</td>\n",
       "      <td>4236</td>\n",
       "      <td>72.611879</td>\n",
       "      <td>0.633180</td>\n",
       "      <td>260.478</td>\n",
       "      <td>0.766960</td>\n",
       "      <td>2.197877</td>\n",
       "      <td>1</td>\n",
       "    </tr>\n",
       "    <tr>\n",
       "      <th>3</th>\n",
       "      <td>5</td>\n",
       "      <td>5273</td>\n",
       "      <td>122.747869</td>\n",
       "      <td>55.757848</td>\n",
       "      <td>0.890876</td>\n",
       "      <td>5431</td>\n",
       "      <td>81.937733</td>\n",
       "      <td>0.669842</td>\n",
       "      <td>302.730</td>\n",
       "      <td>0.723031</td>\n",
       "      <td>2.201446</td>\n",
       "      <td>1</td>\n",
       "    </tr>\n",
       "    <tr>\n",
       "      <th>4</th>\n",
       "      <td>6</td>\n",
       "      <td>5371</td>\n",
       "      <td>123.943530</td>\n",
       "      <td>56.235398</td>\n",
       "      <td>0.891145</td>\n",
       "      <td>5531</td>\n",
       "      <td>82.695644</td>\n",
       "      <td>0.734144</td>\n",
       "      <td>297.114</td>\n",
       "      <td>0.764573</td>\n",
       "      <td>2.204013</td>\n",
       "      <td>1</td>\n",
       "    </tr>\n",
       "  </tbody>\n",
       "</table>\n",
       "</div>"
      ],
      "text/plain": [
       "   id  Daerah  SumbuUtama  SumbuKecil  Keunikan  AreaBulatan   Diameter  \\\n",
       "0   2    4176  109.348294   49.837688  0.890098         4277  72.918093   \n",
       "1   3    4555  114.427991   52.151207  0.890105         4706  76.155145   \n",
       "2   4    4141  108.701191   49.457349  0.890499         4236  72.611879   \n",
       "3   5    5273  122.747869   55.757848  0.890876         5431  81.937733   \n",
       "4   6    5371  123.943530   56.235398  0.891145         5531  82.695644   \n",
       "\n",
       "   KadarAir  Keliling   Bulatan    Ransum  Kelas  \n",
       "0  0.596231   260.346  0.774227  2.194088      1  \n",
       "1  0.776641   279.606  0.732159  2.194158      1  \n",
       "2  0.633180   260.478  0.766960  2.197877      1  \n",
       "3  0.669842   302.730  0.723031  2.201446      1  \n",
       "4  0.734144   297.114  0.764573  2.204013      1  "
      ]
     },
     "execution_count": 6,
     "metadata": {},
     "output_type": "execute_result"
    }
   ],
   "source": [
    "# Import data\n",
    "import pandas as pd\n",
    "gandum = pd.read_csv(\"Gandum.csv\")\n",
    "gandum.columns = ['id','Daerah','SumbuUtama','SumbuKecil','Keunikan','AreaBulatan','Diameter','KadarAir','Keliling','Bulatan','Ransum','Kelas']\n",
    "gandum.head()"
   ]
  },
  {
   "cell_type": "code",
   "execution_count": null,
   "metadata": {},
   "outputs": [],
   "source": [
    "print(\"------------- Mean -------------\")\n",
    "print(gandum.mean(numeric_only=True))\n",
    "print(\"\\n\\n\")\n",
    "print(\"------------- Median -------------\")\n",
    "print(gandum.median(numeric_only=True))\n",
    "#asumsi NaN tidak bisa menjadi mode\n",
    "print(\"\\n\\n\")\n",
    "print(\"------------- Mode -------------\")\n",
    "print(gandum.mode(numeric_only=True, dropna=True))\n",
    "print(\"\\n\\n\")\n",
    "print(\"------------- Std. Deviasi -------------\")\n",
    "print(gandum.std(numeric_only=True))\n",
    "print(\"\\n\\n\")\n",
    "print(\"------------- Varians -------------\")\n",
    "# print(gandum.std(numeric_only=True))\n",
    "print(\"\\n\\n\")\n",
    "print(\"------------- Range -------------\")\n",
    "# print(gandum.std(numeric_only=True))\n",
    "print(\"\\n\\n\")\n",
    "print(\"------------- Minimum -------------\")\n",
    "# print(gandum.std(numeric_only=True))\n",
    "print(\"\\n\\n\")\n",
    "print(\"------------- Maksimum -------------\")\n",
    "# print(gandum.std(numeric_only=True))\n",
    "print(\"\\n\\n\")\n",
    "print(\"------------- Kuartil -------------\")\n",
    "# print(gandum.std(numeric_only=True))\n",
    "print(\"\\n\\n\")\n",
    "print(\"------------- IQR -------------\")\n",
    "# print(gandum.std(numeric_only=True))\n",
    "print(\"\\n\\n\")\n",
    "print(\"------------- Skewness -------------\")\n",
    "# print(gandum.std(numeric_only=True))\n",
    "print(\"\\n\\n\")\n",
    "print(\"------------- Kurtosis -------------\")\n",
    "# print(gandum.std(numeric_only=True))\n",
    "print(\"\\n\\n\")"
   ]
  },
  {
   "cell_type": "markdown",
   "metadata": {},
   "source": [
    "### 2. Membuat Visualisasi plot distribusi\n",
    "dalam bentuk histogram dan boxplot untuk setiap kolom numerik. Berikan uraian penjelasan kondisi setiap kolom berdasarkan kedua plot tersebut."
   ]
  },
  {
   "cell_type": "code",
   "execution_count": null,
   "metadata": {},
   "outputs": [],
   "source": []
  },
  {
   "cell_type": "markdown",
   "metadata": {},
   "source": [
    "### 3. Menentukan setiap kolom numerik berdistribusi normal atau tidak\n",
    "Gunakan normality test yang dikaitkan dengan histogram plot."
   ]
  },
  {
   "cell_type": "code",
   "execution_count": null,
   "metadata": {},
   "outputs": [],
   "source": []
  },
  {
   "cell_type": "markdown",
   "metadata": {},
   "source": [
    "### 4. Melakukan test hipotesis 1 sampel, dengan menuliskan 6 langkah testing\n",
    "   menampilkan juga boxplotnya untuk kolom/bagian yang bersesuaian.<br>\n",
    "   <ul>\n",
    "    <li>Nilai rata-rata Daerah di atas 4700?</li>\n",
    "    <li>Nilai Rata-rata Sumbu Utama tidak sama dengan 116?</li>\n",
    "    <li>Nilai Rata-rata 20 baris pertama kolom Sumbu Kecil bukan 50?</li>\n",
    "    <li>Proporsi nilai Diameter yang lebih dari 85, adalah tidak sama dengan 15% ?</li>\n",
    "    <li>Proporsi nilai Keliling yang kurang dari 100, adalah kurang dari 5% ?</li>\n",
    "   </ul>"
   ]
  },
  {
   "cell_type": "code",
   "execution_count": null,
   "metadata": {},
   "outputs": [],
   "source": []
  },
  {
   "cell_type": "markdown",
   "metadata": {},
   "source": [
    "### 5. Melakukan test hipotesis 2 sampel, dengan menuliskan 6 langkah testing \n",
    "menampilkan juga boxplotnya untuk kolom/bagian yang bersesuaian.\n",
    "<ul>\n",
    "    <li>Data kolom AreaBulatan dibagi 2 sama rata: bagian awal dan bagian akhir kolom. Benarkah rata-rata kedua bagian tersebut sama?</li>\n",
    "    <li>Data kolom Kadar Air dibagi 2 sama rata: bagian awal dan bagian akhir kolom. Benarkah rata-rata bagian awal lebih besar dari pada bagian akhir sebesar 0.2?</li>\n",
    "    <li>Rata-rata 20 baris pertama kolom Bulatan sama dengan 20 baris terakhirnya?</li>\n",
    "    <li>Proporsi nilai bagian awal Ransum yang lebih dari 2, adalah lebih besar daripada, proporsi nilai yang sama di bagian akhir Ransum?</li>\n",
    "    <li>Bagian awal kolom Diameter memiliki variansi yang sama dengan bagian akhirnya?</li>\n",
    "</ul>"
   ]
  },
  {
   "cell_type": "code",
   "execution_count": null,
   "metadata": {},
   "outputs": [],
   "source": []
  },
  {
   "cell_type": "markdown",
   "metadata": {},
   "source": [
    "### 6. Test korelasi\n",
    "tentukan apakah setiap kolom non-target berkorelasi dengan kolom target, dengan menggambarkan juga scatter plot nya. Gunakan correlation test."
   ]
  },
  {
   "cell_type": "code",
   "execution_count": null,
   "metadata": {},
   "outputs": [],
   "source": []
  }
 ],
 "metadata": {
  "kernelspec": {
   "display_name": "Python 3",
   "language": "python",
   "name": "python3"
  },
  "language_info": {
   "codemirror_mode": {
    "name": "ipython",
    "version": 3
   },
   "file_extension": ".py",
   "mimetype": "text/x-python",
   "name": "python",
   "nbconvert_exporter": "python",
   "pygments_lexer": "ipython3",
   "version": "3.8.5"
  }
 },
 "nbformat": 4,
 "nbformat_minor": 4
}
